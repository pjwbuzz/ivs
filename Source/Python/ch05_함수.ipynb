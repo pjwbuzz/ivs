{
 "cells": [
  {
   "cell_type": "markdown",
   "id": "7bc57166-df9a-43e8-9fe9-d765ea8dadd4",
   "metadata": {},
   "source": [
    "# <font color=\"#9932CC\" size=\"10\"><b>ch05. 함수</b></font>\n",
    "    - 반복해서 사용할 코드를 묶어서 구현해 높은 것\n",
    "    - 같은 이름의 함수는 덮어씀(오버로딩 불가)\n",
    "    - 함수 정의(구현)\n",
    "    ```\n",
    "        def 함수명 ([인수, 인수2, ...]): #인수가 튜플, 딕셔너리 등등 많이 있는데 순서를 잘 지켜줘야함\n",
    "            명령어1\n",
    "            명령어2\n",
    "    ```\n"
   ]
  },
  {
   "cell_type": "markdown",
   "id": "d02456c4-9b96-4d8f-99d0-a5ba4efe3011",
   "metadata": {},
   "source": [
    "# 1절. 함수의 정의 및 사용(호출)\n",
    "## 1.1"
   ]
  },
  {
   "cell_type": "code",
   "execution_count": null,
   "id": "b138d06a-4aae-4b70-b110-f5033025aa6a",
   "metadata": {},
   "outputs": [],
   "source": [
    "def my_hello(x, msg): #함수정의, 매개변수 2개짜리 함수\n",
    "    for i in range(x):\n",
    "        print(i, msg)\n",
    "        "
   ]
  },
  {
   "cell_type": "code",
   "execution_count": null,
   "id": "179d7d29-f5b3-4322-bb4b-aae104a6c334",
   "metadata": {},
   "outputs": [],
   "source": [
    "my_hello(4,'쉬는시간입니다.')"
   ]
  },
  {
   "cell_type": "code",
   "execution_count": null,
   "id": "53f0e61e-2c2e-4cd9-bfbc-6e6106f01ac8",
   "metadata": {},
   "outputs": [],
   "source": [
    "type(my_hello) #함수도 변수다! data type function"
   ]
  },
  {
   "cell_type": "code",
   "execution_count": null,
   "id": "03454ef3-989c-4bfb-af98-b7224e2376f5",
   "metadata": {},
   "outputs": [],
   "source": [
    "my_hello = 10 \n",
    "type(my_hello)  #이러면 이제 함수가아님 int type"
   ]
  },
  {
   "cell_type": "code",
   "execution_count": null,
   "id": "8f0462fd-6dbf-4d09-b41f-8ebb8137fc1c",
   "metadata": {},
   "outputs": [],
   "source": [
    "def my_hello(x):\n",
    "    for i in range(x):\n",
    "        print(i, \"함수는 복습 필수\")\n",
    "\n",
    "my_hello(1,2) #매개변수개수 안맞으면 에러남"
   ]
  },
  {
   "cell_type": "code",
   "execution_count": null,
   "id": "a8414788-89b0-433a-a01e-940202777867",
   "metadata": {},
   "outputs": [],
   "source": [
    "# print 같은 경우는 매개변수 개수가 상관없는데 ? 어떻게하지\n",
    "def my_add(num1,num2,num3=0): #num3은 기본값을 갖는 인수\n",
    "                        #기본값을 갖는 인수는 순서인수 뒤에, 순서 잘 지켜줘야함\n",
    "    return num1 + num2 + num3 \n",
    "print(my_add(1,2,3))\n",
    "print(my_add(1,2))"
   ]
  },
  {
   "cell_type": "markdown",
   "id": "b0266570-b560-4b96-b61a-494fbee1fecf",
   "metadata": {},
   "source": [
    "## 1.2 docstring\n",
    "    - 함수 도움말 : shift + tab 으로 볼 수 있음"
   ]
  },
  {
   "cell_type": "code",
   "execution_count": null,
   "id": "69556fa0-3221-4f2f-b040-7dd1031ebf31",
   "metadata": {},
   "outputs": [],
   "source": [
    "# def fibonacci(n):\n",
    "#     \"\"\"\n",
    "#     매개변수로 들어온 n값 미만의 피보나치 수열을 출력하는 함수\n",
    "#     ex. 인수(매개변수)로 10 : 0, 1, 1, 2, 3, 5, 8  (13은 10이상이니까 출력X)\n",
    "#     ex. 인수로 5 : 0. 1. 1. 2. 3. 5\n",
    "#     \"\"\"\n",
    "#     a,b = 0,1   #이렇게 선언하면 내부적으로 (a,b) (0,1) 튜플이 됨\n",
    "#     while a<n:\n",
    "#         print(a, end=\". \")\n",
    "#         a,b = b,a+b\n",
    "#     print() #개행"
   ]
  },
  {
   "cell_type": "code",
   "execution_count": 1,
   "id": "0cf0f74f-0ec1-461b-b0fb-b2e96b5922bf",
   "metadata": {},
   "outputs": [
    {
     "ename": "NameError",
     "evalue": "name 'fibonacci' is not defined",
     "output_type": "error",
     "traceback": [
      "\u001b[1;31m---------------------------------------------------------------------------\u001b[0m",
      "\u001b[1;31mNameError\u001b[0m                                 Traceback (most recent call last)",
      "Cell \u001b[1;32mIn[1], line 1\u001b[0m\n\u001b[1;32m----> 1\u001b[0m fibonacci\n",
      "\u001b[1;31mNameError\u001b[0m: name 'fibonacci' is not defined"
     ]
    }
   ],
   "source": [
    "fibonacci"
   ]
  },
  {
   "cell_type": "code",
   "execution_count": null,
   "id": "4be49fb5-14bc-4edd-a012-d9225bb75f19",
   "metadata": {},
   "outputs": [],
   "source": [
    "__name__"
   ]
  },
  {
   "cell_type": "code",
   "execution_count": null,
   "id": "54a33029-5782-4c09-8f61-1d243c9ae630",
   "metadata": {},
   "outputs": [],
   "source": [
    "if __name__ == '__main__' :\n",
    "    fibonacci(100)"
   ]
  },
  {
   "cell_type": "code",
   "execution_count": 7,
   "id": "74a15846-3c8b-455c-a84e-18b0371d5fb9",
   "metadata": {},
   "outputs": [
    {
     "name": "stdout",
     "output_type": "stream",
     "text": [
      "0. 1. 1. 2. 3. \n"
     ]
    }
   ],
   "source": [
    "import fibonacci as fibo  #aias를 줄 수 있다.\n",
    "fibo.fibonacci(5)"
   ]
  },
  {
   "cell_type": "markdown",
   "id": "c47dcf07-9249-4a14-a023-920944daeae9",
   "metadata": {},
   "source": [
    "## 1.3 지역변수(local var) 와 전역변수(global var)"
   ]
  },
  {
   "cell_type": "code",
   "execution_count": 12,
   "id": "44de71be-9432-4989-a708-e2c9f22c7c4a",
   "metadata": {},
   "outputs": [
    {
     "name": "stdout",
     "output_type": "stream",
     "text": [
      "100\n",
      "100\n"
     ]
    }
   ],
   "source": [
    "global_var = 100 #전역변수 \n",
    "def func1() :\n",
    "    print(global_var)\n",
    "    \n",
    "func1()\n",
    "print(global_var)\n",
    "\n"
   ]
  },
  {
   "cell_type": "code",
   "execution_count": 13,
   "id": "59b4e4aa-a0f3-4f90-9a07-315a6f768916",
   "metadata": {},
   "outputs": [
    {
     "name": "stdout",
     "output_type": "stream",
     "text": [
      "100\n"
     ]
    }
   ],
   "source": [
    "def func2():\n",
    "    local_var = 100\n",
    "    print(local_var)  #얘는 지역변수, 함수 내에서만 사용 가능한 변수\n",
    "func2()"
   ]
  },
  {
   "cell_type": "code",
   "execution_count": 20,
   "id": "3b8a1474-35bd-429a-96d4-ab8e0c11b4db",
   "metadata": {},
   "outputs": [
    {
     "name": "stdout",
     "output_type": "stream",
     "text": [
      "200\n"
     ]
    }
   ],
   "source": [
    "g_var = 100 #전역변수\n",
    "def func3():\n",
    "    g_var = 200  #이러면 지역변수임..! 지역변수 선언\n",
    "    print(g_var)\n",
    "func3()"
   ]
  },
  {
   "cell_type": "code",
   "execution_count": 17,
   "id": "0e0a600b-24fb-4820-a4ae-c122e5fc9ae7",
   "metadata": {},
   "outputs": [
    {
     "data": {
      "text/plain": [
       "100"
      ]
     },
     "execution_count": 17,
     "metadata": {},
     "output_type": "execute_result"
    }
   ],
   "source": [
    "g_var #얘는 전역변수 호출"
   ]
  },
  {
   "cell_type": "code",
   "execution_count": 21,
   "id": "b1a5b245-d9bb-416c-8b5f-bed091ed8196",
   "metadata": {},
   "outputs": [
    {
     "ename": "UnboundLocalError",
     "evalue": "cannot access local variable 'g_var' where it is not associated with a value",
     "output_type": "error",
     "traceback": [
      "\u001b[1;31m---------------------------------------------------------------------------\u001b[0m",
      "\u001b[1;31mUnboundLocalError\u001b[0m                         Traceback (most recent call last)",
      "Cell \u001b[1;32mIn[21], line 6\u001b[0m\n\u001b[0;32m      4\u001b[0m     g_var \u001b[38;5;241m=\u001b[39m \u001b[38;5;241m200\u001b[39m  \n\u001b[0;32m      5\u001b[0m     \u001b[38;5;28mprint\u001b[39m(g_var)\n\u001b[1;32m----> 6\u001b[0m func3()\n",
      "Cell \u001b[1;32mIn[21], line 3\u001b[0m, in \u001b[0;36mfunc3\u001b[1;34m()\u001b[0m\n\u001b[0;32m      2\u001b[0m \u001b[38;5;28;01mdef\u001b[39;00m \u001b[38;5;21mfunc3\u001b[39m():\n\u001b[1;32m----> 3\u001b[0m     \u001b[38;5;28mprint\u001b[39m(g_var)    \u001b[38;5;66;03m#이러면 에러남 지역변수 할당이 아직 안돼서...\u001b[39;00m\n\u001b[0;32m      4\u001b[0m     g_var \u001b[38;5;241m=\u001b[39m \u001b[38;5;241m200\u001b[39m  \n\u001b[0;32m      5\u001b[0m     \u001b[38;5;28mprint\u001b[39m(g_var)\n",
      "\u001b[1;31mUnboundLocalError\u001b[0m: cannot access local variable 'g_var' where it is not associated with a value"
     ]
    }
   ],
   "source": [
    "g_var = 100 #전역변수\n",
    "def func3():\n",
    "    print(g_var)    #이러면 에러남 지역변수 할당이 아직 안돼서...\n",
    "    g_var = 200  \n",
    "    print(g_var)\n",
    "func3()"
   ]
  },
  {
   "cell_type": "markdown",
   "id": "00311239-5a68-437d-800d-061296d15929",
   "metadata": {},
   "source": [
    "## 1.4 Lexical 특성"
   ]
  },
  {
   "cell_type": "markdown",
   "id": "373af48f-32dd-4b01-9cb4-676b5271b306",
   "metadata": {},
   "source": [
    "## 1.5 전역변수 수정"
   ]
  },
  {
   "cell_type": "code",
   "execution_count": 22,
   "id": "3612ffb5-a8fd-430f-b088-37b30a814aaf",
   "metadata": {},
   "outputs": [
    {
     "name": "stdout",
     "output_type": "stream",
     "text": [
      "100\n",
      "200\n"
     ]
    }
   ],
   "source": [
    "g_var = 100 #전역변수\n",
    "def func3():\n",
    "    global g_var  #함수 내에서 g_var는 전역변수로 쓴다고 선언\n",
    "    print(g_var)    #이러면 에러남 지역변수 할당이 아직 안돼서...\n",
    "    g_var = 200     #전역변수에 값을 할당하려하지만 함수는 모름 -> 전역변수 사용 선언을 하면 괜찮아짐\n",
    "    print(g_var)\n",
    "func3()"
   ]
  },
  {
   "cell_type": "markdown",
   "id": "0e837e57-fa97-49f7-a9a5-f7073907241f",
   "metadata": {},
   "source": [
    "## 1.6 값에 의한 호출 (call by value)\n",
    "    - 함수에 인수로 전달되는 변수가 스칼라 변수(숫자, 문자, 논리)일 경우\n",
    "    "
   ]
  },
  {
   "cell_type": "code",
   "execution_count": 28,
   "id": "2e5f2cd5-4c44-4454-a1d5-6317c85dbaf6",
   "metadata": {},
   "outputs": [
    {
     "data": {
      "text/plain": [
       "2439531314080"
      ]
     },
     "execution_count": 28,
     "metadata": {},
     "output_type": "execute_result"
    }
   ],
   "source": [
    "foo = 'ab' #스칼라변수\n",
    "id(foo)"
   ]
  },
  {
   "cell_type": "code",
   "execution_count": 27,
   "id": "954eef42-e03a-4631-9e84-3d4aeb1d02b6",
   "metadata": {},
   "outputs": [
    {
     "name": "stdout",
     "output_type": "stream",
     "text": [
      "Before : ab의 주소는 2439531314080\n",
      "after : ababab의 주소는 2437455005760\n",
      "함수 호출 후 foo : ab의 주소는 2439531314080\n"
     ]
    }
   ],
   "source": [
    "def func1(f) :\n",
    "    print(\"Before : {}의 주소는 {}\".format(f,id(f)))\n",
    "    f *= 3 #매개변수는 지역변수\n",
    "    print(\"after : {}의 주소는 {}\".format(f,id(f)))\n",
    "\n",
    "func1(foo)\n",
    "print(\"함수 호출 후 foo : {}의 주소는 {}\".format(foo,id(foo)))  #할당 될떄마다 주소가 바뀌니까 callbyvalue"
   ]
  },
  {
   "cell_type": "markdown",
   "id": "caec3020-e76c-46e5-868c-56f1f6ddaafc",
   "metadata": {},
   "source": [
    "## 1.7 참조에 의한 호출 (call by reference)"
   ]
  },
  {
   "cell_type": "code",
   "execution_count": 33,
   "id": "1556c3d5-f99c-4819-a0a3-5604a39fd56b",
   "metadata": {},
   "outputs": [
    {
     "name": "stdout",
     "output_type": "stream",
     "text": [
      "L의 내용은 [1, 2, 3], 주소는 2437455655488\n"
     ]
    }
   ],
   "source": [
    "L = [1,2,3]\n",
    "print(\"L의 내용은 {}, 주소는 {}\".format(L,id(L)))"
   ]
  },
  {
   "cell_type": "code",
   "execution_count": 34,
   "id": "7479c96a-6310-4d9a-a865-f88d22bab7b5",
   "metadata": {},
   "outputs": [
    {
     "name": "stdout",
     "output_type": "stream",
     "text": [
      "함수 내 before : L의 내용은 [1, 2, 3], 주소는 2437455655488\n",
      "함수 내 after : L의 내용은 [1, 2, 3, 4], 주소는 2437455655488\n",
      "L의 내용은 [1, 2, 3, 4], 주소는 2437455655488\n"
     ]
    }
   ],
   "source": [
    "def func2(f) :\n",
    "    print(\"함수 내 before : L의 내용은 {}, 주소는 {}\".format(L,id(L)))\n",
    "    f.append(4)\n",
    "    print(\"함수 내 after : L의 내용은 {}, 주소는 {}\".format(L,id(L)))\n",
    "\n",
    "func2(L)\n",
    "print(\"L의 내용은 {}, 주소는 {}\".format(L,id(L)))"
   ]
  },
  {
   "cell_type": "markdown",
   "id": "fe4fe311-056c-4cbf-8813-c5c8b832ac8e",
   "metadata": {},
   "source": [
    "# 2절. 함수의 실행결과를 반환하는 return\n",
    "    - 여러개의 값을 반환할 수 있다. (하나의 튜플로 바뀜)"
   ]
  },
  {
   "cell_type": "code",
   "execution_count": 36,
   "id": "7a8dcab5-13d7-487d-bd6f-1bf4f38e2a2c",
   "metadata": {},
   "outputs": [],
   "source": [
    "#여러값을 return\n",
    "def swap(a,b) :\n",
    "    return b,a  #x,y = 5,10 처럼 (b,a) 튜플로 return됨 , 튜플로 return 된 다음에 각각 대입됨"
   ]
  },
  {
   "cell_type": "code",
   "execution_count": 40,
   "id": "e20e0050-88fd-4ce5-a482-4653b61cde1b",
   "metadata": {},
   "outputs": [
    {
     "name": "stdout",
     "output_type": "stream",
     "text": [
      "함수 실행 전 x=5,y=10\n",
      "함수 실행 후 x=10,y=5\n"
     ]
    }
   ],
   "source": [
    "x,y = 5,10\n",
    "print(\"함수 실행 전 x={},y={}\".format(x,y))\n",
    "x,y = swap(x,y)\n",
    "print(\"함수 실행 후 x={},y={}\".format(x,y))"
   ]
  },
  {
   "cell_type": "markdown",
   "id": "bbf9bf19-69f8-417d-8fce-8aec8ded2946",
   "metadata": {},
   "source": [
    "# 3절. 함수의 매개변수\n",
    "## 3.1 기본값을 갖는 매개변수"
   ]
  },
  {
   "cell_type": "code",
   "execution_count": 41,
   "id": "9592c219-57a3-402b-baf7-beda7affb536",
   "metadata": {},
   "outputs": [],
   "source": [
    "def make_url(ip, port=80):  #여기서 port는 키워드인수는 아님\n",
    "    #순서인수, 기본값을 갖는 인수 순으로 \n",
    "    return \"http://{}:{}\".format(ip,port)  #포트번호 안적으면 80이다~"
   ]
  },
  {
   "cell_type": "code",
   "execution_count": 44,
   "id": "0d75a30a-ff6d-462d-9117-9fbf8fcb0acf",
   "metadata": {},
   "outputs": [
    {
     "name": "stdout",
     "output_type": "stream",
     "text": [
      "http://localhost:80\n",
      "http://localhost:8090\n",
      "http://localhost:8090\n"
     ]
    }
   ],
   "source": [
    "print(make_url(\"localhost\"))\n",
    "print(make_url(\"localhost\",8090))\n",
    "print(make_url(port=8090, ip=\"localhost\"))  #이렇게도 가능"
   ]
  },
  {
   "cell_type": "markdown",
   "id": "0afefb89-6dc4-4e61-aae6-153ec2764196",
   "metadata": {},
   "source": [
    "## 3.2 튜플 매개변수로 이용한 가변인수(인수갯수가 가변) 설정"
   ]
  },
  {
   "cell_type": "code",
   "execution_count": 46,
   "id": "1a4a4d74-138a-4be0-b542-6999570a3394",
   "metadata": {},
   "outputs": [
    {
     "name": "stdout",
     "output_type": "stream",
     "text": [
      "Hello World\n"
     ]
    }
   ],
   "source": [
    "#대표적인 예가 print 임\n",
    "print('Hello', 'World') #인수의 갯수가 가변 = 가변인수 -> 이거를 튜플 매개변수로 만듬"
   ]
  },
  {
   "cell_type": "code",
   "execution_count": 60,
   "id": "b52749fc-7124-4105-aff3-d12d46fe0281",
   "metadata": {},
   "outputs": [],
   "source": [
    "# args 앞에 * : args가 튜플로 전달  -> 튜플 매개변수\n",
    "def add(*args):\n",
    "    # print(\"전달받은 args :\", args)\n",
    "    # print(type(args))\n",
    "    sum = 0\n",
    "    for num in args:\n",
    "        sum += num\n",
    "    return sum"
   ]
  },
  {
   "cell_type": "code",
   "execution_count": 55,
   "id": "1bf1fe5b-2f05-459b-902f-9b13989c2b57",
   "metadata": {},
   "outputs": [
    {
     "name": "stdout",
     "output_type": "stream",
     "text": [
      "전달받은 args : ((1, 2, 3),)\n",
      "<class 'tuple'>\n"
     ]
    },
    {
     "ename": "TypeError",
     "evalue": "unsupported operand type(s) for +=: 'int' and 'tuple'",
     "output_type": "error",
     "traceback": [
      "\u001b[1;31m---------------------------------------------------------------------------\u001b[0m",
      "\u001b[1;31mTypeError\u001b[0m                                 Traceback (most recent call last)",
      "Cell \u001b[1;32mIn[55], line 1\u001b[0m\n\u001b[1;32m----> 1\u001b[0m add( (\u001b[38;5;241m1\u001b[39m,\u001b[38;5;241m2\u001b[39m,\u001b[38;5;241m3\u001b[39m) )\n",
      "Cell \u001b[1;32mIn[54], line 7\u001b[0m, in \u001b[0;36madd\u001b[1;34m(*args)\u001b[0m\n\u001b[0;32m      5\u001b[0m \u001b[38;5;28msum\u001b[39m \u001b[38;5;241m=\u001b[39m \u001b[38;5;241m0\u001b[39m\n\u001b[0;32m      6\u001b[0m \u001b[38;5;28;01mfor\u001b[39;00m num \u001b[38;5;129;01min\u001b[39;00m args:\n\u001b[1;32m----> 7\u001b[0m     \u001b[38;5;28msum\u001b[39m \u001b[38;5;241m+\u001b[39m\u001b[38;5;241m=\u001b[39m num;\n\u001b[0;32m      8\u001b[0m \u001b[38;5;28;01mreturn\u001b[39;00m \u001b[38;5;28msum\u001b[39m\n",
      "\u001b[1;31mTypeError\u001b[0m: unsupported operand type(s) for +=: 'int' and 'tuple'"
     ]
    }
   ],
   "source": [
    "add( (1,2,3) )  #매개변수에 튜플을 넣어야함. 그런데 이렇게 하기 싫다. 프린트처럼 간단하게 하고싶음\n",
    "#그렇게 알아서 받으라고 하는게 *임"
   ]
  },
  {
   "cell_type": "code",
   "execution_count": 57,
   "id": "ffb60886-c7c6-48ca-b3a6-6654f51e4fe3",
   "metadata": {},
   "outputs": [
    {
     "name": "stdout",
     "output_type": "stream",
     "text": [
      "전달받은 args : (1, 2, 3)\n",
      "<class 'tuple'>\n"
     ]
    },
    {
     "data": {
      "text/plain": [
       "6"
      ]
     },
     "execution_count": 57,
     "metadata": {},
     "output_type": "execute_result"
    }
   ],
   "source": [
    "add(1,2,3)  #이러면 1,2,3 = *args 가 되면서 매개변수를 튜플로 받음"
   ]
  },
  {
   "cell_type": "code",
   "execution_count": 61,
   "id": "9232a8e3-8958-47ef-80fe-eb10e58ba5e1",
   "metadata": {},
   "outputs": [
    {
     "name": "stdout",
     "output_type": "stream",
     "text": [
      "21\n",
      "3\n",
      "1\n"
     ]
    }
   ],
   "source": [
    "print(add(1,2,3,4,5,6)) #이제 매개변수 여러개여더 됨\n",
    "print(add(1,2))\n",
    "print(add(1))"
   ]
  },
  {
   "cell_type": "code",
   "execution_count": 62,
   "id": "266b10cb-3dc2-4137-84ba-5110f186bf55",
   "metadata": {},
   "outputs": [],
   "source": [
    "#두개 매개변수를 서로 다르게 받는 경우\n",
    "def concat(*args,sep) :\n",
    "    return sep.join(args)    "
   ]
  },
  {
   "cell_type": "code",
   "execution_count": 65,
   "id": "189a08ac-a32c-45fe-b90a-bfbfe60db19a",
   "metadata": {},
   "outputs": [],
   "source": [
    "concat(\"C\",\"Python\",\"oracle\",\"~\") # 이렇게 넣으면 C~Python~oracle 이렇게 나오게 하고 싶음,\n",
    "#그런데 이렇게 하면 어디까지가 튜플인지 판단하는게 문제가 생김, 전체가 튜플로 인식"
   ]
  },
  {
   "cell_type": "code",
   "execution_count": 66,
   "id": "ac4a1c13-3af8-4547-ac7b-7a44122d5486",
   "metadata": {},
   "outputs": [
    {
     "data": {
      "text/plain": [
       "'C~Python~oracle'"
      ]
     },
     "execution_count": 66,
     "metadata": {},
     "output_type": "execute_result"
    }
   ],
   "source": [
    "#해결책 1  (비추)\n",
    "concat(\"C\",\"Python\",\"oracle\", sep=\"~\")  #print가 이 형태임\n",
    "# 이때는 sep = 무조건 해줘야해서 비추 , 함수 정의부터 잘못됨..!"
   ]
  },
  {
   "cell_type": "code",
   "execution_count": 67,
   "id": "81fd1f11-aad2-44fc-9774-ca48f4e1ac02",
   "metadata": {},
   "outputs": [],
   "source": [
    "#해결책 2\n",
    "def concat(sep, *args) :  #순서인수>튜플인수  순서를 반드시 지켜라!\n",
    "    return sep.join(args) #이렇게 하면 무조건 순서인수 하나를 써야해서 순서인수를 받는다."
   ]
  },
  {
   "cell_type": "code",
   "execution_count": 68,
   "id": "323a7a4f-0b15-4779-81de-cd7d6d928f9b",
   "metadata": {},
   "outputs": [
    {
     "data": {
      "text/plain": [
       "'C~Python~oracle'"
      ]
     },
     "execution_count": 68,
     "metadata": {},
     "output_type": "execute_result"
    }
   ],
   "source": [
    "concat(\"~\",\"C\",\"Python\",\"oracle\")  "
   ]
  },
  {
   "cell_type": "code",
   "execution_count": 70,
   "id": "4c0833fb-9fe3-4302-8227-b8387260dda5",
   "metadata": {},
   "outputs": [],
   "source": [
    "#해결책 3 (강추)\n",
    "def concat(*args,sep=\"/\") :   #순서인수 > 튜플인수 > 키워드인수(기본값을 갖는 매개변수)\n",
    "    return sep.join(args)    "
   ]
  },
  {
   "cell_type": "code",
   "execution_count": 71,
   "id": "aeeb8035-3d2d-4adc-a8dc-813451e48529",
   "metadata": {},
   "outputs": [
    {
     "data": {
      "text/plain": [
       "'C~Python~oracle'"
      ]
     },
     "execution_count": 71,
     "metadata": {},
     "output_type": "execute_result"
    }
   ],
   "source": [
    "concat(\"C\",\"Python\",\"oracle\", sep=\"~\")"
   ]
  },
  {
   "cell_type": "markdown",
   "id": "d56c04e5-dba0-4e28-8620-82d8106f4920",
   "metadata": {},
   "source": [
    "## 3.3 딕셔너리 매개변수\n"
   ]
  },
  {
   "cell_type": "code",
   "execution_count": 79,
   "id": "ff233aeb-cbd6-4878-8df6-d0ec9ab8de8f",
   "metadata": {},
   "outputs": [],
   "source": [
    "def func(**args): #*두개면 args를 받아서 딕셔너리로 전달됨\n",
    "    # print(args)\n",
    "    # print(type(args))\n",
    "    for key, value in args.items():\n",
    "        print(\"{} : {}\".format(key, value))"
   ]
  },
  {
   "cell_type": "code",
   "execution_count": 80,
   "id": "e4a83f6b-b8a2-4429-94a3-898e4f641dc9",
   "metadata": {},
   "outputs": [
    {
     "name": "stdout",
     "output_type": "stream",
     "text": [
      "name : 홍길동\n",
      "age : 20\n"
     ]
    }
   ],
   "source": [
    "dic = {\"name\":\"홍길동\",\"age\":20}  #이렇게하면 ** 쓸 이유가 없다 ㄴㄴ\n",
    "#func(dic)\n",
    "func(name=\"홍길동\",age=20)"
   ]
  },
  {
   "cell_type": "code",
   "execution_count": 81,
   "id": "4aac1739-e944-42b6-ad2a-de7c81811eb0",
   "metadata": {},
   "outputs": [
    {
     "name": "stdout",
     "output_type": "stream",
     "text": [
      "gameName : 서바이벌C\n",
      "year : 2024\n",
      "price : 33000\n"
     ]
    }
   ],
   "source": [
    "func(gameName=\"서바이벌C\",year=2024,price=33000)"
   ]
  },
  {
   "cell_type": "markdown",
   "id": "7ee40808-c84a-4bb4-8d95-257ec27bcb6e",
   "metadata": {},
   "source": [
    "## 3.4 함수 정의시 매개변수의 순서\n",
    "- 순서인수 > 튜플인수(*) > 키워드인수(매개변수이름을 명시) > 딕셔너리인수(**)"
   ]
  },
  {
   "cell_type": "code",
   "execution_count": 84,
   "id": "3aca889d-c7ef-42c3-b8ff-0d5d1aeb7a1e",
   "metadata": {},
   "outputs": [],
   "source": [
    "def func(a,b,c,*d,e=10,**f) :\n",
    "    print('a=',a)\n",
    "    print('b=',b)\n",
    "    print('c=',c)\n",
    "    print('d=',d)\n",
    "    print('e=',e)\n",
    "    print('f=',f)"
   ]
  },
  {
   "cell_type": "code",
   "execution_count": 85,
   "id": "24bbd2a9-a568-43e7-9fa3-1515b3290cad",
   "metadata": {},
   "outputs": [
    {
     "name": "stdout",
     "output_type": "stream",
     "text": [
      "a= 10\n",
      "b= 20\n",
      "c= 30\n",
      "d= (1, 2, 3, 4, 5)\n",
      "e= 100\n",
      "f= {'height': 180, 'name': '홍길동', 'address': '서울시'}\n"
     ]
    }
   ],
   "source": [
    "func(10,20,30,1,2,3,4,5,e=100,height=180,name=\"홍길동\",address=\"서울시\")"
   ]
  },
  {
   "cell_type": "markdown",
   "id": "3d9ba3ea-541e-4f61-b2fc-e36685ab0f06",
   "metadata": {},
   "source": [
    "## 3.5 인수의 언패킹\n",
    "### *튜플인수 언패킹"
   ]
  },
  {
   "cell_type": "code",
   "execution_count": 87,
   "id": "80cf9b93-21b6-4589-8157-dff6572804ab",
   "metadata": {},
   "outputs": [],
   "source": [
    "# args 앞에 * : args가 튜플로 전달  -> 튜플 매개변수\n",
    "def add(*args):\n",
    "    # print(\"전달받은 args :\", args)\n",
    "    # print(type(args))\n",
    "    sum = 0\n",
    "    for num in args:\n",
    "        sum += num\n",
    "    return sum"
   ]
  },
  {
   "cell_type": "code",
   "execution_count": 88,
   "id": "9d57285f-fcda-404d-838d-328d51cd935e",
   "metadata": {},
   "outputs": [
    {
     "data": {
      "text/plain": [
       "6"
      ]
     },
     "execution_count": 88,
     "metadata": {},
     "output_type": "execute_result"
    }
   ],
   "source": [
    "data = (1,2,3)  #데이터는 튜플이어야함\n",
    "add(*data)   #함수에도 *로 패킹, 전달할때도 *로 패킹, 알아서 풀어서 튜플로 받도록 함"
   ]
  },
  {
   "cell_type": "markdown",
   "id": "afc79e51-f7f2-4c94-b9e7-ddc6e18a0d45",
   "metadata": {},
   "source": [
    "\n",
    "### *딕셔너리 인수 언패킹"
   ]
  },
  {
   "cell_type": "code",
   "execution_count": 94,
   "id": "441c8ece-5992-4f6e-b266-57e5b56699cd",
   "metadata": {},
   "outputs": [],
   "source": [
    "def func(**args): #*두개면 args를 받아서 딕셔너리로 전달됨\n",
    "    # print(args)\n",
    "    # print(type(args))\n",
    "    for key, value in args.items():\n",
    "        print(\"{} : {}\".format(key, value))"
   ]
  },
  {
   "cell_type": "markdown",
   "id": "18850b0c-e4a4-4fde-b653-ebb088db51c7",
   "metadata": {},
   "source": [
    "func(name=\"홍길동\",age=30)  #이러면 패킹해서 알아서 받음"
   ]
  },
  {
   "cell_type": "code",
   "execution_count": 96,
   "id": "e3ec672a-8595-47fd-9f69-a2b961baa91f",
   "metadata": {},
   "outputs": [
    {
     "name": "stdout",
     "output_type": "stream",
     "text": [
      "name : 홍길동\n",
      "age : 30\n"
     ]
    }
   ],
   "source": [
    "dic = {\"name\":\"홍길동\",\"age\":30}  #딕셔너리 변수\n",
    "# func(\"홍길동\") #이렇게 주면 에러남 \n",
    "func(**dic)"
   ]
  },
  {
   "cell_type": "markdown",
   "id": "e75f5d10-0621-4aab-9b0c-7215d0c44f9a",
   "metadata": {},
   "source": [
    "# 4절. 람다식\n",
    "- 람다식은 작은 익명함수를 의미함\n",
    "- 실행할 문장을 한 문장만 작성할 수 있음\n",
    "- 리스트 컴프리헨션과 같이 참조해서 학습 추천\n",
    "- map, filter()에서 사용할 예정"
   ]
  },
  {
   "cell_type": "code",
   "execution_count": 97,
   "id": "1db4bc6f-3004-4360-a1ba-b3540437d2ff",
   "metadata": {},
   "outputs": [
    {
     "data": {
      "text/plain": [
       "8"
      ]
     },
     "execution_count": 97,
     "metadata": {},
     "output_type": "execute_result"
    }
   ],
   "source": [
    "# 일반함수\n",
    "def add(a,b):\n",
    "    return a+b\n",
    "add(3,5)"
   ]
  },
  {
   "cell_type": "code",
   "execution_count": 98,
   "id": "781ca31f-4d42-435e-9743-6684f78fc405",
   "metadata": {},
   "outputs": [
    {
     "data": {
      "text/plain": [
       "function"
      ]
     },
     "execution_count": 98,
     "metadata": {},
     "output_type": "execute_result"
    }
   ],
   "source": [
    "type(add) #add는 함수형이다 라고 딱 나옴"
   ]
  },
  {
   "cell_type": "code",
   "execution_count": 104,
   "id": "54f665a0-18c1-4406-a7dd-3e62437ba063",
   "metadata": {},
   "outputs": [],
   "source": [
    "#람다식으로 표현\n",
    "add = lambda a, b : a+b"
   ]
  },
  {
   "cell_type": "code",
   "execution_count": 106,
   "id": "80802638-d0a1-47e4-9575-6dbdc305d695",
   "metadata": {},
   "outputs": [
    {
     "data": {
      "text/plain": [
       "10"
      ]
     },
     "execution_count": 106,
     "metadata": {},
     "output_type": "execute_result"
    }
   ],
   "source": [
    "add(5,5)"
   ]
  },
  {
   "cell_type": "code",
   "execution_count": 107,
   "id": "117082af-fca7-407d-a3c1-2f07f9660dd5",
   "metadata": {},
   "outputs": [
    {
     "data": {
      "text/plain": [
       "function"
      ]
     },
     "execution_count": 107,
     "metadata": {},
     "output_type": "execute_result"
    }
   ],
   "source": [
    "type(add)"
   ]
  },
  {
   "cell_type": "code",
   "execution_count": 109,
   "id": "e9a27b98-f5a6-4b4e-ae18-73adeb24155b",
   "metadata": {},
   "outputs": [
    {
     "data": {
      "text/plain": [
       "11"
      ]
     },
     "execution_count": 109,
     "metadata": {},
     "output_type": "execute_result"
    }
   ],
   "source": [
    "#변수에 대입하지 않고도 사용가능\n",
    "(lambda a,b : a+b)(5,6)"
   ]
  },
  {
   "cell_type": "markdown",
   "id": "3876c6bd-a966-496a-a728-3747cc01d154",
   "metadata": {},
   "source": [
    "## * 매개변수로 람다식 이용"
   ]
  },
  {
   "cell_type": "code",
   "execution_count": 111,
   "id": "2c4a4050-faf8-4004-ae05-806b74a39d89",
   "metadata": {},
   "outputs": [
    {
     "data": {
      "text/plain": [
       "9"
      ]
     },
     "execution_count": 111,
     "metadata": {},
     "output_type": "execute_result"
    }
   ],
   "source": [
    "f = lambda x : x**2\n",
    "f(3)"
   ]
  },
  {
   "cell_type": "code",
   "execution_count": 112,
   "id": "1f19bc42-cdcc-4052-b831-5d453f5ab155",
   "metadata": {},
   "outputs": [],
   "source": [
    "def map_template(func, L=[]):\n",
    "    result = []\n",
    "    for data in L:\n",
    "        result.append(func(data))\n",
    "    return result"
   ]
  },
  {
   "cell_type": "code",
   "execution_count": 114,
   "id": "3ae60176-e07e-4aeb-9cbf-1870cec0d14e",
   "metadata": {},
   "outputs": [
    {
     "data": {
      "text/plain": [
       "[1, 4, 9, 16, 25]"
      ]
     },
     "execution_count": 114,
     "metadata": {},
     "output_type": "execute_result"
    }
   ],
   "source": [
    "list_data = [1,2,3,4,5]\n",
    "map_template(lambda x : x**2, list_data)\n",
    "# 이 map_Template를 하두 많이 써서 기본제공이됨"
   ]
  },
  {
   "cell_type": "code",
   "execution_count": 115,
   "id": "10bc3f1f-e268-4fb4-8c90-f298ec824292",
   "metadata": {},
   "outputs": [
    {
     "data": {
      "text/plain": [
       "[2, 4, 6, 8, 10]"
      ]
     },
     "execution_count": 115,
     "metadata": {},
     "output_type": "execute_result"
    }
   ],
   "source": [
    "list(map(lambda x:x*2,list_data))"
   ]
  },
  {
   "cell_type": "code",
   "execution_count": 116,
   "id": "01c8d367-5730-4fa7-9d2b-02d7e449d21f",
   "metadata": {},
   "outputs": [
    {
     "data": {
      "text/plain": [
       "[2, 4, 6, 8, 10]"
      ]
     },
     "execution_count": 116,
     "metadata": {},
     "output_type": "execute_result"
    }
   ],
   "source": [
    "# 리스트 컴프리헨션 이용\n",
    "[x*2 for x in list_data]  #간단한건 리스트 컴프리헨션 많이 이용"
   ]
  },
  {
   "cell_type": "code",
   "execution_count": 118,
   "id": "37d0d3c4-f6bb-47fb-b48f-6651a21a8cbc",
   "metadata": {},
   "outputs": [],
   "source": [
    "# Filter"
   ]
  },
  {
   "cell_type": "code",
   "execution_count": 121,
   "id": "eb21c5f3-752e-4a82-ba32-dcfe166f83a1",
   "metadata": {},
   "outputs": [],
   "source": [
    "list_data = list(range(0,20))"
   ]
  },
  {
   "cell_type": "code",
   "execution_count": 120,
   "id": "11bc8d75-61ef-41e3-868d-bd25053e2ede",
   "metadata": {},
   "outputs": [],
   "source": [
    "def filter_template(func, L=[]):\n",
    "    result = []\n",
    "    for data in L:\n",
    "        if func(data):\n",
    "            result.append(data)\n",
    "    return result"
   ]
  },
  {
   "cell_type": "code",
   "execution_count": 122,
   "id": "4112a655-4377-4fcd-85fc-68686abddbc4",
   "metadata": {},
   "outputs": [
    {
     "data": {
      "text/plain": [
       "[0, 2, 4, 6, 8, 10, 12, 14, 16, 18]"
      ]
     },
     "execution_count": 122,
     "metadata": {},
     "output_type": "execute_result"
    }
   ],
   "source": [
    "filter_template(lambda x : x%2==0,list_data)"
   ]
  },
  {
   "cell_type": "code",
   "execution_count": 125,
   "id": "c69a98e9-87e2-4007-8654-2d3c8c8b4c02",
   "metadata": {},
   "outputs": [
    {
     "data": {
      "text/plain": [
       "[0, 2, 4, 6, 8, 10, 12, 14, 16, 18]"
      ]
     },
     "execution_count": 125,
     "metadata": {},
     "output_type": "execute_result"
    }
   ],
   "source": [
    "list(filter(lambda x : x%2==0, list_data))"
   ]
  },
  {
   "cell_type": "code",
   "execution_count": 126,
   "id": "5b11f63a-26fd-4ec5-a39e-4f75e1d2d452",
   "metadata": {},
   "outputs": [
    {
     "data": {
      "text/plain": [
       "[0, 2, 4, 6, 8, 10, 12, 14, 16, 18]"
      ]
     },
     "execution_count": 126,
     "metadata": {},
     "output_type": "execute_result"
    }
   ],
   "source": [
    "# 리스트 컴프리헨션 이용하는 방법\n",
    "[x for x in list_data if x%2==0]"
   ]
  },
  {
   "cell_type": "code",
   "execution_count": null,
   "id": "0ffc4796-9eab-4f63-bf34-b4a5e9637850",
   "metadata": {},
   "outputs": [],
   "source": []
  },
  {
   "cell_type": "markdown",
   "id": "549f0c82-8029-4e7c-8980-748fabfca27c",
   "metadata": {},
   "source": [
    "# 5절. 파이썬 내장 함수"
   ]
  },
  {
   "cell_type": "markdown",
   "id": "f15d97ed-e79b-477b-96cd-324e2399a467",
   "metadata": {},
   "source": [
    "# 연습문제"
   ]
  },
  {
   "cell_type": "code",
   "execution_count": 141,
   "id": "32008a2e-ac12-4c6c-ba1b-7bbfc42c0cd4",
   "metadata": {},
   "outputs": [
    {
     "name": "stdout",
     "output_type": "stream",
     "text": [
      "(32, 1)\n"
     ]
    }
   ],
   "source": [
    "#함수의 인자로 리스트, 리스트 정수값 최대 최소 리턴\n",
    "def get_max_min(data_list) :\n",
    "    maxdata = max(data_list)\n",
    "    mindata = min(data_list)\n",
    "    return maxdata,mindata\n",
    "lst = [1,2,6,10,32,4]\n",
    "print(get_max_min(lst))"
   ]
  },
  {
   "cell_type": "code",
   "execution_count": 137,
   "id": "d815efdc-1f0e-41f7-978d-609e01a689cd",
   "metadata": {},
   "outputs": [
    {
     "data": {
      "text/plain": [
       "[3, 13, 14, 20, 30, 35]"
      ]
     },
     "execution_count": 137,
     "metadata": {},
     "output_type": "execute_result"
    }
   ],
   "source": [
    "#로또 생성 함수 make_lotto()\n",
    "import random\n",
    "def make_lotto() :\n",
    "    lotto = set()\n",
    "    while len(lotto)<6:\n",
    "        lotto.add(random.randint(1,45))\n",
    "    lotto = list(lotto)\n",
    "    lotto.sort()\n",
    "    return lotto\n",
    "    \n",
    "make_lotto()"
   ]
  },
  {
   "cell_type": "code",
   "execution_count": 153,
   "id": "70b3c367-434a-424d-925f-648a1fe36d0e",
   "metadata": {},
   "outputs": [
    {
     "data": {
      "text/plain": [
       "int"
      ]
     },
     "execution_count": 153,
     "metadata": {},
     "output_type": "execute_result"
    }
   ],
   "source": [
    "num = [1,2,3,4,5,6,7,8,13,33]\n",
    "type(num[0])"
   ]
  },
  {
   "cell_type": "code",
   "execution_count": 179,
   "id": "5d2f7bdf-b3fe-4b9f-9ba0-db5b7182156b",
   "metadata": {},
   "outputs": [
    {
     "name": "stdout",
     "output_type": "stream",
     "text": [
      "[2, 3, '짝', 5, 6, '짝', 8, 13, '짝', '짝짝', '짝짝', '짝짝짝']\n"
     ]
    }
   ],
   "source": [
    "#369 게임\n",
    "#1단계\n",
    "def game_369(numbers) :\n",
    "    result = []\n",
    "    for i in numbers :\n",
    "        three = 0\n",
    "        three+=str(i).count(\"3\")\n",
    "        three+=str(i).count(\"6\")\n",
    "        three+=str(i).count(\"9\")\n",
    "        if(three!=0):\n",
    "            result.append( \"짝\"*three)\n",
    "        else :\n",
    "            result.append(numbers[i])\n",
    "    print(result)\n",
    "\n",
    "num = [1,2,3,4,5,6,7,8,13,33,36,999]\n",
    "game_369(num)"
   ]
  },
  {
   "cell_type": "code",
   "execution_count": 191,
   "id": "a1e82aef-40e6-42fe-a9f9-16dbc1d8edd0",
   "metadata": {},
   "outputs": [
    {
     "name": "stdout",
     "output_type": "stream",
     "text": [
      "[1, 2, '짝', 4, '짝짝', '짝짝짝']\n",
      "[1, 2, '짝', 4, '짝짝', '짝짝짝']\n"
     ]
    }
   ],
   "source": [
    "#2단계 튜플인수이용\n",
    "#369 게임\n",
    "#1단계\n",
    "def game_369(*numbers) :\n",
    "    result=[]\n",
    "    for i in numbers :\n",
    "        three = 0\n",
    "        three+=str(i).count(\"3\")\n",
    "        three+=str(i).count(\"6\")\n",
    "        three+=str(i).count(\"9\")\n",
    "        if(three!=0):\n",
    "            result.append( \"짝\"*three)\n",
    "        else :\n",
    "            result.append(i)\n",
    "    print(result)\n",
    "num = (1,2,3,4,66,999)\n",
    "game_369(*num)\n",
    "game_369(1,2,3,4,66,999)"
   ]
  },
  {
   "cell_type": "code",
   "execution_count": null,
   "id": "238310d8-03f3-4594-aec0-4052ce379972",
   "metadata": {},
   "outputs": [],
   "source": []
  }
 ],
 "metadata": {
  "kernelspec": {
   "display_name": "Python 3 (ipykernel)",
   "language": "python",
   "name": "python3"
  },
  "language_info": {
   "codemirror_mode": {
    "name": "ipython",
    "version": 3
   },
   "file_extension": ".py",
   "mimetype": "text/x-python",
   "name": "python",
   "nbconvert_exporter": "python",
   "pygments_lexer": "ipython3",
   "version": "3.12.3"
  }
 },
 "nbformat": 4,
 "nbformat_minor": 5
}
