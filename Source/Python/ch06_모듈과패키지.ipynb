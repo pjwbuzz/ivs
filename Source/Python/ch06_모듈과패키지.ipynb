{
 "cells": [
  {
   "cell_type": "markdown",
   "id": "37d0d115-91b5-4c97-8e17-7f750bac2e66",
   "metadata": {},
   "source": [
    "# <font color=\"#9932CC\" size=\"10\"><b>ch06. 모듈과 패키지</b></font>"
   ]
  },
  {
   "cell_type": "markdown",
   "id": "ff324254-bbe6-42ae-bbd1-427eb3639bb7",
   "metadata": {},
   "source": [
    "# 1절. 모듈 사용하기\n",
    "- 모듈 : 함수, 변수 , 클래스가 담긴 py 파일\n",
    "- 파이썬 표준 모듈 200여개 자동으로 깔림\n",
    "- 표준 모듈 외의 모듈 사용하려면 pip install 이용"
   ]
  },
  {
   "cell_type": "markdown",
   "id": "b2ef827c-0d73-418f-8492-769f42906fc9",
   "metadata": {},
   "source": [
    "# 2절. 사용자 정의 모듈\n",
    "- 모듈을 가져오는 순서 (1)표준모듈 (2)sys.path 변수에 저장된 경로"
   ]
  },
  {
   "cell_type": "code",
   "execution_count": 4,
   "id": "941357c7-9fed-4348-9bea-be8bd0150a7e",
   "metadata": {},
   "outputs": [
    {
     "data": {
      "text/plain": [
       "['C:\\\\C_Python\\\\Source\\\\Python',\n",
       " 'C:\\\\Users\\\\USER\\\\.conda\\\\envs\\\\notebook\\\\python312.zip',\n",
       " 'C:\\\\Users\\\\USER\\\\.conda\\\\envs\\\\notebook\\\\DLLs',\n",
       " 'C:\\\\Users\\\\USER\\\\.conda\\\\envs\\\\notebook\\\\Lib',\n",
       " 'C:\\\\Users\\\\USER\\\\.conda\\\\envs\\\\notebook',\n",
       " '',\n",
       " 'C:\\\\Users\\\\USER\\\\.conda\\\\envs\\\\notebook\\\\Lib\\\\site-packages',\n",
       " 'C:\\\\Users\\\\USER\\\\.conda\\\\envs\\\\notebook\\\\Lib\\\\site-packages\\\\win32',\n",
       " 'C:\\\\Users\\\\USER\\\\.conda\\\\envs\\\\notebook\\\\Lib\\\\site-packages\\\\win32\\\\lib',\n",
       " 'C:\\\\Users\\\\USER\\\\.conda\\\\envs\\\\notebook\\\\Lib\\\\site-packages\\\\Pythonwin',\n",
       " 'C:\\\\C_Python\\\\Source\\\\pylib']"
      ]
     },
     "execution_count": 4,
     "metadata": {},
     "output_type": "execute_result"
    }
   ],
   "source": [
    "import sys\n",
    "sys.path"
   ]
  },
  {
   "cell_type": "code",
   "execution_count": 6,
   "id": "f847f341-b211-46b8-a88f-9d478128cd02",
   "metadata": {},
   "outputs": [
    {
     "name": "stdout",
     "output_type": "stream",
     "text": [
      "0. 1. 1. 2. 3. 5. 8. 13. 21. 34. 55. 89. \n"
     ]
    }
   ],
   "source": [
    "import fibonacci\n",
    "fibonacci.fibonacci(100)"
   ]
  },
  {
   "cell_type": "markdown",
   "id": "c4a3a0d6-cc26-4fde-8ee8-ddf6a1884034",
   "metadata": {},
   "source": [
    "```\n",
    "1. import A : 모듈을 가져옴\n",
    "2. import A as B : A모듈을 B이름으로 가져옴\n",
    "3. from A import B : A모듈안의 B함수만 가져옴\n",
    "4. from A import B as C : A의 B를 C로가져옴\n",
    "5. from A.B import C : A패키지안의 B모듈안의 C함수를 가져욤\n",
    "\n",
    "del A : 가져온걸 삭제함\n",
    "```"
   ]
  },
  {
   "cell_type": "code",
   "execution_count": 23,
   "id": "d3e6d29c-63fb-45f0-b6f6-34d985cf90cb",
   "metadata": {},
   "outputs": [
    {
     "ename": "NameError",
     "evalue": "name 'fibonacci' is not defined",
     "output_type": "error",
     "traceback": [
      "\u001b[1;31m---------------------------------------------------------------------------\u001b[0m",
      "\u001b[1;31mNameError\u001b[0m                                 Traceback (most recent call last)",
      "Cell \u001b[1;32mIn[23], line 1\u001b[0m\n\u001b[1;32m----> 1\u001b[0m \u001b[38;5;28mdir\u001b[39m(fibonacci)\n",
      "\u001b[1;31mNameError\u001b[0m: name 'fibonacci' is not defined"
     ]
    }
   ],
   "source": []
  },
  {
   "cell_type": "code",
   "execution_count": 7,
   "id": "d4fb51ef-dd85-402e-9694-5fa4b54262d2",
   "metadata": {},
   "outputs": [],
   "source": [
    "del fibonacci"
   ]
  },
  {
   "cell_type": "code",
   "execution_count": 9,
   "id": "23f5abc3-dc0d-4bbe-a382-186c13b0a366",
   "metadata": {},
   "outputs": [],
   "source": [
    "import fibonacci as fibo"
   ]
  },
  {
   "cell_type": "code",
   "execution_count": 17,
   "id": "12734840-1d8e-40f3-abbe-3f100497466a",
   "metadata": {},
   "outputs": [
    {
     "name": "stdout",
     "output_type": "stream",
     "text": [
      "0. 1. 1. 2. 3. 5. 8. 13. 21. 34. 55. 89. 144. 233. 377. 610. 987. \n"
     ]
    }
   ],
   "source": [
    "fibo.fibonacci(1000)"
   ]
  },
  {
   "cell_type": "code",
   "execution_count": 19,
   "id": "f8f0e5d9-c4e5-455e-a403-1d0b8a3f6fcb",
   "metadata": {},
   "outputs": [],
   "source": [
    "del fibo"
   ]
  },
  {
   "cell_type": "code",
   "execution_count": 20,
   "id": "8158106a-af35-446e-82c1-db89baeb45a9",
   "metadata": {},
   "outputs": [],
   "source": [
    "from fibonacci import fibonacci as fibo"
   ]
  },
  {
   "cell_type": "code",
   "execution_count": 21,
   "id": "b18b8e34-9cfb-4a70-9532-0d1c603a9313",
   "metadata": {},
   "outputs": [
    {
     "name": "stdout",
     "output_type": "stream",
     "text": [
      "0. 1. 1. 2. 3. 5. 8. 13. 21. 34. 55. 89. 144. 233. \n"
     ]
    }
   ],
   "source": [
    "fibo(234)"
   ]
  },
  {
   "cell_type": "code",
   "execution_count": 25,
   "id": "ec8df070-5789-489a-a478-6a3c64623d78",
   "metadata": {},
   "outputs": [
    {
     "data": {
      "text/plain": [
       "['__annotations__',\n",
       " '__builtins__',\n",
       " '__call__',\n",
       " '__class__',\n",
       " '__closure__',\n",
       " '__code__',\n",
       " '__defaults__',\n",
       " '__delattr__',\n",
       " '__dict__',\n",
       " '__dir__',\n",
       " '__doc__',\n",
       " '__eq__',\n",
       " '__format__',\n",
       " '__ge__',\n",
       " '__get__',\n",
       " '__getattribute__',\n",
       " '__getstate__',\n",
       " '__globals__',\n",
       " '__gt__',\n",
       " '__hash__',\n",
       " '__init__',\n",
       " '__init_subclass__',\n",
       " '__kwdefaults__',\n",
       " '__le__',\n",
       " '__lt__',\n",
       " '__module__',\n",
       " '__name__',\n",
       " '__ne__',\n",
       " '__new__',\n",
       " '__qualname__',\n",
       " '__reduce__',\n",
       " '__reduce_ex__',\n",
       " '__repr__',\n",
       " '__setattr__',\n",
       " '__sizeof__',\n",
       " '__str__',\n",
       " '__subclasshook__',\n",
       " '__type_params__']"
      ]
     },
     "execution_count": 25,
     "metadata": {},
     "output_type": "execute_result"
    }
   ],
   "source": [
    "dir(fibo)"
   ]
  },
  {
   "cell_type": "code",
   "execution_count": null,
   "id": "b786daf5-60a2-4310-b5ac-0b989a6a14b1",
   "metadata": {},
   "outputs": [],
   "source": []
  }
 ],
 "metadata": {
  "kernelspec": {
   "display_name": "Python 3 (ipykernel)",
   "language": "python",
   "name": "python3"
  },
  "language_info": {
   "codemirror_mode": {
    "name": "ipython",
    "version": 3
   },
   "file_extension": ".py",
   "mimetype": "text/x-python",
   "name": "python",
   "nbconvert_exporter": "python",
   "pygments_lexer": "ipython3",
   "version": "3.12.3"
  }
 },
 "nbformat": 4,
 "nbformat_minor": 5
}
