{
 "cells": [
  {
   "cell_type": "markdown",
   "id": "cef683fd-2826-498c-8a0f-fcc86dfe05ab",
   "metadata": {},
   "source": [
    "# <font color=\"red\" size=\"10\"><b>ch03. 데이터 구조</b></font>\n",
    "    - 리스트 [], 튜플 (), 딕셔너리 {구조체와 유사}, 셋(집합)"
   ]
  },
  {
   "cell_type": "markdown",
   "id": "799a69bd-3529-4f44-9abc-6a3a2911fc00",
   "metadata": {},
   "source": [
    "# 1절. 리스트\n",
    "## 1.1 리스트 만들기\n",
    "    - [] 이용\n",
    "    - 인덱스 : 0부터 시작, -1은 맨 마지막 인덱스 (인덱스로 리스트 접근)\n",
    "    - 슬라이싱 : [from:to:step]을 이용하여 추출 "
   ]
  },
  {
   "cell_type": "code",
   "execution_count": 3,
   "id": "e53c6795-f76c-44ae-824a-242a79c0112b",
   "metadata": {},
   "outputs": [
    {
     "data": {
      "text/plain": [
       "list"
      ]
     },
     "execution_count": 3,
     "metadata": {},
     "output_type": "execute_result"
    }
   ],
   "source": [
    "fruits = ['banana', 'apple', 'orange', 'grape', 0]  #동일자료형 아니어도 됨\n",
    "type(fruits)  #리스트 자료형"
   ]
  },
  {
   "cell_type": "code",
   "execution_count": 5,
   "id": "b292fe3f-5340-484a-b188-fa5d3acdfcb2",
   "metadata": {},
   "outputs": [
    {
     "name": "stdout",
     "output_type": "stream",
     "text": [
      "['banana', 'apple', 'orange', 'grape', 0]\n",
      "banana\n"
     ]
    }
   ],
   "source": [
    "print(fruits)  #for문 필요없이 프린트됨\n",
    "print(fruits[0])"
   ]
  },
  {
   "cell_type": "code",
   "execution_count": 6,
   "id": "a385424e-4e04-4692-a4bb-b60d6f5b0346",
   "metadata": {},
   "outputs": [
    {
     "name": "stdout",
     "output_type": "stream",
     "text": [
      "['mango', 'apple', 'orange', 'grape', 0]\n"
     ]
    }
   ],
   "source": [
    "fruits[0] = 'mango'\n",
    "print(fruits)"
   ]
  },
  {
   "cell_type": "code",
   "execution_count": 9,
   "id": "9c04fe37-ac56-40eb-85a4-34188760c0ec",
   "metadata": {
    "scrolled": true
   },
   "outputs": [
    {
     "name": "stdout",
     "output_type": "stream",
     "text": [
      "mango\n",
      "apple\n",
      "orange\n",
      "grape\n",
      "0\n"
     ]
    }
   ],
   "source": [
    "for fruit in fruits:\n",
    "    print(fruit)"
   ]
  },
  {
   "cell_type": "code",
   "execution_count": 19,
   "id": "14cc6d1c-1605-489f-a65d-f65ef4f271b7",
   "metadata": {},
   "outputs": [
    {
     "data": {
      "text/plain": [
       "range(0, 5)"
      ]
     },
     "execution_count": 19,
     "metadata": {},
     "output_type": "execute_result"
    }
   ],
   "source": [
    "range(5)"
   ]
  },
  {
   "cell_type": "code",
   "execution_count": 23,
   "id": "175b8fd6-2dff-4886-9ed9-ca8749304a85",
   "metadata": {},
   "outputs": [
    {
     "data": {
      "text/plain": [
       "[0, 1, 2, 3, 4]"
      ]
     },
     "execution_count": 23,
     "metadata": {},
     "output_type": "execute_result"
    }
   ],
   "source": [
    "list(range(5)) #range 안의 개수만큼 리스트 만들어줌"
   ]
  },
  {
   "cell_type": "code",
   "execution_count": 25,
   "id": "30e0efce-ebd4-4955-8122-b60a28253442",
   "metadata": {},
   "outputs": [
    {
     "data": {
      "text/plain": [
       "5"
      ]
     },
     "execution_count": 25,
     "metadata": {},
     "output_type": "execute_result"
    }
   ],
   "source": [
    "len(fruits) #list fruits 요소의 갯수"
   ]
  },
  {
   "cell_type": "code",
   "execution_count": 26,
   "id": "18c7ac86-2835-4404-b976-5a392361f99f",
   "metadata": {},
   "outputs": [
    {
     "data": {
      "text/plain": [
       "[0, 1, 2, 3, 4]"
      ]
     },
     "execution_count": 26,
     "metadata": {},
     "output_type": "execute_result"
    }
   ],
   "source": [
    "list(range(len(fruits)))"
   ]
  },
  {
   "cell_type": "code",
   "execution_count": 29,
   "id": "f1c4fd72-e022-4134-8bcd-d767b6c3d76c",
   "metadata": {},
   "outputs": [
    {
     "name": "stdout",
     "output_type": "stream",
     "text": [
      "0번쨰 과일은 mango\n",
      "1번쨰 과일은 apple\n",
      "2번쨰 과일은 orange\n",
      "3번쨰 과일은 grape\n",
      "4번쨰 과일은 0\n"
     ]
    }
   ],
   "source": [
    "for i in range(len(fruits)):\n",
    "    print(\"{}번쨰 과일은 {}\".format(i, fruits[i]))"
   ]
  },
  {
   "cell_type": "code",
   "execution_count": 30,
   "id": "3ee25ad5-8386-433f-98ff-d78d0c0fd8fc",
   "metadata": {},
   "outputs": [
    {
     "name": "stdout",
     "output_type": "stream",
     "text": [
      "0번째 과일은 mango\n",
      "1번째 과일은 apple\n",
      "2번째 과일은 orange\n",
      "3번째 과일은 grape\n",
      "4번째 과일은 0\n"
     ]
    }
   ],
   "source": [
    "for idx, value in enumerate(fruits):\n",
    "    print(\"{}번째 과일은 {}\".format(idx, value))"
   ]
  },
  {
   "cell_type": "markdown",
   "id": "851b421f-0727-4b4d-b413-72b1be6507fc",
   "metadata": {},
   "source": [
    "## 1.2 기본정보 조회"
   ]
  },
  {
   "cell_type": "code",
   "execution_count": 33,
   "id": "7c3f476f-fc44-4436-8606-516981139d1c",
   "metadata": {},
   "outputs": [
    {
     "name": "stdout",
     "output_type": "stream",
     "text": [
      "요소의 수 :  4\n",
      "최소값 : 1\n",
      "최대값 : 4\n"
     ]
    }
   ],
   "source": [
    "numbers = [1,2,3,4]\n",
    "print(\"요소의 수 : \",len(numbers))\n",
    "print(\"최소값 :\", min(numbers))\n",
    "print(\"최대값 :\", max(numbers))"
   ]
  },
  {
   "cell_type": "markdown",
   "id": "ccddabb0-0ea2-4131-bd1d-e548c8ae58f4",
   "metadata": {},
   "source": [
    "## 1.3 요소 추가"
   ]
  },
  {
   "cell_type": "code",
   "execution_count": 35,
   "id": "b86f65fa-5540-4e8f-a594-151f30f383c6",
   "metadata": {},
   "outputs": [],
   "source": [
    "# + 두 리스트를 연결\n",
    "# 리스트 * n : 리스트를 n만큼 반복 \n",
    "# append() : 요소 뒤에 추가\n",
    "# extend() : 리스트의 요소별로 뒤에 추가"
   ]
  },
  {
   "cell_type": "code",
   "execution_count": 37,
   "id": "d7a0f02d-41b7-44d7-80d9-c2abeec79e2c",
   "metadata": {},
   "outputs": [
    {
     "data": {
      "text/plain": [
       "[1, 2, 3, 1, 2, 3]"
      ]
     },
     "execution_count": 37,
     "metadata": {},
     "output_type": "execute_result"
    }
   ],
   "source": [
    "numbers = [1,2,3]\n",
    "numbers = numbers + numbers\n",
    "numbers "
   ]
  },
  {
   "cell_type": "code",
   "execution_count": 49,
   "id": "e65c18ed-b910-42a2-b75a-194825b51cb9",
   "metadata": {},
   "outputs": [
    {
     "name": "stdout",
     "output_type": "stream",
     "text": [
      "[1, 2, 3, 1, 2, 3, 1, 2, 3]\n"
     ]
    }
   ],
   "source": [
    "numbers = [1,2,3] \n",
    "print(numbers *3)"
   ]
  },
  {
   "cell_type": "code",
   "execution_count": 50,
   "id": "8d56463a-4abf-4b03-a786-9da57e4c97f5",
   "metadata": {},
   "outputs": [
    {
     "data": {
      "text/plain": [
       "[1, 2, 3, 4]"
      ]
     },
     "execution_count": 50,
     "metadata": {},
     "output_type": "execute_result"
    }
   ],
   "source": [
    "numbers.append(4)\n",
    "numbers"
   ]
  },
  {
   "cell_type": "code",
   "execution_count": 67,
   "id": "748252e0-3ca2-45ef-b576-a1217eb8d6e0",
   "metadata": {},
   "outputs": [
    {
     "data": {
      "text/plain": [
       "[1, 2, 3, 4, [5, 6]]"
      ]
     },
     "execution_count": 67,
     "metadata": {},
     "output_type": "execute_result"
    }
   ],
   "source": [
    "numbers = [1,2,3,4]\n",
    "num = [5,6]\n",
    "#numbers 를 [1,2,3,4,5,6] vs [1,2,3,4,[5,6]]\n",
    "numbers.append(num)\n",
    "numbers"
   ]
  },
  {
   "cell_type": "code",
   "execution_count": 64,
   "id": "89d01e90-7e4f-4eff-80f2-49eb9851e788",
   "metadata": {},
   "outputs": [
    {
     "data": {
      "text/plain": [
       "[1, 2, 3, 4, 1, 2, 3, 4]"
      ]
     },
     "execution_count": 64,
     "metadata": {},
     "output_type": "execute_result"
    }
   ],
   "source": [
    "numbers = [1,2,3,4]\n",
    "num = [5,6]\n",
    "numbers.extend(num)\n",
    "numbers"
   ]
  },
  {
   "cell_type": "code",
   "execution_count": 62,
   "id": "9454f468-65fa-4acf-82be-76e81b6487fd",
   "metadata": {},
   "outputs": [
    {
     "data": {
      "text/plain": [
       "[1, 2, 3, 4, 'hello']"
      ]
     },
     "execution_count": 62,
     "metadata": {},
     "output_type": "execute_result"
    }
   ],
   "source": [
    "numbers = [1,2,3,4]\n",
    "numbers.append(\"hello\")\n",
    "numbers"
   ]
  },
  {
   "cell_type": "code",
   "execution_count": 63,
   "id": "dc461b6f-3fa8-45d3-99d2-568b799a780b",
   "metadata": {},
   "outputs": [
    {
     "data": {
      "text/plain": [
       "[1, 2, 3, 4, 'h', 'e', 'l', 'l', 'o']"
      ]
     },
     "execution_count": 63,
     "metadata": {},
     "output_type": "execute_result"
    }
   ],
   "source": [
    "numbers = [1,2,3,4]\n",
    "numbers.extend(\"hello\")\n",
    "numbers"
   ]
  },
  {
   "cell_type": "markdown",
   "id": "01a0e7a7-ab27-481d-bee0-201855dabe73",
   "metadata": {},
   "source": [
    "## 1.4 인덱싱\n",
    "    - index(찾고자 하는 값, 숫자) : '찾고자 하는 값'이 '숫자'번 인덱스부터 찾아 그 위치를 반환\n",
    "    - count(찾고자 하는 값) : 찾고자하는 값이 몇 번 나오는지 counter를 반환"
   ]
  },
  {
   "cell_type": "code",
   "execution_count": 68,
   "id": "a330f499-ada4-448e-92b7-2cad65c02e1c",
   "metadata": {},
   "outputs": [
    {
     "name": "stdout",
     "output_type": "stream",
     "text": [
      "2가 몇개인지 : 2\n"
     ]
    }
   ],
   "source": [
    "numbers = [1,2,3,[1,2,3],1,2,3]\n",
    "print(\"2가 몇개인지 : {}\".format(numbers.count(2)))"
   ]
  },
  {
   "cell_type": "code",
   "execution_count": 69,
   "id": "69cdb6e0-d84f-43f7-a785-8f75ab690d42",
   "metadata": {},
   "outputs": [
    {
     "data": {
      "text/plain": [
       "True"
      ]
     },
     "execution_count": 69,
     "metadata": {},
     "output_type": "execute_result"
    }
   ],
   "source": [
    "2 in numbers #numbers 안에 2가 있는지 여부 T/F"
   ]
  },
  {
   "cell_type": "code",
   "execution_count": 70,
   "id": "e384638d-c93a-4e4d-a6e1-a70b093ee047",
   "metadata": {},
   "outputs": [
    {
     "data": {
      "text/plain": [
       "5"
      ]
     },
     "execution_count": 70,
     "metadata": {},
     "output_type": "execute_result"
    }
   ],
   "source": [
    "numbers.index(2,3)  #3번째 인덱스부터 2가 처음 나오는 인덱스를 반환\n"
   ]
  },
  {
   "cell_type": "markdown",
   "id": "7a877f79-87cb-4019-a370-b747c590a8fb",
   "metadata": {},
   "source": [
    "## 1.5 리스트의 원하는 내용만 추출\n",
    "    - 슬라이싱 [from:to:step] ; 원하는 인덱스의 값 추출\n",
    "    - 리스트 컴프리헨션을 이용  ; 원하는 데이터만 추출"
   ]
  },
  {
   "cell_type": "code",
   "execution_count": 75,
   "id": "77002a5b-bd99-4952-9a18-da7b7cc0f91e",
   "metadata": {},
   "outputs": [
    {
     "data": {
      "text/plain": [
       "[20, 19, 18, 13, 12, 10, 9, 5, 3, 1]"
      ]
     },
     "execution_count": 75,
     "metadata": {},
     "output_type": "execute_result"
    }
   ],
   "source": [
    "numbers = [1,3,5,9,10,12,13,18,19,20]\n",
    "numbers[::-1]"
   ]
  },
  {
   "cell_type": "code",
   "execution_count": 72,
   "id": "9806ddb5-f36c-4c45-9896-e6fccb6c372a",
   "metadata": {},
   "outputs": [
    {
     "data": {
      "text/plain": [
       "[1, 5, 10, 13, 19]"
      ]
     },
     "execution_count": 72,
     "metadata": {},
     "output_type": "execute_result"
    }
   ],
   "source": [
    "numbers[::2] # 슬라이싱으로는 원하는 인덱스의 값을 가져올 수 있음 ; 원하는 내용만, 값만 가져오는 것은 "
   ]
  },
  {
   "cell_type": "code",
   "execution_count": 77,
   "id": "d21eb7ca-0092-4681-bf2f-dc5689283834",
   "metadata": {},
   "outputs": [
    {
     "data": {
      "text/plain": [
       "[10, 12, 18, 20]"
      ]
     },
     "execution_count": 77,
     "metadata": {},
     "output_type": "execute_result"
    }
   ],
   "source": [
    "# 값이 짝수인 데이터만 추출\n",
    "result = []\n",
    "for num in numbers:\n",
    "    if num%2 == 0:\n",
    "        result.append(num)\n",
    "result\n",
    "## 리스트 컴프리헨션을 모르면 이렇게 4~5줄정도에 걸쳐서 추출해야함 ##"
   ]
  },
  {
   "cell_type": "code",
   "execution_count": 79,
   "id": "185b860e-fa85-4bbf-9852-83f728f1ced8",
   "metadata": {},
   "outputs": [
    {
     "data": {
      "text/plain": [
       "[10, 12, 18, 20]"
      ]
     },
     "execution_count": 79,
     "metadata": {},
     "output_type": "execute_result"
    }
   ],
   "source": [
    "result = [num for num in numbers if num%2==0]\n",
    "result"
   ]
  },
  {
   "cell_type": "code",
   "execution_count": 83,
   "id": "66cff1a5-5313-4abc-8e11-c8e3c45527b2",
   "metadata": {},
   "outputs": [
    {
     "data": {
      "text/plain": [
       "[1, 9, 25, 81, 100, 144, 169, 324, 361, 400]"
      ]
     },
     "execution_count": 83,
     "metadata": {},
     "output_type": "execute_result"
    }
   ],
   "source": [
    "#numbers 리스트의 제곱값을 리스트로 생성하여라\n",
    "result = [num**2 for num in numbers]\n",
    "result"
   ]
  },
  {
   "cell_type": "code",
   "execution_count": 87,
   "id": "26d18c6d-b58a-449f-a4ce-0062eb199f5c",
   "metadata": {},
   "outputs": [
    {
     "data": {
      "text/plain": [
       "['orange', 'apple', ' mango']"
      ]
     },
     "execution_count": 87,
     "metadata": {},
     "output_type": "execute_result"
    }
   ],
   "source": [
    "#과일의 글자가 5글자 이상인 과일을 추출\n",
    "fruits = ['orange', 'apple',' mango', 'kiwi']\n",
    "[fruit for fruit in fruits if len(fruit)>=5]"
   ]
  },
  {
   "cell_type": "code",
   "execution_count": 88,
   "id": "4eafd194-6ce8-4e35-9b50-0e9ead81c608",
   "metadata": {},
   "outputs": [],
   "source": [
    "#과일의 글자가 7글자 이상인 과일의 글자수를 출력하세요"
   ]
  },
  {
   "cell_type": "code",
   "execution_count": 98,
   "id": "64f6bb6f-7eb1-472b-be30-f927e03a0def",
   "metadata": {},
   "outputs": [
    {
     "ename": "SyntaxError",
     "evalue": "invalid syntax (3228303007.py, line 1)",
     "output_type": "error",
     "traceback": [
      "\u001b[1;36m  Cell \u001b[1;32mIn[98], line 1\u001b[1;36m\u001b[0m\n\u001b[1;33m    len(f) for f in fruits if len(f)>=5\u001b[0m\n\u001b[1;37m           ^\u001b[0m\n\u001b[1;31mSyntaxError\u001b[0m\u001b[1;31m:\u001b[0m invalid syntax\n"
     ]
    }
   ],
   "source": [
    "[len(f) for f in fruits if len(f)>=5]"
   ]
  },
  {
   "cell_type": "markdown",
   "id": "57097f45-6516-4c42-a97e-e1f142a87dd9",
   "metadata": {},
   "source": [
    "## 1.6 삭제하기\n",
    "    - remove(data) : 해당 data가 제거\n",
    "    - del 리스트변수[idx] : idx번째 요소 제거\n",
    "    - pop() : 가장 마지막 인덱스 요소가 return 되고 삭제"
   ]
  },
  {
   "cell_type": "code",
   "execution_count": 93,
   "id": "3cc23685-e24e-4f82-8764-de20f2ecd1fb",
   "metadata": {},
   "outputs": [
    {
     "name": "stdout",
     "output_type": "stream",
     "text": [
      "4\n",
      "[1, 2, 3]\n"
     ]
    }
   ],
   "source": [
    "numbers = [1,2,3,4]\n",
    "print(numbers.pop())\n",
    "print(numbers)"
   ]
  },
  {
   "cell_type": "code",
   "execution_count": 94,
   "id": "b837d590-0b70-4c26-aded-f05f06e93c36",
   "metadata": {},
   "outputs": [
    {
     "name": "stdout",
     "output_type": "stream",
     "text": [
      "[1, 2]\n"
     ]
    }
   ],
   "source": [
    "numbers.remove(3)\n",
    "print(numbers)"
   ]
  },
  {
   "cell_type": "code",
   "execution_count": 95,
   "id": "6b13df17-0b3c-4e81-a738-f60fb74a506b",
   "metadata": {},
   "outputs": [
    {
     "ename": "ValueError",
     "evalue": "list.remove(x): x not in list",
     "output_type": "error",
     "traceback": [
      "\u001b[1;31m---------------------------------------------------------------------------\u001b[0m",
      "\u001b[1;31mValueError\u001b[0m                                Traceback (most recent call last)",
      "Cell \u001b[1;32mIn[95], line 1\u001b[0m\n\u001b[1;32m----> 1\u001b[0m numbers\u001b[38;5;241m.\u001b[39mremove(\u001b[38;5;241m9\u001b[39m)\n",
      "\u001b[1;31mValueError\u001b[0m: list.remove(x): x not in list"
     ]
    }
   ],
   "source": [
    "numbers.remove(9) #없는 데이터 remove 시 에러가 난다."
   ]
  },
  {
   "cell_type": "code",
   "execution_count": 96,
   "id": "09a708d7-1e79-4894-9799-3ef62f572d58",
   "metadata": {},
   "outputs": [
    {
     "name": "stdout",
     "output_type": "stream",
     "text": [
      "[2]\n"
     ]
    }
   ],
   "source": [
    "del numbers[0]\n",
    "print(numbers)"
   ]
  },
  {
   "cell_type": "code",
   "execution_count": 97,
   "id": "59ee348c-a529-4710-ba87-e7e72055aa93",
   "metadata": {},
   "outputs": [
    {
     "ename": "NameError",
     "evalue": "name 'numbers' is not defined",
     "output_type": "error",
     "traceback": [
      "\u001b[1;31m---------------------------------------------------------------------------\u001b[0m",
      "\u001b[1;31mNameError\u001b[0m                                 Traceback (most recent call last)",
      "Cell \u001b[1;32mIn[97], line 2\u001b[0m\n\u001b[0;32m      1\u001b[0m \u001b[38;5;28;01mdel\u001b[39;00m numbers\n\u001b[1;32m----> 2\u001b[0m numbers\n",
      "\u001b[1;31mNameError\u001b[0m: name 'numbers' is not defined"
     ]
    }
   ],
   "source": [
    "del numbers\n",
    "numbers"
   ]
  },
  {
   "cell_type": "markdown",
   "id": "c4aa9ab4-8b2c-4971-9494-7ba80734cf5e",
   "metadata": {},
   "source": [
    "## 1.7 정렬하기"
   ]
  },
  {
   "cell_type": "code",
   "execution_count": 99,
   "id": "618442a4-0a9c-43b2-b41d-78f680b9ed57",
   "metadata": {},
   "outputs": [
    {
     "data": {
      "text/plain": [
       "[1, 5, 5, 9, 10]"
      ]
     },
     "execution_count": 99,
     "metadata": {},
     "output_type": "execute_result"
    }
   ],
   "source": [
    "numbers = [9,10,1,5,5]\n",
    "numbers.sort()\n",
    "numbers"
   ]
  },
  {
   "cell_type": "code",
   "execution_count": 100,
   "id": "d2d41935-f3e8-4280-8a19-d22516ec03d9",
   "metadata": {},
   "outputs": [
    {
     "data": {
      "text/plain": [
       "[10, 9, 5, 5, 1]"
      ]
     },
     "execution_count": 100,
     "metadata": {},
     "output_type": "execute_result"
    }
   ],
   "source": [
    "numbers = [9,10,1,5,5]\n",
    "numbers.sort(reverse=True)\n",
    "numbers"
   ]
  },
  {
   "cell_type": "markdown",
   "id": "71e46729-aebe-40a4-8ea0-8b1d91f43419",
   "metadata": {},
   "source": [
    "## 1.8 리스트 복제"
   ]
  },
  {
   "cell_type": "code",
   "execution_count": 101,
   "id": "060a47ab-62f6-4a17-9833-a5497cef7bc8",
   "metadata": {},
   "outputs": [
    {
     "name": "stdout",
     "output_type": "stream",
     "text": [
      "정렬전 데이터 : [1, 2, 6]\n",
      "정렬후 데이터 : [1, 2, 6]\n"
     ]
    }
   ],
   "source": [
    "numbers = [6,1,2]\n",
    "new_numbers = numbers; #얕은복사 \n",
    "numbers.sort()\n",
    "print(\"정렬전 데이터 :\", new_numbers)\n",
    "print(\"정렬후 데이터 :\", numbers)"
   ]
  },
  {
   "cell_type": "markdown",
   "id": "5ec8106a-6dbf-4e9e-a27f-1f9f0fafb028",
   "metadata": {},
   "source": [
    "# 2절. 튜플\n",
    "    - 리스트와 유사하지만 읽기전용\n",
    "    - ()이용해 생성 "
   ]
  },
  {
   "cell_type": "code",
   "execution_count": 105,
   "id": "9674d1e7-2b70-4aa1-be6e-02cbb51b7ae1",
   "metadata": {},
   "outputs": [
    {
     "name": "stdout",
     "output_type": "stream",
     "text": [
      "<class 'tuple'>\n",
      "('서울', '부산', '광주', '대전')\n"
     ]
    }
   ],
   "source": [
    "city = ('서울','부산','광주','대전')\n",
    "print(type(city))\n",
    "print(city)"
   ]
  },
  {
   "cell_type": "code",
   "execution_count": 106,
   "id": "3b1fdcac-2613-4def-8b3c-58503f75bebe",
   "metadata": {},
   "outputs": [
    {
     "data": {
      "text/plain": [
       "'서울~부산~광주~대전'"
      ]
     },
     "execution_count": 106,
     "metadata": {},
     "output_type": "execute_result"
    }
   ],
   "source": [
    "'~'.join(city)"
   ]
  },
  {
   "cell_type": "code",
   "execution_count": 107,
   "id": "e19a6433-5aa9-4fc6-ba37-954b3bd27f63",
   "metadata": {},
   "outputs": [
    {
     "data": {
      "text/plain": [
       "('서울', '부산', '광주', '대전')"
      ]
     },
     "execution_count": 107,
     "metadata": {},
     "output_type": "execute_result"
    }
   ],
   "source": [
    "city"
   ]
  },
  {
   "cell_type": "code",
   "execution_count": 108,
   "id": "e9607b3c-2f39-4ecd-a93b-fe899b4251ed",
   "metadata": {},
   "outputs": [
    {
     "data": {
      "text/plain": [
       "'~'"
      ]
     },
     "execution_count": 108,
     "metadata": {},
     "output_type": "execute_result"
    }
   ],
   "source": [
    "'~'"
   ]
  },
  {
   "cell_type": "code",
   "execution_count": 109,
   "id": "e02e9c3a-8626-4de2-a90b-97efaf5ee728",
   "metadata": {},
   "outputs": [
    {
     "data": {
      "text/plain": [
       "list"
      ]
     },
     "execution_count": 109,
     "metadata": {},
     "output_type": "execute_result"
    }
   ],
   "source": [
    "list_=['서울'] #한개만 있어도 리스트임\n",
    "type(list_)"
   ]
  },
  {
   "cell_type": "code",
   "execution_count": 111,
   "id": "05234b5e-17cd-419e-941a-f4cec542c72f",
   "metadata": {},
   "outputs": [
    {
     "name": "stdout",
     "output_type": "stream",
     "text": [
      "<class 'str'>\n",
      "<class 'tuple'>\n"
     ]
    }
   ],
   "source": [
    "t = ('서울') #요소가 하나인 튜플은 뒤에 콤마가 필요함\n",
    "print(type(t))\n",
    "t = ('서울',)\n",
    "print(type(t))\n"
   ]
  },
  {
   "cell_type": "markdown",
   "id": "0992ed11-b898-4037-a1aa-3adb046952b8",
   "metadata": {},
   "source": [
    "# 3절 딕셔너리\n",
    "    - 구조체와 유사\n",
    "    - {}를 이용하여 생성. key-value 쌍으로 구성\n",
    "    - 값(value)는 중복 가능하나 key는 중복 불가능 \n",
    "    - index를 이용한 참조 불가능"
   ]
  },
  {
   "cell_type": "code",
   "execution_count": 124,
   "id": "6e5b7669-1368-41d7-8957-5f562bfc1273",
   "metadata": {},
   "outputs": [
    {
     "name": "stdout",
     "output_type": "stream",
     "text": [
      "<class 'dict'>\n",
      "{'name': '홍길동', 'address': '서울시 금천구'}\n"
     ]
    }
   ],
   "source": [
    "dic = {'name':'홍길동', 'address':'서울시 금천구'}\n",
    "print(type(dic))\n",
    "print(dic)"
   ]
  },
  {
   "cell_type": "code",
   "execution_count": 125,
   "id": "3227d06e-aaae-40f7-989c-26d5a1d4bd5f",
   "metadata": {},
   "outputs": [
    {
     "data": {
      "text/plain": [
       "('홍길동', '서울시 금천구')"
      ]
     },
     "execution_count": 125,
     "metadata": {},
     "output_type": "execute_result"
    }
   ],
   "source": [
    "dic['name'] , dic['address']  #뭔가를 콤마,콤마 해서 접근하면 튜플로 열림..!"
   ]
  },
  {
   "cell_type": "code",
   "execution_count": 126,
   "id": "95d9720d-6ec2-45c5-b432-32d40d0c0285",
   "metadata": {},
   "outputs": [
    {
     "ename": "KeyError",
     "evalue": "'score'",
     "output_type": "error",
     "traceback": [
      "\u001b[1;31m---------------------------------------------------------------------------\u001b[0m",
      "\u001b[1;31mKeyError\u001b[0m                                  Traceback (most recent call last)",
      "Cell \u001b[1;32mIn[126], line 1\u001b[0m\n\u001b[1;32m----> 1\u001b[0m dic[\u001b[38;5;124m'\u001b[39m\u001b[38;5;124mscore\u001b[39m\u001b[38;5;124m'\u001b[39m]\n",
      "\u001b[1;31mKeyError\u001b[0m: 'score'"
     ]
    }
   ],
   "source": [
    "dic['score'] # 없는거라 에러남 , 에러 방지하기 위해 함수 하나 만든다."
   ]
  },
  {
   "cell_type": "code",
   "execution_count": 127,
   "id": "455c6e39-97ea-402e-b39d-d42084b7353e",
   "metadata": {},
   "outputs": [
    {
     "data": {
      "text/plain": [
       "('홍길동', '서울시 금천구', None)"
      ]
     },
     "execution_count": 127,
     "metadata": {},
     "output_type": "execute_result"
    }
   ],
   "source": [
    "dic.get('name'), dic.get('address'), dic.get('score')"
   ]
  },
  {
   "cell_type": "code",
   "execution_count": 129,
   "id": "3d8842a1-12e7-4762-8316-4f2dd1c78e45",
   "metadata": {},
   "outputs": [
    {
     "name": "stdout",
     "output_type": "stream",
     "text": [
      "{'name': '홍길동', 'address': '서울시 금천구', 'score': 100, 'sport': 'sleep'}\n"
     ]
    }
   ],
   "source": [
    "# 수정\n",
    "dic['score'] = 100\n",
    "dic['sport'] = 'sleep'\n",
    "print(dic)"
   ]
  },
  {
   "cell_type": "code",
   "execution_count": 130,
   "id": "d8e6ad6b-cdc4-4cea-9664-a95ca6330710",
   "metadata": {},
   "outputs": [
    {
     "data": {
      "text/plain": [
       "'sleep'"
      ]
     },
     "execution_count": 130,
     "metadata": {},
     "output_type": "execute_result"
    }
   ],
   "source": [
    "dic.pop('sport')"
   ]
  },
  {
   "cell_type": "code",
   "execution_count": 134,
   "id": "8bd4d6b1-e06c-4abb-b749-d0d74325b547",
   "metadata": {},
   "outputs": [
    {
     "name": "stdout",
     "output_type": "stream",
     "text": [
      "name\n",
      "address\n",
      "score\n",
      "0 name\n",
      "1 address\n",
      "2 score\n"
     ]
    }
   ],
   "source": [
    "#리스트,튜플,셋 방식으로 for문을 딕셔너리에서도 사용시, key만 출력됨. data는 나오지 않음\n",
    "for key in dic:\n",
    "    print(key)\n",
    "\n",
    "for idx, value in enumerate(dic):\n",
    "    print(idx,value)"
   ]
  },
  {
   "cell_type": "code",
   "execution_count": 136,
   "id": "6441e190-34c4-4df3-9534-44ef3aa1d031",
   "metadata": {},
   "outputs": [
    {
     "data": {
      "text/plain": [
       "dict_keys(['name', 'address', 'score'])"
      ]
     },
     "execution_count": 136,
     "metadata": {},
     "output_type": "execute_result"
    }
   ],
   "source": [
    "#dict 에서 사용하는 함수\n",
    "dic.keys()"
   ]
  },
  {
   "cell_type": "code",
   "execution_count": 137,
   "id": "99c8f57c-af7e-4378-b2cc-9be7a551395e",
   "metadata": {},
   "outputs": [
    {
     "data": {
      "text/plain": [
       "dict_values(['홍길동', '서울시 금천구', 100])"
      ]
     },
     "execution_count": 137,
     "metadata": {},
     "output_type": "execute_result"
    }
   ],
   "source": [
    "dic.values()"
   ]
  },
  {
   "cell_type": "code",
   "execution_count": 139,
   "id": "1c27ca5c-b2f0-4a00-8195-338a193c2be6",
   "metadata": {},
   "outputs": [
    {
     "data": {
      "text/plain": [
       "dict_items([('name', '홍길동'), ('address', '서울시 금천구'), ('score', 100)])"
      ]
     },
     "execution_count": 139,
     "metadata": {},
     "output_type": "execute_result"
    }
   ],
   "source": [
    "dic.items() #둘다 보고싶으면 items, 이러면 튜플 형태로 쌍으로 나옴"
   ]
  },
  {
   "cell_type": "code",
   "execution_count": 140,
   "id": "f081186a-4dee-45de-beba-7f15b75b2302",
   "metadata": {},
   "outputs": [
    {
     "name": "stdout",
     "output_type": "stream",
     "text": [
      "홍길동\n",
      "서울시 금천구\n",
      "100\n"
     ]
    }
   ],
   "source": [
    "for data in dic.values():\n",
    "    print(data)"
   ]
  },
  {
   "cell_type": "code",
   "execution_count": 142,
   "id": "10d9594a-e621-44ee-bd67-0b4d7fdaf6f3",
   "metadata": {},
   "outputs": [
    {
     "name": "stdout",
     "output_type": "stream",
     "text": [
      "name 홍길동\n",
      "address 서울시 금천구\n",
      "score 100\n"
     ]
    }
   ],
   "source": [
    "for key, value in dic.items():\n",
    "    print(key,value)"
   ]
  },
  {
   "cell_type": "code",
   "execution_count": 144,
   "id": "2e12f398-ef91-4e35-80c8-e72ce8d10f73",
   "metadata": {},
   "outputs": [
    {
     "data": {
      "text/plain": [
       "True"
      ]
     },
     "execution_count": 144,
     "metadata": {},
     "output_type": "execute_result"
    }
   ],
   "source": [
    "l = ['a','b','c']\n",
    "'c' in l"
   ]
  },
  {
   "cell_type": "code",
   "execution_count": 145,
   "id": "8340226c-741a-4af8-af41-2da232ec40e9",
   "metadata": {},
   "outputs": [
    {
     "data": {
      "text/plain": [
       "True"
      ]
     },
     "execution_count": 145,
     "metadata": {},
     "output_type": "execute_result"
    }
   ],
   "source": [
    "'name' in dic #dict 에서는 in 연산자가 key값의 여부를 나타냄, value는 X"
   ]
  },
  {
   "cell_type": "code",
   "execution_count": 146,
   "id": "5c2cded5-ea53-4679-afa8-e00d150f1d7f",
   "metadata": {},
   "outputs": [
    {
     "data": {
      "text/plain": [
       "False"
      ]
     },
     "execution_count": 146,
     "metadata": {},
     "output_type": "execute_result"
    }
   ],
   "source": [
    "\"홍길동\" in dic"
   ]
  },
  {
   "cell_type": "code",
   "execution_count": 147,
   "id": "80bd7074-b5fc-4a41-9398-6b090cf4ab0a",
   "metadata": {},
   "outputs": [
    {
     "data": {
      "text/plain": [
       "3"
      ]
     },
     "execution_count": 147,
     "metadata": {},
     "output_type": "execute_result"
    }
   ],
   "source": [
    "len(dic) #key개수"
   ]
  },
  {
   "cell_type": "markdown",
   "id": "60324952-0c78-4a23-b956-001c22533815",
   "metadata": {},
   "source": [
    "# 4절. 셋\n",
    "    - 중복을 허용하지 않는 집합(순서X -> 인덱스X,슬라이싱이 안된다.)\n",
    "    #로또번호 같은거 관리하기에 딱좋음"
   ]
  },
  {
   "cell_type": "code",
   "execution_count": 156,
   "id": "c282150a-cc6c-4663-a096-004d177780a8",
   "metadata": {},
   "outputs": [
    {
     "name": "stdout",
     "output_type": "stream",
     "text": [
      "{0, 'apple', 'banana', 'orange'}\n",
      "<class 'set'>\n"
     ]
    }
   ],
   "source": [
    "fruits = {'apple','orange','banana','banana', 0, 0} #중복된 바나나는 없어짐, 순서도 바껴버림, 동일자료형 아니어도됨\n",
    "print(fruits)\n",
    "print(type(fruits))"
   ]
  },
  {
   "cell_type": "code",
   "execution_count": 159,
   "id": "dd204583-0062-407d-a970-44c4ecdb79b8",
   "metadata": {},
   "outputs": [],
   "source": [
    "fruits.add(\"kiwi\")"
   ]
  },
  {
   "cell_type": "code",
   "execution_count": 160,
   "id": "ae5fc731-0f1f-4e24-8f33-c9d7249a59de",
   "metadata": {},
   "outputs": [
    {
     "name": "stdout",
     "output_type": "stream",
     "text": [
      "0:0\n",
      "1:apple\n",
      "2:banana\n",
      "3:kiwi\n",
      "4:orange\n"
     ]
    }
   ],
   "source": [
    "for i, value in enumerate(fruits):\n",
    "    print(\"{}:{}\".format(i,value))  #순서가 의미가 없어서 비추"
   ]
  },
  {
   "cell_type": "code",
   "execution_count": 161,
   "id": "a8cd0d9c-eece-44b0-bf99-cbcfd314cb3e",
   "metadata": {},
   "outputs": [
    {
     "name": "stdout",
     "output_type": "stream",
     "text": [
      "0\n",
      "apple\n",
      "banana\n",
      "kiwi\n",
      "orange\n"
     ]
    }
   ],
   "source": [
    "for data in fruits:\n",
    "    print(data)"
   ]
  },
  {
   "cell_type": "markdown",
   "id": "febc6a9c-4b41-4daa-b4d9-beb69f65111b",
   "metadata": {},
   "source": [
    "# 5절. 연습문제"
   ]
  },
  {
   "cell_type": "code",
   "execution_count": 176,
   "id": "6299d23b-46b9-4599-b673-0c38074d51f2",
   "metadata": {},
   "outputs": [
    {
     "data": {
      "text/plain": [
       "[1, 2, 3, 4, 5, 6, 7, 8, 9, 10, 100]"
      ]
     },
     "execution_count": 176,
     "metadata": {},
     "output_type": "execute_result"
    }
   ],
   "source": [
    "numbers = [1,2,3,4,5,6,7,8,9,10]\n",
    "numbers.append(100)\n",
    "numbers"
   ]
  },
  {
   "cell_type": "code",
   "execution_count": 177,
   "id": "1cc1776a-3d4b-4ef8-88dc-b3734beefd6e",
   "metadata": {},
   "outputs": [
    {
     "data": {
      "text/plain": [
       "[1, 2, 3, 4, 5, 6, 7, 8, 9, 10, 100, 200, 300, 400, 500]"
      ]
     },
     "execution_count": 177,
     "metadata": {},
     "output_type": "execute_result"
    }
   ],
   "source": [
    "data = [200,300,400,500]\n",
    "numbers.extend(data)\n",
    "numbers"
   ]
  },
  {
   "cell_type": "code",
   "execution_count": 178,
   "id": "b09622a4-2b69-4ba8-9692-bde1ff763142",
   "metadata": {},
   "outputs": [
    {
     "name": "stdout",
     "output_type": "stream",
     "text": [
      "[1, 2, 3, 4, 5]\n"
     ]
    }
   ],
   "source": [
    "print(numbers[0:5:1])"
   ]
  },
  {
   "cell_type": "code",
   "execution_count": 179,
   "id": "dcc1bafc-8bd0-4ec2-939e-01567bc996f0",
   "metadata": {},
   "outputs": [
    {
     "name": "stdout",
     "output_type": "stream",
     "text": [
      "[2, 4, 6, 8, 10, 200, 400]\n"
     ]
    }
   ],
   "source": [
    "print(numbers[1::2])"
   ]
  },
  {
   "cell_type": "code",
   "execution_count": 182,
   "id": "b5846be5-7655-4b07-af40-00b275b080a9",
   "metadata": {},
   "outputs": [
    {
     "ename": "ValueError",
     "evalue": "attempt to assign sequence of size 1 to extended slice of size 7",
     "output_type": "error",
     "traceback": [
      "\u001b[1;31m---------------------------------------------------------------------------\u001b[0m",
      "\u001b[1;31mValueError\u001b[0m                                Traceback (most recent call last)",
      "Cell \u001b[1;32mIn[182], line 1\u001b[0m\n\u001b[1;32m----> 1\u001b[0m numbers[\u001b[38;5;241m1\u001b[39m::\u001b[38;5;241m2\u001b[39m] \u001b[38;5;241m=\u001b[39m \u001b[38;5;124m\"\u001b[39m\u001b[38;5;124m0\u001b[39m\u001b[38;5;124m\"\u001b[39m\n\u001b[0;32m      2\u001b[0m numbers\n",
      "\u001b[1;31mValueError\u001b[0m: attempt to assign sequence of size 1 to extended slice of size 7"
     ]
    }
   ],
   "source": [
    "numbers[1::2] = \"0\"\n",
    "numbers"
   ]
  },
  {
   "cell_type": "code",
   "execution_count": 180,
   "id": "d9628f6b-4a04-4784-b3cb-2bf6ca82cb27",
   "metadata": {},
   "outputs": [
    {
     "name": "stdout",
     "output_type": "stream",
     "text": [
      "[500, 400, 300, 200, 100, 10, 9, 8, 7, 6, 5, 4, 3, 2, 1]\n"
     ]
    }
   ],
   "source": [
    "print(numbers[::-1])"
   ]
  },
  {
   "cell_type": "code",
   "execution_count": 186,
   "id": "2d38e395-01c5-4c97-b47d-1eda82900ae5",
   "metadata": {},
   "outputs": [
    {
     "name": "stdout",
     "output_type": "stream",
     "text": [
      "서울시 금천구\n"
     ]
    }
   ],
   "source": [
    "member = {'name':\"홍길동\",\"age\":20,\"address\":\"서울시 금천구\", 'score':90}\n",
    "print(member[\"address\"])"
   ]
  },
  {
   "cell_type": "code",
   "execution_count": 187,
   "id": "3314ff86-7b04-49d6-8f9f-5101bd41d819",
   "metadata": {},
   "outputs": [
    {
     "data": {
      "text/plain": [
       "90"
      ]
     },
     "execution_count": 187,
     "metadata": {},
     "output_type": "execute_result"
    }
   ],
   "source": [
    "member.pop(\"score\")"
   ]
  },
  {
   "cell_type": "code",
   "execution_count": 188,
   "id": "be7c15e1-eee4-4a97-8732-30ea0ae23ec7",
   "metadata": {},
   "outputs": [
    {
     "name": "stdout",
     "output_type": "stream",
     "text": [
      "{'name': '홍길동', 'age': 20, 'address': '서울시 서대문구'}\n"
     ]
    }
   ],
   "source": [
    "member[\"address\"] = \"서울시 서대문구\"\n",
    "print(member)"
   ]
  },
  {
   "cell_type": "code",
   "execution_count": null,
   "id": "88284fea-4647-45c9-a2f6-2e872fa1fb83",
   "metadata": {},
   "outputs": [],
   "source": []
  }
 ],
 "metadata": {
  "kernelspec": {
   "display_name": "Python 3 (ipykernel)",
   "language": "python",
   "name": "python3"
  },
  "language_info": {
   "codemirror_mode": {
    "name": "ipython",
    "version": 3
   },
   "file_extension": ".py",
   "mimetype": "text/x-python",
   "name": "python",
   "nbconvert_exporter": "python",
   "pygments_lexer": "ipython3",
   "version": "3.12.3"
  }
 },
 "nbformat": 4,
 "nbformat_minor": 5
}
