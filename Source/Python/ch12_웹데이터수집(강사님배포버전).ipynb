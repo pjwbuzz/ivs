{
 "cells": [
  {
   "cell_type": "code",
   "execution_count": null,
   "id": "cc1d473f-5f2e-4af4-a447-dd79a74a18df",
   "metadata": {},
   "outputs": [],
   "source": [
    "# 주피터 노트북 구버전\n",
    "from IPython.display import display, HTML\n",
    "display(HTML(\"\"\"\n",
    "<style>\n",
    "div.container{width:97% !important;}\n",
    "div.CodeMirror {font-family:Consolas; font-size:22pt;}\n",
    "div.output {font-size:22pt; font-weight:bold;}\n",
    "div.input {font-family:Consolas; font-size:22pt;}\n",
    "div.prompt {min-width:70px;}\n",
    "</style>\n",
    "\"\"\"))"
   ]
  },
  {
   "cell_type": "code",
   "execution_count": null,
   "id": "bee1f9f6-735d-4eb9-9046-401f22e84836",
   "metadata": {},
   "outputs": [],
   "source": [
    "# 주피터 노트북 새버전\n",
    "from IPython.display import display, HTML\n",
    "display(HTML(\"\"\"\n",
    "<style>\n",
    "div.jp-WindowedPanel-outer.lm-Widget{padding:5px;}\n",
    "div.lm-Widget{font-size:15pt;}\n",
    "div.cm-content {font-family:Consolas; font-size:19pt;}\n",
    "div.jp-OutputArea-output pre {font-size:19pt; font-weight:bold;}\n",
    "input.jp-Stdin-input {font-family:Consolas; font-size:19pt;}\n",
    "td,th{font-size:15pt;}\n",
    "</style>\n",
    "\"\"\"))"
   ]
  },
  {
   "cell_type": "markdown",
   "id": "f1aba4f7-88a8-44e3-b12c-280c8ab96b51",
   "metadata": {},
   "source": [
    "<b><font size=\"6\" color=\"red\">ch14. 웹데이터 수집</font></b>"
   ]
  },
  {
   "cell_type": "markdown",
   "id": "84ebf102-faec-4e1d-adc8-ea5e6505278a",
   "metadata": {},
   "source": [
    "# 1절. BeautifulSoup과 parser\n",
    "`pip install bs4` 아나콘다 설치하면 자동 설치되는 패키지 7500개에 포함\n",
    "\n",
    "`pip install requests_file`\n",
    "\n",
    "공식 사이트 : https://www.crummy.com/software/BeautifulSoup <br>\n",
    "Documentation : https://www.crummy.com/software/BeautifulSoup/bs4/doc"
   ]
  },
  {
   "cell_type": "code",
   "execution_count": 1,
   "id": "bed96709-a2bc-40fe-ab87-4e5b6eb7a768",
   "metadata": {},
   "outputs": [],
   "source": [
    "import requests\n",
    "from requests_file import FileAdapter"
   ]
  },
  {
   "cell_type": "code",
   "execution_count": 2,
   "id": "12eb7a6c-e081-464d-81bf-aa316a993281",
   "metadata": {},
   "outputs": [
    {
     "data": {
      "text/plain": [
       "<Response [200]>"
      ]
     },
     "execution_count": 2,
     "metadata": {},
     "output_type": "execute_result"
    }
   ],
   "source": [
    "s = requests.Session()\n",
    "s.mount(\"file://\", FileAdapter())\n",
    "response = s.get('file:///D:/C_Python_RAPA/source/python/ch12_sample.html')\n",
    "# D:/C_Python_RAPA/source/python/ch12_sample.html\n",
    "response"
   ]
  },
  {
   "cell_type": "code",
   "execution_count": 3,
   "id": "7c73c12b-c854-4398-903a-f870623c4792",
   "metadata": {},
   "outputs": [
    {
     "name": "stdout",
     "output_type": "stream",
     "text": [
      "success!\n"
     ]
    }
   ],
   "source": [
    "if response.status_code == 200:\n",
    "    print('success!')\n",
    "if response.status_code == 404:\n",
    "    print('Not found')"
   ]
  },
  {
   "cell_type": "code",
   "execution_count": 4,
   "id": "1854fc27-49a2-4f0b-813c-b137ed71607d",
   "metadata": {},
   "outputs": [
    {
     "data": {
      "text/plain": [
       "'<html>\\n    <head>\\n        <title>HTML sample</title>\\n        <style>\\n            span {color:red;}\\n        </style>\\n    </head>\\n    <body>\\n        <h1 class=\"greeting css\" id=\"test\">Hello CSS</h1>\\n        <h1 class=\"css\">Hi CSS</h1>\\n        <div id=\"subject\">선택자</div>\\n        <p>CSS 선택자는 다양한 곳에 활용됩니다</p>\\n        <div class=\"contents\">선택자를 어떻게 작성하느냐에 따라 \\n\\t<span>다른 <b>요소가 반환</b></span>됩니다.\\n        </div>\\n        <div>CSS선택자는 다양한 곳에 <b>활용</b>됩니다</div>\\n        <input type=\"text\" name=\"passwd\" id=\"passwd\">\\n    </body>\\n</html>\\n\\n\\n\\n'"
      ]
     },
     "execution_count": 4,
     "metadata": {},
     "output_type": "execute_result"
    }
   ],
   "source": [
    "response.content.decode('utf-8')"
   ]
  },
  {
   "cell_type": "code",
   "execution_count": 5,
   "id": "321efd31-584a-441e-b50f-1e1ec152af49",
   "metadata": {},
   "outputs": [
    {
     "data": {
      "text/plain": [
       "<html>\n",
       "<head>\n",
       "<title>HTML sample</title>\n",
       "<style>\n",
       "            span {color:red;}\n",
       "        </style>\n",
       "</head>\n",
       "<body>\n",
       "<h1 class=\"greeting css\" id=\"test\">Hello CSS</h1>\n",
       "<h1 class=\"css\">Hi CSS</h1>\n",
       "<div id=\"subject\">선택자</div>\n",
       "<p>CSS 선택자는 다양한 곳에 활용됩니다</p>\n",
       "<div class=\"contents\">선택자를 어떻게 작성하느냐에 따라 \n",
       "\t<span>다른 <b>요소가 반환</b></span>됩니다.\n",
       "        </div>\n",
       "<div>CSS선택자는 다양한 곳에 <b>활용</b>됩니다</div>\n",
       "<input id=\"passwd\" name=\"passwd\" type=\"text\"/>\n",
       "</body>\n",
       "</html>"
      ]
     },
     "execution_count": 5,
     "metadata": {},
     "output_type": "execute_result"
    }
   ],
   "source": [
    "# html 파싱\n",
    "from bs4 import BeautifulSoup\n",
    "soup=BeautifulSoup(response.content,\"html.parser\")\n",
    "soup"
   ]
  },
  {
   "cell_type": "code",
   "execution_count": 6,
   "id": "259de9e2-2c66-4cca-b15f-98174274e495",
   "metadata": {},
   "outputs": [
    {
     "name": "stdout",
     "output_type": "stream",
     "text": [
      "<h1 class=\"greeting css\" id=\"test\">Hello CSS</h1>\n",
      "el.text : Hello CSS\n",
      "el의 속성들 : {'class': ['greeting', 'css'], 'id': 'test'}\n",
      "el의 class속성 : ['greeting', 'css']\n",
      "el의 name : h1\n"
     ]
    }
   ],
   "source": [
    "el = soup.select_one('h1')\n",
    "print(el)\n",
    "print('el.text :', el.text)\n",
    "print('el의 속성들 :', el.attrs)\n",
    "print('el의 class속성 :', el.attrs['class'])\n",
    "print('el의 name :', el.name)"
   ]
  },
  {
   "cell_type": "code",
   "execution_count": 7,
   "id": "73707a0c-f6cf-4b83-9180-56fabe4d398e",
   "metadata": {},
   "outputs": [
    {
     "name": "stdout",
     "output_type": "stream",
     "text": [
      "el :  [<h1 class=\"greeting css\" id=\"test\">Hello CSS</h1>, <h1 class=\"css\">Hi CSS</h1>]\n",
      "el의 text들 : ['Hello CSS', 'Hi CSS']\n",
      "el의 string : ['Hello CSS', 'Hi CSS']\n",
      "el의 속성들 : [{'class': ['greeting', 'css'], 'id': 'test'}, {'class': ['css']}]\n",
      "el의 class속성들 : [['greeting', 'css'], ['css']]\n"
     ]
    }
   ],
   "source": [
    "# h1태그들 다 : 없는 태그는 빈스트링. 한 엘리먼트만 있어도 리스트로 반환\n",
    "el = soup.select(\"h1\")\n",
    "print('el : ', el)\n",
    "print('el의 text들 :', [e.text for e in el])\n",
    "print('el의 string :', [e.string for e in el])\n",
    "print('el의 속성들 :', [e.attrs for e in el])\n",
    "print('el의 class속성들 :', [e.attrs['class'] for e in el])"
   ]
  },
  {
   "cell_type": "markdown",
   "id": "bb4451d3-7617-49c8-a501-af2a29a53671",
   "metadata": {},
   "source": [
    "# 2절. 정적 웹 데이터 수집\n",
    "## 2.1 request 모듈 : 네이버 환율정보 가져오기"
   ]
  },
  {
   "cell_type": "code",
   "execution_count": 8,
   "id": "6db84983-5625-450c-8e96-fa11a42faa26",
   "metadata": {},
   "outputs": [
    {
     "name": "stdout",
     "output_type": "stream",
     "text": [
      "1,377.00\n",
      "878.78\n",
      "1,494.32\n",
      "189.71\n",
      "157.2400\n",
      "1.0857\n",
      "1.2737\n",
      "104.6200\n",
      "76.99\n",
      "1669.35\n",
      "2345.8\n",
      "103248.57\n"
     ]
    }
   ],
   "source": [
    "import requests\n",
    "from bs4 import BeautifulSoup\n",
    "from numpy import round\n",
    "url = \"https://finance.naver.com/marketindex\"\n",
    "marketindex = requests.get(url)\n",
    "soup = BeautifulSoup(marketindex.content, \"html.parser\")\n",
    "price = soup.select(\"div.head_info > span.value\")\n",
    "for idx in range(len(price)):\n",
    "    print(price[idx].text)"
   ]
  },
  {
   "cell_type": "code",
   "execution_count": 9,
   "id": "0014e88a-030e-4a87-90d4-793eb0c2d4c1",
   "metadata": {},
   "outputs": [
    {
     "name": "stdout",
     "output_type": "stream",
     "text": [
      "미국 USD\n",
      "일본 JPY(100엔)\n",
      "유럽연합 EUR\n",
      "중국 CNY\n",
      "달러/일본 엔\n",
      "유로/달러\n",
      "영국 파운드/달러\n",
      "달러인덱스\n",
      "WTI\n",
      "휘발유\n",
      "국제 금\n",
      "국내 금\n"
     ]
    }
   ],
   "source": [
    "title = soup.select('h3.h_lst > span.blind')\n",
    "for idx in range(len(title)):\n",
    "    print(title[idx].text)"
   ]
  },
  {
   "cell_type": "code",
   "execution_count": 10,
   "id": "30a71e04-fb0c-4c99-8e88-8a421968e7df",
   "metadata": {},
   "outputs": [
    {
     "data": {
      "text/plain": [
       "['원', '원', '원', '원', '엔', '달러', '달러', '', '달러', '원', '달러', '원']"
      ]
     },
     "execution_count": 10,
     "metadata": {},
     "output_type": "execute_result"
    }
   ],
   "source": [
    "unit = soup.select('div.head_info > span > span.blind')\n",
    "unit = [u.text for u in unit]\n",
    "unit.insert(7,'')\n",
    "unit"
   ]
  },
  {
   "cell_type": "code",
   "execution_count": 11,
   "id": "dcfd4e29-82ee-447b-9230-c02229f0d87c",
   "metadata": {},
   "outputs": [
    {
     "name": "stdout",
     "output_type": "stream",
     "text": [
      "하락, 하락, 하락, 하락, 상승, 하락, 상승, 하락, 하락, 하락, 하락, 하락, "
     ]
    }
   ],
   "source": [
    "status = soup.select('div.head_info > span.blind')\n",
    "for idx in range(len(status)):\n",
    "    print(status[idx].text, end=', ')"
   ]
  },
  {
   "cell_type": "code",
   "execution_count": 12,
   "id": "06eb451e-21b8-4fb8-a7c1-659f9259b5a2",
   "metadata": {},
   "outputs": [
    {
     "data": {
      "text/plain": [
       "(12, 12, 12, 12)"
      ]
     },
     "execution_count": 12,
     "metadata": {},
     "output_type": "execute_result"
    }
   ],
   "source": [
    "len(title), len(price), len(unit), len(status)"
   ]
  },
  {
   "cell_type": "code",
   "execution_count": 13,
   "id": "94cca83c-c552-484a-92f7-b94799a6c98c",
   "metadata": {},
   "outputs": [
    {
     "name": "stdout",
     "output_type": "stream",
     "text": [
      "미국 USD : 1,377.00원 - 하락\n",
      "일본 JPY(100엔) : 878.78원 - 하락\n",
      "유럽연합 EUR : 1,494.32원 - 하락\n",
      "중국 CNY : 189.71원 - 하락\n",
      "달러/일본 엔 : 157.2400엔 - 상승\n",
      "유로/달러 : 1.0857달러 - 하락\n",
      "영국 파운드/달러 : 1.2737달러 - 상승\n",
      "달러인덱스 : 104.6200 - 하락\n",
      "WTI : 76.99달러 - 하락\n",
      "휘발유 : 1669.35원 - 하락\n",
      "국제 금 : 2345.8달러 - 하락\n",
      "국내 금 : 103248.57원 - 하락\n"
     ]
    }
   ],
   "source": [
    "for idx in range(len(title)):\n",
    "    print(\"{} : {}{} - {}\".format(title[idx].text, price[idx].text, \n",
    "                                 unit[idx], status[idx].text))"
   ]
  },
  {
   "cell_type": "markdown",
   "id": "151d00cb-a1c8-4e99-89e9-12d7c1944b74",
   "metadata": {},
   "source": [
    "# 2.2 yest24의 베스트 셀러를 출력"
   ]
  },
  {
   "cell_type": "code",
   "execution_count": null,
   "id": "612abca9-ee0d-4a66-919b-9ae7e879fa07",
   "metadata": {},
   "outputs": [],
   "source": [
    "import requests\n",
    "from urllib.request import urlopen\n",
    "from bs4 import BeautifulSoup\n",
    "url = \"http://www.yes24.com/24/category/bestseller\"\n",
    "# bestseller = requests.get(url)\n",
    "# soup = BeautifulSoup(bestseller.content, \"html.parser\")\n",
    "bestseller = urlopen(url)\n",
    "soup = BeautifulSoup(bestseller, \"html.parser\")\n",
    "authors_ = soup.select(\"div.info_row > span.info_auth.authPub\")\n",
    "for idx in range(len(el)):\n",
    "    print(el[idx].select_one('a').text, end=\"\\n\\n\")"
   ]
  },
  {
   "cell_type": "code",
   "execution_count": 34,
   "id": "21b2dca3-163b-4366-b3bd-9243952d3368",
   "metadata": {},
   "outputs": [
    {
     "name": "stdout",
     "output_type": "stream",
     "text": [
      "순위,책이름,저자및출판사,가격\n",
      "1,선재 업고 튀어 대본집 세트,이시은,45,000\n",
      "2,리틀 라이프 1,한야 야나기하라,13,320\n",
      "3,리틀 라이프 2,한야 야나기하라,13,320\n",
      "4,하루 한 장 나의 어휘력을 위한 필사 노트,유선경,21,420\n",
      "5,불변의 법칙,모건 하우절,22,500\n",
      "6,나를 소모하지 않는 현명한 태도에 관하여,마티아스 뇔케,16,020\n",
      "7,나는 다정한 관찰자가 되기로 했다,이은경,16,020\n",
      "8,쿠이 료코 낙서집 데이드림 아워,쿠이 료코,18,000\n",
      "9,세이노의 가르침,세이노(SayNo),6,480\n",
      "10,부자의 마지막 가르침,다우치 마나부,17,820\n",
      "11,신화의 숲,김헌,16,200\n",
      "12,원피스 ONE PIECE 108,오다 에이이치로,4,950\n",
      "13,컬러의 세계,찰스 브라메스코,17,820\n",
      "14,흔한남매 과학 탐험대 10 생태계,흔한남매,13,320\n",
      "15,마흔에 읽는 쇼펜하우어,강용수,15,300\n",
      "16,THE MONEY BOOK 더 머니북,토스,19,800\n",
      "17,국어 잘하는 아이가 이깁니다,나민애,15,750\n",
      "18,룬의 아이들 - 블러디드 7,전민희,15,300\n",
      "19,꽃길이 따로 있나, 내 삶이 꽃인 것을,오평선,15,120\n",
      "20,설민석의 한국사 대모험 29,설민석,11,700\n",
      "21,돈의 심리학 (30만 부 기념 스페셜 에디션) ,모건 하우절,17,820\n",
      "22,나는 메트로폴리탄 미술관의 경비원입니다,패트릭 브링리,15,750\n",
      "23,빨모쌤의 라이브 영어회화,신용하,19,800\n",
      "24,내 몸 혁명,박용우,17,550\n"
     ]
    }
   ],
   "source": [
    "import requests\n",
    "from urllib.request import urlopen\n",
    "from bs4 import BeautifulSoup\n",
    "url = \"http://www.yes24.com/24/category/bestseller\"\n",
    "# bestseller = requests.get(url)\n",
    "# soup = BeautifulSoup(bestseller.content, \"html.parser\")\n",
    "bestseller = urlopen(url)\n",
    "soup = BeautifulSoup(bestseller, \"html.parser\")\n",
    "titles=soup.select(\"div.item_info > div.info_row > a.gd_name\")\n",
    "# authors = soup.select(\"div.info_row > span.info_auth.authPub > a\")\n",
    "authors_wrap = soup.select(\"div.info_row > span.info_auth.authPub\")\n",
    "prices = soup.select(\"div.info_row > strong.txt_num > em.yes_b\")\n",
    "# 화면출력\n",
    "print(\"순위,책이름,저자및출판사,가격\")\n",
    "title = []\n",
    "author = []\n",
    "price = []\n",
    "for idx in range(len(titles)):\n",
    "    authors = authors_wrap[idx].select_one('a')\n",
    "    print(\"{},{},{},{}\".format(idx+1, titles[idx].text, authors.text,  prices[idx].text))\n",
    "    # print(\"{},{},{},{}\".format(idx+1, titles[idx].text, authors[idx].text,  prices[idx].text))\n",
    "    title.append(titles[idx].text)\n",
    "    author.append(authors.text)\n",
    "    price.append(prices[idx].text)"
   ]
  },
  {
   "cell_type": "code",
   "execution_count": 35,
   "id": "d4ee07d1-2d6d-4aa7-8251-8a6a09b245d2",
   "metadata": {},
   "outputs": [
    {
     "data": {
      "text/html": [
       "<div>\n",
       "<style scoped>\n",
       "    .dataframe tbody tr th:only-of-type {\n",
       "        vertical-align: middle;\n",
       "    }\n",
       "\n",
       "    .dataframe tbody tr th {\n",
       "        vertical-align: top;\n",
       "    }\n",
       "\n",
       "    .dataframe thead th {\n",
       "        text-align: right;\n",
       "    }\n",
       "</style>\n",
       "<table border=\"1\" class=\"dataframe\">\n",
       "  <thead>\n",
       "    <tr style=\"text-align: right;\">\n",
       "      <th></th>\n",
       "      <th>순위</th>\n",
       "      <th>책이름</th>\n",
       "      <th>저자및출판사</th>\n",
       "      <th>가격</th>\n",
       "    </tr>\n",
       "  </thead>\n",
       "  <tbody>\n",
       "    <tr>\n",
       "      <th>0</th>\n",
       "      <td>1</td>\n",
       "      <td>선재 업고 튀어 대본집 세트</td>\n",
       "      <td>이시은</td>\n",
       "      <td>45,000</td>\n",
       "    </tr>\n",
       "    <tr>\n",
       "      <th>1</th>\n",
       "      <td>2</td>\n",
       "      <td>리틀 라이프 1</td>\n",
       "      <td>한야 야나기하라</td>\n",
       "      <td>13,320</td>\n",
       "    </tr>\n",
       "    <tr>\n",
       "      <th>2</th>\n",
       "      <td>3</td>\n",
       "      <td>리틀 라이프 2</td>\n",
       "      <td>한야 야나기하라</td>\n",
       "      <td>13,320</td>\n",
       "    </tr>\n",
       "    <tr>\n",
       "      <th>3</th>\n",
       "      <td>4</td>\n",
       "      <td>하루 한 장 나의 어휘력을 위한 필사 노트</td>\n",
       "      <td>유선경</td>\n",
       "      <td>21,420</td>\n",
       "    </tr>\n",
       "    <tr>\n",
       "      <th>4</th>\n",
       "      <td>5</td>\n",
       "      <td>불변의 법칙</td>\n",
       "      <td>모건 하우절</td>\n",
       "      <td>22,500</td>\n",
       "    </tr>\n",
       "    <tr>\n",
       "      <th>5</th>\n",
       "      <td>6</td>\n",
       "      <td>나를 소모하지 않는 현명한 태도에 관하여</td>\n",
       "      <td>마티아스 뇔케</td>\n",
       "      <td>16,020</td>\n",
       "    </tr>\n",
       "    <tr>\n",
       "      <th>6</th>\n",
       "      <td>7</td>\n",
       "      <td>나는 다정한 관찰자가 되기로 했다</td>\n",
       "      <td>이은경</td>\n",
       "      <td>16,020</td>\n",
       "    </tr>\n",
       "    <tr>\n",
       "      <th>7</th>\n",
       "      <td>8</td>\n",
       "      <td>쿠이 료코 낙서집 데이드림 아워</td>\n",
       "      <td>쿠이 료코</td>\n",
       "      <td>18,000</td>\n",
       "    </tr>\n",
       "    <tr>\n",
       "      <th>8</th>\n",
       "      <td>9</td>\n",
       "      <td>세이노의 가르침</td>\n",
       "      <td>세이노(SayNo)</td>\n",
       "      <td>6,480</td>\n",
       "    </tr>\n",
       "    <tr>\n",
       "      <th>9</th>\n",
       "      <td>10</td>\n",
       "      <td>부자의 마지막 가르침</td>\n",
       "      <td>다우치 마나부</td>\n",
       "      <td>17,820</td>\n",
       "    </tr>\n",
       "    <tr>\n",
       "      <th>10</th>\n",
       "      <td>11</td>\n",
       "      <td>신화의 숲</td>\n",
       "      <td>김헌</td>\n",
       "      <td>16,200</td>\n",
       "    </tr>\n",
       "    <tr>\n",
       "      <th>11</th>\n",
       "      <td>12</td>\n",
       "      <td>원피스 ONE PIECE 108</td>\n",
       "      <td>오다 에이이치로</td>\n",
       "      <td>4,950</td>\n",
       "    </tr>\n",
       "    <tr>\n",
       "      <th>12</th>\n",
       "      <td>13</td>\n",
       "      <td>컬러의 세계</td>\n",
       "      <td>찰스 브라메스코</td>\n",
       "      <td>17,820</td>\n",
       "    </tr>\n",
       "    <tr>\n",
       "      <th>13</th>\n",
       "      <td>14</td>\n",
       "      <td>흔한남매 과학 탐험대 10 생태계</td>\n",
       "      <td>흔한남매</td>\n",
       "      <td>13,320</td>\n",
       "    </tr>\n",
       "    <tr>\n",
       "      <th>14</th>\n",
       "      <td>15</td>\n",
       "      <td>마흔에 읽는 쇼펜하우어</td>\n",
       "      <td>강용수</td>\n",
       "      <td>15,300</td>\n",
       "    </tr>\n",
       "    <tr>\n",
       "      <th>15</th>\n",
       "      <td>16</td>\n",
       "      <td>THE MONEY BOOK 더 머니북</td>\n",
       "      <td>토스</td>\n",
       "      <td>19,800</td>\n",
       "    </tr>\n",
       "    <tr>\n",
       "      <th>16</th>\n",
       "      <td>17</td>\n",
       "      <td>국어 잘하는 아이가 이깁니다</td>\n",
       "      <td>나민애</td>\n",
       "      <td>15,750</td>\n",
       "    </tr>\n",
       "    <tr>\n",
       "      <th>17</th>\n",
       "      <td>18</td>\n",
       "      <td>룬의 아이들 - 블러디드 7</td>\n",
       "      <td>전민희</td>\n",
       "      <td>15,300</td>\n",
       "    </tr>\n",
       "    <tr>\n",
       "      <th>18</th>\n",
       "      <td>19</td>\n",
       "      <td>꽃길이 따로 있나, 내 삶이 꽃인 것을</td>\n",
       "      <td>오평선</td>\n",
       "      <td>15,120</td>\n",
       "    </tr>\n",
       "    <tr>\n",
       "      <th>19</th>\n",
       "      <td>20</td>\n",
       "      <td>설민석의 한국사 대모험 29</td>\n",
       "      <td>설민석</td>\n",
       "      <td>11,700</td>\n",
       "    </tr>\n",
       "    <tr>\n",
       "      <th>20</th>\n",
       "      <td>21</td>\n",
       "      <td>돈의 심리학 (30만 부 기념 스페셜 에디션)</td>\n",
       "      <td>모건 하우절</td>\n",
       "      <td>17,820</td>\n",
       "    </tr>\n",
       "    <tr>\n",
       "      <th>21</th>\n",
       "      <td>22</td>\n",
       "      <td>나는 메트로폴리탄 미술관의 경비원입니다</td>\n",
       "      <td>패트릭 브링리</td>\n",
       "      <td>15,750</td>\n",
       "    </tr>\n",
       "    <tr>\n",
       "      <th>22</th>\n",
       "      <td>23</td>\n",
       "      <td>빨모쌤의 라이브 영어회화</td>\n",
       "      <td>신용하</td>\n",
       "      <td>19,800</td>\n",
       "    </tr>\n",
       "    <tr>\n",
       "      <th>23</th>\n",
       "      <td>24</td>\n",
       "      <td>내 몸 혁명</td>\n",
       "      <td>박용우</td>\n",
       "      <td>17,550</td>\n",
       "    </tr>\n",
       "  </tbody>\n",
       "</table>\n",
       "</div>"
      ],
      "text/plain": [
       "    순위                         책이름      저자및출판사      가격\n",
       "0    1             선재 업고 튀어 대본집 세트         이시은  45,000\n",
       "1    2                    리틀 라이프 1    한야 야나기하라  13,320\n",
       "2    3                    리틀 라이프 2    한야 야나기하라  13,320\n",
       "3    4     하루 한 장 나의 어휘력을 위한 필사 노트         유선경  21,420\n",
       "4    5                      불변의 법칙      모건 하우절  22,500\n",
       "5    6      나를 소모하지 않는 현명한 태도에 관하여     마티아스 뇔케  16,020\n",
       "6    7          나는 다정한 관찰자가 되기로 했다         이은경  16,020\n",
       "7    8           쿠이 료코 낙서집 데이드림 아워       쿠이 료코  18,000\n",
       "8    9                    세이노의 가르침  세이노(SayNo)   6,480\n",
       "9   10                 부자의 마지막 가르침     다우치 마나부  17,820\n",
       "10  11                       신화의 숲          김헌  16,200\n",
       "11  12           원피스 ONE PIECE 108    오다 에이이치로   4,950\n",
       "12  13                      컬러의 세계    찰스 브라메스코  17,820\n",
       "13  14          흔한남매 과학 탐험대 10 생태계        흔한남매  13,320\n",
       "14  15                마흔에 읽는 쇼펜하우어         강용수  15,300\n",
       "15  16        THE MONEY BOOK 더 머니북          토스  19,800\n",
       "16  17             국어 잘하는 아이가 이깁니다         나민애  15,750\n",
       "17  18             룬의 아이들 - 블러디드 7         전민희  15,300\n",
       "18  19       꽃길이 따로 있나, 내 삶이 꽃인 것을         오평선  15,120\n",
       "19  20             설민석의 한국사 대모험 29         설민석  11,700\n",
       "20  21  돈의 심리학 (30만 부 기념 스페셜 에디션)       모건 하우절  17,820\n",
       "21  22       나는 메트로폴리탄 미술관의 경비원입니다     패트릭 브링리  15,750\n",
       "22  23               빨모쌤의 라이브 영어회화         신용하  19,800\n",
       "23  24                      내 몸 혁명         박용우  17,550"
      ]
     },
     "execution_count": 35,
     "metadata": {},
     "output_type": "execute_result"
    }
   ],
   "source": [
    "import pandas as pd\n",
    "df = pd.DataFrame({'순위':range(1,25),\n",
    "                   '책이름':title,\n",
    "                   '저자및출판사':author,\n",
    "                   '가격':price})\n",
    "df"
   ]
  },
  {
   "cell_type": "code",
   "execution_count": 36,
   "id": "c078a8bd-cdde-42e3-b8cd-8463e6177121",
   "metadata": {},
   "outputs": [],
   "source": [
    "df.to_csv('data/yes24.csv', encoding='utf-8', index=False)"
   ]
  },
  {
   "cell_type": "code",
   "execution_count": null,
   "id": "19348671-6bf6-4057-8a31-223bc437edc6",
   "metadata": {},
   "outputs": [],
   "source": []
  }
 ],
 "metadata": {
  "kernelspec": {
   "display_name": "Python 3 (ipykernel)",
   "language": "python",
   "name": "python3"
  },
  "language_info": {
   "codemirror_mode": {
    "name": "ipython",
    "version": 3
   },
   "file_extension": ".py",
   "mimetype": "text/x-python",
   "name": "python",
   "nbconvert_exporter": "python",
   "pygments_lexer": "ipython3",
   "version": "3.11.7"
  }
 },
 "nbformat": 4,
 "nbformat_minor": 5
}
