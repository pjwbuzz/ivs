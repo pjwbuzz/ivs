{
 "cells": [
  {
   "cell_type": "code",
   "execution_count": 2,
   "id": "32bd70be-5d00-4ef0-9422-2cd90471bd23",
   "metadata": {},
   "outputs": [
    {
     "name": "stdin",
     "output_type": "stream",
     "text": [
      "이름을 입력해주세요 박정우\n",
      "나이를 입력해주세요 26\n"
     ]
    },
    {
     "name": "stdout",
     "output_type": "stream",
     "text": [
      "박정우님의 나이는 26살입니다.\n"
     ]
    }
   ],
   "source": [
    "import numpy as np\n",
    "\n",
    "name = input(\"이름을 입력해주세요\")\n",
    "age = int(input(\"나이를 입력해주세요\"))\n",
    "print(\"{}님의 나이는 {}살입니다.\".format(name,age))"
   ]
  },
  {
   "cell_type": "code",
   "execution_count": 11,
   "id": "0d97b79e-e838-418c-ac47-5ab6db992758",
   "metadata": {},
   "outputs": [
    {
     "name": "stdin",
     "output_type": "stream",
     "text": [
      "첫 번째 정수를 입력해주세요 10\n",
      "두 번째 정수를 입력해주세요 0\n"
     ]
    },
    {
     "name": "stdout",
     "output_type": "stream",
     "text": [
      "a + b =  10\n",
      "a - b =  10\n",
      "a * b =  0\n",
      "두 번째 정수에 0은 안돼요\n"
     ]
    }
   ],
   "source": [
    "a = int(input(\"첫 번째 정수를 입력해주세요\"))\n",
    "b = int(input(\"두 번째 정수를 입력해주세요\"))\n",
    "print('a + b = ',(a+b))\n",
    "print('a - b = ',(a-b))\n",
    "print('a * b = ',(a*b))\n",
    "try:\n",
    "    print('a / b = ',(a/b))\n",
    "    print('a // b = ',(a//b))\n",
    "    print('a % b = ',(a%b))\n",
    "except:\n",
    "    print(\"두 번째 정수에 0은 안돼요\")"
   ]
  },
  {
   "cell_type": "code",
   "execution_count": 14,
   "id": "8534bb81-f955-4f06-a6c8-271d3187bc08",
   "metadata": {},
   "outputs": [
    {
     "name": "stdout",
     "output_type": "stream",
     "text": [
      "World Hello\n"
     ]
    }
   ],
   "source": [
    "str_ = \"Hello World\"\n",
    "\n",
    "temp = str_.split()\n",
    "print(temp[1],temp[0])"
   ]
  },
  {
   "cell_type": "code",
   "execution_count": null,
   "id": "1e914655-9744-4d23-9208-0ff55f0579cf",
   "metadata": {},
   "outputs": [],
   "source": []
  }
 ],
 "metadata": {
  "kernelspec": {
   "display_name": "Python 3 (ipykernel)",
   "language": "python",
   "name": "python3"
  },
  "language_info": {
   "codemirror_mode": {
    "name": "ipython",
    "version": 3
   },
   "file_extension": ".py",
   "mimetype": "text/x-python",
   "name": "python",
   "nbconvert_exporter": "python",
   "pygments_lexer": "ipython3",
   "version": "3.12.3"
  }
 },
 "nbformat": 4,
 "nbformat_minor": 5
}
