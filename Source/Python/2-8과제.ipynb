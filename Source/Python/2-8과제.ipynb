{
 "cells": [
  {
   "cell_type": "code",
   "execution_count": 16,
   "id": "32bd70be-5d00-4ef0-9422-2cd90471bd23",
   "metadata": {},
   "outputs": [
    {
     "name": "stdin",
     "output_type": "stream",
     "text": [
      "이름은? 정우\n",
      "나이는? 26\n"
     ]
    },
    {
     "name": "stdout",
     "output_type": "stream",
     "text": [
      "이름 : 정우\n",
      "나이 : 26\n"
     ]
    }
   ],
   "source": [
    "import numpy as np\n",
    "name = input(\"이름은?\")\n",
    "age = int(input(\"나이는?\"))\n",
    "print(\"이름 : {}\\n나이 : {}\".format(name,age))"
   ]
  },
  {
   "cell_type": "code",
   "execution_count": 19,
   "id": "0d97b79e-e838-418c-ac47-5ab6db992758",
   "metadata": {},
   "outputs": [
    {
     "name": "stdin",
     "output_type": "stream",
     "text": [
      "첫번째 수를 입력하세요 10\n",
      "두번째 수를 입력하세요 0\n"
     ]
    },
    {
     "name": "stdout",
     "output_type": "stream",
     "text": [
      "덧셈 : 10\n",
      "분모에는 0이 못와요\n"
     ]
    }
   ],
   "source": [
    "num1 = int(input(\"첫번째 수를 입력하세요\"))\n",
    "num2 = int(input(\"두번째 수를 입력하세요\"))\n",
    "print(\"덧셈 :\",num1+num2)\n",
    "try :\n",
    "    print(\"나눗셈 :\",num1/num2)\n",
    "except :\n",
    "    print(\"분모에는 0이 못와요\")"
   ]
  },
  {
   "cell_type": "code",
   "execution_count": 21,
   "id": "8534bb81-f955-4f06-a6c8-271d3187bc08",
   "metadata": {},
   "outputs": [
    {
     "name": "stdout",
     "output_type": "stream",
     "text": [
      "World Hello\n"
     ]
    }
   ],
   "source": [
    "string = \"Hello World\"\n",
    "string=string.split()\n",
    "print(string[1],string[0])"
   ]
  },
  {
   "cell_type": "code",
   "execution_count": 23,
   "id": "8989ebf3-c6dd-47d9-8303-6e08854c2433",
   "metadata": {},
   "outputs": [
    {
     "name": "stdout",
     "output_type": "stream",
     "text": [
      "abcdef\n",
      "bcdefa\n"
     ]
    }
   ],
   "source": [
    "x = 'abcdef'\n",
    "print(x)\n",
    "print(x[1:]+x[0])"
   ]
  },
  {
   "cell_type": "code",
   "execution_count": 25,
   "id": "919b567d-f193-4ed7-96f4-381a0e1d0cee",
   "metadata": {},
   "outputs": [
    {
     "name": "stdout",
     "output_type": "stream",
     "text": [
      "fedcba\n"
     ]
    }
   ],
   "source": [
    "print(x[::-1])"
   ]
  },
  {
   "cell_type": "code",
   "execution_count": 31,
   "id": "91ee3ffc-7802-4f87-a2fa-313b542ab68c",
   "metadata": {},
   "outputs": [
    {
     "name": "stdin",
     "output_type": "stream",
     "text": [
      "섭씨 온도를 입력하세요 0\n"
     ]
    },
    {
     "name": "stdout",
     "output_type": "stream",
     "text": [
      "32도\n"
     ]
    }
   ],
   "source": [
    "today_temp = float(input(\"섭씨 온도를 입력하세요\"))\n",
    "faren_temp = (today_temp*1.8)+32\n",
    "if faren_temp==round(faren_temp):\n",
    "    print(\"{:.0f}도\".format(faren_temp))\n",
    "else :\n",
    "    print(\"{:.2f}도\".format(faren_temp))"
   ]
  },
  {
   "cell_type": "code",
   "execution_count": 32,
   "id": "cb4f9826-46e8-4680-8a96-311da1148b25",
   "metadata": {},
   "outputs": [
    {
     "name": "stdout",
     "output_type": "stream",
     "text": [
      "SeounSeoul\n",
      "Seou n Seoul\n"
     ]
    }
   ],
   "source": [
    "#Seou n Seoul\n",
    "text = \"Seoul A001 - programming with python\"\n",
    "print(text[:4]+text[-1]+text.split()[0])\n",
    "print(text[:4], text[-1], text.split()[0])"
   ]
  },
  {
   "cell_type": "code",
   "execution_count": 38,
   "id": "7c56e187-1b22-4cc1-bfdc-07312bd54594",
   "metadata": {},
   "outputs": [
    {
     "name": "stdout",
     "output_type": "stream",
     "text": [
      "['a', 'b', 'c', [1, 2, 3]]\n",
      "['a', 'b', 'c', 1, 2, 3]\n",
      "['a', 'b', 'c', 1, 2, 3]\n"
     ]
    }
   ],
   "source": [
    "list1 = [\"a\",\"b\",\"c\"]\n",
    "list2 = [1,2,3]\n",
    "list1.append(list2)\n",
    "print(list1)\n",
    "\n",
    "list1 = [\"a\",\"b\",\"c\"]\n",
    "list2 = [1,2,3]\n",
    "list1.extend(list2)\n",
    "print(list1)\n",
    "\n",
    "list1 = [\"a\",\"b\",\"c\"]\n",
    "list2 = [1,2,3]\n",
    "print(list1+list2)"
   ]
  },
  {
   "cell_type": "code",
   "execution_count": null,
   "id": "4810f09f-9386-4ad0-a92e-08157a91d8bd",
   "metadata": {},
   "outputs": [],
   "source": []
  }
 ],
 "metadata": {
  "kernelspec": {
   "display_name": "Python 3 (ipykernel)",
   "language": "python",
   "name": "python3"
  },
  "language_info": {
   "codemirror_mode": {
    "name": "ipython",
    "version": 3
   },
   "file_extension": ".py",
   "mimetype": "text/x-python",
   "name": "python",
   "nbconvert_exporter": "python",
   "pygments_lexer": "ipython3",
   "version": "3.12.3"
  }
 },
 "nbformat": 4,
 "nbformat_minor": 5
}
