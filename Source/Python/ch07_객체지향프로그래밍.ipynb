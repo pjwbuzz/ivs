{
 "cells": [
  {
   "cell_type": "markdown",
   "id": "c287b249-413f-4ab2-ba9a-1a5766fcad0f",
   "metadata": {},
   "source": [
    "# <font color=\"#9932CC\" size=\"10\"><b>ch07. 객체지향 프로그래밍</b></font>"
   ]
  },
  {
   "cell_type": "markdown",
   "id": "49808e59-41b0-4548-ae4f-95b899dcf331",
   "metadata": {},
   "source": [
    "## 1절. 객체와 클래스\n",
    "```\n",
    "class 클래스명(상속받을 클래스명):\n",
    "    변수나 함수들을 선언\n",
    "```"
   ]
  },
  {
   "cell_type": "code",
   "execution_count": 1,
   "id": "ce5a06fa-0baa-4ff1-a9a8-c53fe93dea7d",
   "metadata": {},
   "outputs": [],
   "source": [
    "class Person:\n",
    "    \"\"\"Person 클래스는 어쩌구~저쩌구~ 설명하는 독스트링\n",
    "    ㅁㄴㅇㄹ\n",
    "    ㅁㅇㄴㄹ\n",
    "    \"\"\"\n",
    "    pass\n",
    "p1 = Person()"
   ]
  },
  {
   "cell_type": "code",
   "execution_count": 14,
   "id": "bf665a38-e7f3-482a-b9d2-12127caee096",
   "metadata": {},
   "outputs": [],
   "source": [
    "#구조체 만들듯이 타입 생성\n",
    "class Person:   #상속 안받으면 안쓰면댐\n",
    "    'Person은 이름과 성별 멤버변수가 있는 객체타입입니다.'\n",
    "    def __init__(self, name='홍길동',gender='남자'):   #생성자함수\n",
    "        self.name = name\n",
    "        self.gender = gender  #이렇게 해야 self객체의 name,gender 에 매개변수(지역변수)name,gender가 대입됨\n",
    "        print(\"{}, {} Person 객체가 생성되었습니다.\".format(self.name,self.gender))\n",
    "    def print_info(self):\n",
    "        print(\"{}님은 {}입니다.\".format(self.name,self.gender))"
   ]
  },
  {
   "cell_type": "code",
   "execution_count": 15,
   "id": "725539be-c18f-45ae-9754-87c79f9883e1",
   "metadata": {},
   "outputs": [
    {
     "name": "stdout",
     "output_type": "stream",
     "text": [
      "신혜선, 여자 Person 객체가 생성되었습니다.\n"
     ]
    }
   ],
   "source": [
    "p1 = Person(\"신혜선\",\"여자\")  #이렇게 객체 생성"
   ]
  },
  {
   "cell_type": "code",
   "execution_count": 17,
   "id": "07a58dd2-fce5-4c49-baca-0702530525e3",
   "metadata": {},
   "outputs": [
    {
     "name": "stdout",
     "output_type": "stream",
     "text": [
      "신혜선님은 여자입니다.\n"
     ]
    }
   ],
   "source": [
    "p1.print_info()"
   ]
  },
  {
   "cell_type": "code",
   "execution_count": null,
   "id": "58e1d528-90cd-43a6-8615-dadbd803003b",
   "metadata": {},
   "outputs": [],
   "source": []
  }
 ],
 "metadata": {
  "kernelspec": {
   "display_name": "Python 3 (ipykernel)",
   "language": "python",
   "name": "python3"
  },
  "language_info": {
   "codemirror_mode": {
    "name": "ipython",
    "version": 3
   },
   "file_extension": ".py",
   "mimetype": "text/x-python",
   "name": "python",
   "nbconvert_exporter": "python",
   "pygments_lexer": "ipython3",
   "version": "3.12.3"
  }
 },
 "nbformat": 4,
 "nbformat_minor": 5
}
