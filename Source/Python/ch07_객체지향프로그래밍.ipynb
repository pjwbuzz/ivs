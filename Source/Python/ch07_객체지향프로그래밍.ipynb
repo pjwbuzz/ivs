{
 "cells": [
  {
   "cell_type": "markdown",
   "id": "c287b249-413f-4ab2-ba9a-1a5766fcad0f",
   "metadata": {},
   "source": [
    "# <font color=\"#9932CC\" size=\"10\"><b>ch07. 객체지향 프로그래밍</b></font>"
   ]
  },
  {
   "cell_type": "markdown",
   "id": "49808e59-41b0-4548-ae4f-95b899dcf331",
   "metadata": {},
   "source": [
    "# 1절. 객체와 클래스\n",
    "```\n",
    "class 클래스명(상속받을 클래스명):\n",
    "    변수나 함수들을 선언\n",
    "```"
   ]
  },
  {
   "cell_type": "code",
   "execution_count": 1,
   "id": "ce5a06fa-0baa-4ff1-a9a8-c53fe93dea7d",
   "metadata": {},
   "outputs": [],
   "source": [
    "class Person:\n",
    "    \"\"\"Person 클래스는 어쩌구~저쩌구~ 설명하는 독스트링\n",
    "    ㅁㄴㅇㄹ\n",
    "    ㅁㅇㄴㄹ\n",
    "    \"\"\"\n",
    "    pass\n",
    "p1 = Person()"
   ]
  },
  {
   "cell_type": "code",
   "execution_count": 59,
   "id": "bf665a38-e7f3-482a-b9d2-12127caee096",
   "metadata": {},
   "outputs": [],
   "source": [
    "#구조체 만들듯이 타입 생성\n",
    "class Person:   #상속 안받으면 안쓰면댐\n",
    "    'Person은 이름과 성별 멤버변수가 있는 객체타입입니다.'\n",
    "    def __init__(self, name='홍길동',gender='남자'):   #생성자함수\n",
    "        self.name = name\n",
    "        self.gender = gender  #이렇게 해야 self객체의 name,gender 에 매개변수(지역변수)name,gender가 대입됨\n",
    "        print(\"{}, {} Person 객체가 생성되었습니다.\".format(self.name,self.gender))\n",
    "    def print_info(self):\n",
    "        print(\"{}님은 {}입니다.\".format(self.name,self.gender,end=\"\\t\"))\n",
    "    def printCnt(self,cnt):\n",
    "        for i in range(cnt):\n",
    "            print(self.name, end=\"\\t\")\n",
    "    def __str__(self):\n",
    "        return \"{} : {}\".format(self.name,self.gender,)"
   ]
  },
  {
   "cell_type": "code",
   "execution_count": 51,
   "id": "725539be-c18f-45ae-9754-87c79f9883e1",
   "metadata": {},
   "outputs": [
    {
     "name": "stdout",
     "output_type": "stream",
     "text": [
      "신혜선, 여자 Person 객체가 생성되었습니다.\n"
     ]
    }
   ],
   "source": [
    "p1 = Person(\"신혜선\",\"여자\")  #이렇게 객체 생성"
   ]
  },
  {
   "cell_type": "code",
   "execution_count": 52,
   "id": "07a58dd2-fce5-4c49-baca-0702530525e3",
   "metadata": {},
   "outputs": [
    {
     "name": "stdout",
     "output_type": "stream",
     "text": [
      "신혜선님은 여자입니다.\n"
     ]
    }
   ],
   "source": [
    "p1.print_info()"
   ]
  },
  {
   "cell_type": "code",
   "execution_count": 53,
   "id": "f6c66924-9f21-4699-b344-b92a3d3bf609",
   "metadata": {},
   "outputs": [
    {
     "name": "stdout",
     "output_type": "stream",
     "text": [
      "신혜선\t신혜선\t신혜선\t신혜선\t신혜선\t"
     ]
    }
   ],
   "source": [
    "p1.printCnt(5)"
   ]
  },
  {
   "cell_type": "code",
   "execution_count": 54,
   "id": "69c9d15b-d080-4e77-bab7-bf12297caeef",
   "metadata": {},
   "outputs": [
    {
     "name": "stdout",
     "output_type": "stream",
     "text": [
      "신혜선 : 여자\n"
     ]
    }
   ],
   "source": [
    "print(p1)  #p1.__str__() 이랑 같은거임, 상속받은 __str__()을 수정해서 이렇게 가능"
   ]
  },
  {
   "cell_type": "markdown",
   "id": "277f6d73-324a-422e-b25c-b68b83c97963",
   "metadata": {},
   "source": [
    "# 2절. 상속과 재정의(Override)"
   ]
  },
  {
   "cell_type": "code",
   "execution_count": 61,
   "id": "17db87a2-db98-4d58-83e8-95b3103f0324",
   "metadata": {},
   "outputs": [],
   "source": [
    "class Student(Person):\n",
    "    'name,gender,major 멤버변수를 갖는 Student타입'\n",
    "    def __init__(self,name,gender,major):\n",
    "        #self.name = name 이거 다시하면 상속받는 의미가 없음!\n",
    "        #부모 클래스의 생성자 함수로 name,gender 초기화\n",
    "        super().__init__(name,gender)  #이게 부모클래스의 생성자 함수 \n",
    "        #Person.__init__(name,gender) #이렇게 해도 되는데 굳이?\n",
    "        self.major = major\n",
    "    def print_info(self):\n",
    "        super().print_info()\n",
    "        print(\"그리고 전공은 {} 입니다.\".format(self.major))\n",
    "    def __str__(self):\n",
    "        return super().__str__() + \" 그리고 전공은 {}\".format(self.major)"
   ]
  },
  {
   "cell_type": "code",
   "execution_count": 62,
   "id": "ba345856-d769-4677-8286-cb57ca20157d",
   "metadata": {},
   "outputs": [
    {
     "name": "stdout",
     "output_type": "stream",
     "text": [
      "김철수, 남자 Person 객체가 생성되었습니다.\n"
     ]
    }
   ],
   "source": [
    "s1 = Student('김철수','남자','컴퓨터공학과')"
   ]
  },
  {
   "cell_type": "code",
   "execution_count": 63,
   "id": "f1d4fa1e-8844-4242-bdad-b0bfbfce8b9b",
   "metadata": {},
   "outputs": [
    {
     "name": "stdout",
     "output_type": "stream",
     "text": [
      "김철수 : 남자 그리고 전공은 컴퓨터공학과\n"
     ]
    }
   ],
   "source": [
    "print(s1)"
   ]
  },
  {
   "cell_type": "code",
   "execution_count": 64,
   "id": "23eacbc0-58d9-429f-8cf8-a71ca5eba417",
   "metadata": {},
   "outputs": [
    {
     "name": "stdout",
     "output_type": "stream",
     "text": [
      "김철수님은 남자입니다.\n",
      "그리고 전공은 컴퓨터공학과 입니다.\n"
     ]
    }
   ],
   "source": [
    "s1.print_info()"
   ]
  },
  {
   "cell_type": "code",
   "execution_count": null,
   "id": "b7d45662-2401-4807-9f2a-10d1396de044",
   "metadata": {},
   "outputs": [],
   "source": []
  },
  {
   "cell_type": "markdown",
   "id": "6b7a5af9-8e05-4947-87db-d1b9cb100bd6",
   "metadata": {},
   "source": [
    "# 3절. 연습문제"
   ]
  },
  {
   "cell_type": "code",
   "execution_count": 65,
   "id": "395d7511-ec52-49e7-ae0d-cdc148746dc1",
   "metadata": {},
   "outputs": [],
   "source": [
    "class Shape:\n",
    "    def __init__(self,width=0,height=0):\n",
    "        self.width = width\n",
    "        self.height = height\n",
    "        "
   ]
  },
  {
   "cell_type": "code",
   "execution_count": null,
   "id": "69f2b3d6-3a46-47bc-b153-87cd8410836b",
   "metadata": {},
   "outputs": [],
   "source": []
  }
 ],
 "metadata": {
  "kernelspec": {
   "display_name": "Python 3 (ipykernel)",
   "language": "python",
   "name": "python3"
  },
  "language_info": {
   "codemirror_mode": {
    "name": "ipython",
    "version": 3
   },
   "file_extension": ".py",
   "mimetype": "text/x-python",
   "name": "python",
   "nbconvert_exporter": "python",
   "pygments_lexer": "ipython3",
   "version": "3.12.3"
  }
 },
 "nbformat": 4,
 "nbformat_minor": 5
}
