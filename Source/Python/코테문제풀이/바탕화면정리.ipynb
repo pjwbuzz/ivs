{
 "cells": [
  {
   "cell_type": "code",
   "execution_count": null,
   "id": "49d59829-a6e6-4241-9a26-3806e3405262",
   "metadata": {},
   "outputs": [],
   "source": [
    "def solution(wallpaper):\n",
    "    sharpx = []\n",
    "    sharpy = []\n",
    "    for i in range(len(wallpaper)):\n",
    "        \n",
    "        if(wallpaper[i].count(\"#\")>0):\n",
    "            sharpx.append(i)\n",
    "            sharpy.append(wallpaper[i].find(\"#\"))\n",
    "            sharpy.append(wallpaper[i].rfind(\"#\"))\n",
    "    \n",
    "    lux = min(sharpx)\n",
    "    luy = min(sharpy)\n",
    "    rdx = max(sharpx)+1\n",
    "    rdy = max(sharpy)+1\n",
    "        \n",
    "    answer = [lux,luy,rdx,rdy]\n",
    "    return answer"
   ]
  }
 ],
 "metadata": {
  "kernelspec": {
   "display_name": "Python 3 (ipykernel)",
   "language": "python",
   "name": "python3"
  },
  "language_info": {
   "codemirror_mode": {
    "name": "ipython",
    "version": 3
   },
   "file_extension": ".py",
   "mimetype": "text/x-python",
   "name": "python",
   "nbconvert_exporter": "python",
   "pygments_lexer": "ipython3",
   "version": "3.12.3"
  }
 },
 "nbformat": 4,
 "nbformat_minor": 5
}
