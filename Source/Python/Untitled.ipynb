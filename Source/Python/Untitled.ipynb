{
 "cells": [
  {
   "cell_type": "code",
   "execution_count": 1,
   "id": "8a41e812-06e4-41d1-a7f9-c852078d3bb9",
   "metadata": {},
   "outputs": [
    {
     "name": "stdout",
     "output_type": "stream",
     "text": [
      "1 1\n",
      "1 -1\n",
      "-1 1\n",
      "-1 -1\n"
     ]
    }
   ],
   "source": [
    "for i,j in [(1,1),(1,-1),(-1,1),(-1,-1)]:\n",
    "    print(i,j)"
   ]
  },
  {
   "cell_type": "code",
   "execution_count": 21,
   "id": "af7e4a89-c053-47f1-a312-60667eb706ac",
   "metadata": {},
   "outputs": [],
   "source": [
    "board = [[\"blue\", \"red\", \"orange\", \"red\"], [\"red\", \"red\", \"blue\", \"orange\"], [\"blue\", \"orange\", \"red\", \"red\"], [\"orange\", \"orange\", \"red\", \"blue\"]]\n",
    "h =1\n",
    "w=1"
   ]
  },
  {
   "cell_type": "code",
   "execution_count": 22,
   "id": "657907da-3e4b-43a2-8af2-0e81946f5cde",
   "metadata": {},
   "outputs": [],
   "source": [
    "def solution(board, h, w):\n",
    "    colors=[]\n",
    "    print(board[h][w])\n",
    "    for i,j in [(1,1),(1,-1),(-1,1),(-1,-1)]:\n",
    "        dh = h+i\n",
    "        dw = w+j\n",
    "        if((0<=dh<len(board)|(0<=dw<len(board[0]) ==1))):\n",
    "            colors.append(board[dh][dw])\n",
    "        print(colors)\n",
    "    answer = colors.count(board[h][w])\n",
    "    return answer"
   ]
  },
  {
   "cell_type": "code",
   "execution_count": 23,
   "id": "649981d3-244e-4294-b987-d58eb40ac95e",
   "metadata": {},
   "outputs": [
    {
     "name": "stdout",
     "output_type": "stream",
     "text": [
      "red\n",
      "['red']\n",
      "['red', 'blue']\n",
      "['red', 'blue', 'orange']\n",
      "['red', 'blue', 'orange', 'blue']\n"
     ]
    },
    {
     "data": {
      "text/plain": [
       "1"
      ]
     },
     "execution_count": 23,
     "metadata": {},
     "output_type": "execute_result"
    }
   ],
   "source": [
    "solution(board,h,w)"
   ]
  },
  {
   "cell_type": "code",
   "execution_count": 16,
   "id": "69bd075d-e4df-4f84-830f-57ca32838690",
   "metadata": {},
   "outputs": [
    {
     "name": "stderr",
     "output_type": "stream",
     "text": [
      "UsageError: %colors: you must specify a color scheme. See '%colors?'\n"
     ]
    }
   ],
   "source": [
    "colors"
   ]
  },
  {
   "cell_type": "code",
   "execution_count": 25,
   "id": "7fb50b81-e8ff-4ae6-9e66-fa5c259950bb",
   "metadata": {},
   "outputs": [],
   "source": [
    "data_type = {\n",
    "    \"code\" : 0,\n",
    "    \"date\" : 1,\n",
    "    \"maximum\" : 2,\n",
    "    \"remain\" : 3\n",
    "    }"
   ]
  },
  {
   "cell_type": "code",
   "execution_count": 26,
   "id": "a358cfce-9fd9-41db-8b27-46c2bfb749b4",
   "metadata": {},
   "outputs": [
    {
     "data": {
      "text/plain": [
       "{'code': 0, 'date': 1, 'maximum': 2, 'remain': 3}"
      ]
     },
     "execution_count": 26,
     "metadata": {},
     "output_type": "execute_result"
    }
   ],
   "source": [
    "data_type"
   ]
  },
  {
   "cell_type": "code",
   "execution_count": 27,
   "id": "7b036a5d-3198-470c-a38d-4005ed34bfa6",
   "metadata": {},
   "outputs": [
    {
     "ename": "KeyError",
     "evalue": "0",
     "output_type": "error",
     "traceback": [
      "\u001b[1;31m---------------------------------------------------------------------------\u001b[0m",
      "\u001b[1;31mKeyError\u001b[0m                                  Traceback (most recent call last)",
      "Cell \u001b[1;32mIn[27], line 1\u001b[0m\n\u001b[1;32m----> 1\u001b[0m data_type[\u001b[38;5;241m0\u001b[39m]\n",
      "\u001b[1;31mKeyError\u001b[0m: 0"
     ]
    }
   ],
   "source": [
    "data_type[0]"
   ]
  },
  {
   "cell_type": "code",
   "execution_count": 28,
   "id": "03424b41-15cc-421e-b840-65a739c8ea1c",
   "metadata": {},
   "outputs": [
    {
     "ename": "SyntaxError",
     "evalue": "invalid syntax (3966403059.py, line 1)",
     "output_type": "error",
     "traceback": [
      "\u001b[1;36m  Cell \u001b[1;32mIn[28], line 1\u001b[1;36m\u001b[0m\n\u001b[1;33m    data_type{0}\u001b[0m\n\u001b[1;37m             ^\u001b[0m\n\u001b[1;31mSyntaxError\u001b[0m\u001b[1;31m:\u001b[0m invalid syntax\n"
     ]
    }
   ],
   "source": [
    "data_type{0}"
   ]
  },
  {
   "cell_type": "code",
   "execution_count": 29,
   "id": "291f471b-83a7-48dd-a0d7-30916141afcc",
   "metadata": {},
   "outputs": [
    {
     "ename": "TypeError",
     "evalue": "'dict' object is not callable",
     "output_type": "error",
     "traceback": [
      "\u001b[1;31m---------------------------------------------------------------------------\u001b[0m",
      "\u001b[1;31mTypeError\u001b[0m                                 Traceback (most recent call last)",
      "Cell \u001b[1;32mIn[29], line 1\u001b[0m\n\u001b[1;32m----> 1\u001b[0m data_type(\u001b[38;5;241m0\u001b[39m)\n",
      "\u001b[1;31mTypeError\u001b[0m: 'dict' object is not callable"
     ]
    }
   ],
   "source": [
    "data_type(0)"
   ]
  },
  {
   "cell_type": "code",
   "execution_count": 30,
   "id": "679fb589-ebe9-4bb6-bfef-794dd890ed77",
   "metadata": {},
   "outputs": [
    {
     "ename": "TypeError",
     "evalue": "'dict' object is not callable",
     "output_type": "error",
     "traceback": [
      "\u001b[1;31m---------------------------------------------------------------------------\u001b[0m",
      "\u001b[1;31mTypeError\u001b[0m                                 Traceback (most recent call last)",
      "Cell \u001b[1;32mIn[30], line 1\u001b[0m\n\u001b[1;32m----> 1\u001b[0m data_type(\u001b[38;5;124m\"\u001b[39m\u001b[38;5;124mcode\u001b[39m\u001b[38;5;124m\"\u001b[39m)\n",
      "\u001b[1;31mTypeError\u001b[0m: 'dict' object is not callable"
     ]
    }
   ],
   "source": [
    "data_type(\"code\")"
   ]
  },
  {
   "cell_type": "code",
   "execution_count": 31,
   "id": "67a63fa4-4e15-4245-b5c5-4b27e2616bae",
   "metadata": {},
   "outputs": [
    {
     "ename": "SyntaxError",
     "evalue": "invalid syntax (1370976644.py, line 1)",
     "output_type": "error",
     "traceback": [
      "\u001b[1;36m  Cell \u001b[1;32mIn[31], line 1\u001b[1;36m\u001b[0m\n\u001b[1;33m    data_type{\"code\"}\u001b[0m\n\u001b[1;37m             ^\u001b[0m\n\u001b[1;31mSyntaxError\u001b[0m\u001b[1;31m:\u001b[0m invalid syntax\n"
     ]
    }
   ],
   "source": [
    "data_type{\"code\"}"
   ]
  },
  {
   "cell_type": "code",
   "execution_count": 32,
   "id": "e8dc0614-36e0-44f3-8db0-182511199697",
   "metadata": {},
   "outputs": [
    {
     "data": {
      "text/plain": [
       "0"
      ]
     },
     "execution_count": 32,
     "metadata": {},
     "output_type": "execute_result"
    }
   ],
   "source": [
    "data_type[\"code\"]"
   ]
  },
  {
   "cell_type": "code",
   "execution_count": 37,
   "id": "3eae707d-65b8-472d-86ce-dc1d3fb00ba5",
   "metadata": {},
   "outputs": [],
   "source": [
    "def solution(survey, choices):\n",
    "    for i in range(len(survey)):\n",
    "        answer = []\n",
    "        test = {\"R\":0, \"T\":0,\n",
    "               \"C\":0,\"F\":0,\n",
    "               \"J\":0,\"M\":0,\n",
    "               \"A\":0,\"N\":0}\n",
    "        test[survey[i][0]] += (choices[i]-4)\n",
    "        if(test[\"R\"]>test[\"T\"]):\n",
    "            answer.extend(\"R\")\n",
    "        elif(test[\"R\"]<test[\"T\"]):\n",
    "            answer.extend(\"T\")\n",
    "        else:\n",
    "            answer.extend(\"R\")\n",
    "        \n",
    "        if(test[\"C\"]>test[\"F\"]):\n",
    "            answer.extend(\"C\")\n",
    "        elif(test[\"C\"]<test[\"F\"]):\n",
    "            answer.extend(\"F\")\n",
    "        else:\n",
    "            answer.extend(\"C\")\n",
    "            \n",
    "        if(test[\"J\"]>test[\"M\"]):\n",
    "            answer.extend(\"J\")\n",
    "        elif(test[\"J\"]<test[\"M\"]):\n",
    "            answer.extend(\"M\")\n",
    "        else:\n",
    "            answer.extend(\"J\")\n",
    "        \n",
    "        if(test[\"A\"]>test[\"N\"]):\n",
    "            answer.extend(\"a\")\n",
    "        elif(test[\"A\"]<test[\"N\"]):\n",
    "            answer.extend(\"N\")\n",
    "        else:\n",
    "            answer.extend(\"A\")\n",
    "    return answer\n",
    "\n",
    "#지표번호, 성격유형 2개씩 R/T , C/F, J/M, A/N\n",
    "#매우=3 일반=2 약간=1 모르겠음 =0\n",
    "#가장 높은 점수를 받은 성격유형 판단\n",
    "#점수가 같으면 사전순으로 빠른 성격유형\n",
    "#판단지표 survey 문자열[\"TR\", \"RT\", \"TR\"]\n",
    "#선택지 choises 매개변수 정수배열[7, 1, 3]\n",
    "#1 = -3 부터 7=3 까지 +1 ,TR중 앞에꺼 기준\n",
    "        # if('R' in survey[i]): #R/T  RT인지 TR인지. \n",
    "        #     test[survey[i][0]] += (choises-4)\n",
    "        # if('C' in survey[i]): #C/F\n",
    "        # if('J' in survey[i]): #J/M\n",
    "        # if('A' in survey[i]): #A/N\n"
   ]
  },
  {
   "cell_type": "code",
   "execution_count": 38,
   "id": "3713bb2c-57aa-48be-af0a-6c31d6385153",
   "metadata": {},
   "outputs": [],
   "source": [
    "survey = [\"AN\", \"CF\", \"MJ\", \"RT\", \"NA\"]"
   ]
  },
  {
   "cell_type": "code",
   "execution_count": 39,
   "id": "27b37348-301c-4132-853a-e59c95501268",
   "metadata": {},
   "outputs": [],
   "source": [
    "choices = \t[5, 3, 2, 7, 5]"
   ]
  },
  {
   "cell_type": "code",
   "execution_count": 40,
   "id": "6269d402-242d-4b1b-9d5e-1f598c304fed",
   "metadata": {},
   "outputs": [
    {
     "data": {
      "text/plain": [
       "['R', 'C', 'J', 'N']"
      ]
     },
     "execution_count": 40,
     "metadata": {},
     "output_type": "execute_result"
    }
   ],
   "source": [
    "solution(survey,choices)"
   ]
  },
  {
   "cell_type": "code",
   "execution_count": 41,
   "id": "bc85ab3f-d6be-4ebc-b89a-e14184801345",
   "metadata": {},
   "outputs": [],
   "source": [
    "def solution(survey, choices):\n",
    "    R_ = 0\n",
    "    T_ = 0\n",
    "    \n",
    "    C_ = 0\n",
    "    F_ = 0\n",
    "    \n",
    "    J_ = 0\n",
    "    M_ = 0\n",
    "    \n",
    "    A_ = 0\n",
    "    N_ = 0\n",
    "    \n",
    "    for idx, sur in enumerate(survey):\n",
    "        score = 0\n",
    "        # print(sur[0],choices[idx])\n",
    "        if choices[idx] == 4: # 모르겠음이면 패스\n",
    "            # print('pass')\n",
    "            continue\n",
    "            \n",
    "            \n",
    "        if choices[idx] < 4: #앞 글자 \n",
    "            score = 4-choices[idx]\n",
    "        if choices[idx] > 4: #뒷 글자\n",
    "            score = 4-choices[idx]\n",
    "            \n",
    "        \n",
    "        if sur[0] == 'R':\n",
    "            R_ += score\n",
    "        elif sur[0] == 'T':\n",
    "            T_ += score\n",
    "        elif sur[0] == 'C':\n",
    "            C_ += score\n",
    "        elif sur[0] == 'F':\n",
    "            F += score\n",
    "        elif sur[0] == 'J':\n",
    "            J_ += score\n",
    "        elif sur[0] == 'M':\n",
    "            M_ += score\n",
    "        elif sur[0] == 'A':\n",
    "            A_ += score\n",
    "        elif sur[0] == 'N':\n",
    "            N_ += score\n",
    "        \n",
    "            # print(\"Spell Error\")\n",
    "    \n",
    "    \n",
    "    \n",
    "    answer_ = [0,1,2,3]\n",
    "    if R_ >= T_ :\n",
    "        answer_[0] = 'R'\n",
    "    else :\n",
    "        answer_[0] = 'T'\n",
    "        \n",
    "    if C_ >= F_ :\n",
    "        answer_[1] = 'C'\n",
    "    else :\n",
    "        answer_[1] = 'F'\n",
    "        \n",
    "    if J_ >= M_ :\n",
    "        answer_[2] = 'J'\n",
    "    else :\n",
    "        answer_[2] = 'M'\n",
    "        \n",
    "    if A_ >= N_ :\n",
    "        answer_[3] = 'A'\n",
    "    else:\n",
    "        answer_[3] = 'N'\n",
    "    # print(\"R_T_C_F_J_M_A_N_\")    \n",
    "    # print(R_,T_,C_,F_,J_,M_,A_,N_)\n",
    "        \n",
    "    answer = answer_[0]+answer_[1]+answer_[2]+answer_[3]\n",
    "    return answer"
   ]
  },
  {
   "cell_type": "code",
   "execution_count": 42,
   "id": "d4620008-1ac0-45cb-a211-b05eb7109798",
   "metadata": {},
   "outputs": [
    {
     "name": "stdout",
     "output_type": "stream",
     "text": [
      "A 7\n",
      "F 6\n"
     ]
    },
    {
     "ename": "UnboundLocalError",
     "evalue": "cannot access local variable 'F' where it is not associated with a value",
     "output_type": "error",
     "traceback": [
      "\u001b[1;31m---------------------------------------------------------------------------\u001b[0m",
      "\u001b[1;31mUnboundLocalError\u001b[0m                         Traceback (most recent call last)",
      "Cell \u001b[1;32mIn[42], line 3\u001b[0m\n\u001b[0;32m      1\u001b[0m survey \u001b[38;5;241m=\u001b[39m [\u001b[38;5;124m\"\u001b[39m\u001b[38;5;124mAN\u001b[39m\u001b[38;5;124m\"\u001b[39m, \u001b[38;5;124m\"\u001b[39m\u001b[38;5;124mFC\u001b[39m\u001b[38;5;124m\"\u001b[39m, \u001b[38;5;124m\"\u001b[39m\u001b[38;5;124mJM\u001b[39m\u001b[38;5;124m\"\u001b[39m, \u001b[38;5;124m\"\u001b[39m\u001b[38;5;124mRT\u001b[39m\u001b[38;5;124m\"\u001b[39m, \u001b[38;5;124m\"\u001b[39m\u001b[38;5;124mAN\u001b[39m\u001b[38;5;124m\"\u001b[39m, \u001b[38;5;124m\"\u001b[39m\u001b[38;5;124mRT\u001b[39m\u001b[38;5;124m\"\u001b[39m, \u001b[38;5;124m\"\u001b[39m\u001b[38;5;124mTR\u001b[39m\u001b[38;5;124m\"\u001b[39m, \u001b[38;5;124m\"\u001b[39m\u001b[38;5;124mMJ\u001b[39m\u001b[38;5;124m\"\u001b[39m, \u001b[38;5;124m\"\u001b[39m\u001b[38;5;124mCF\u001b[39m\u001b[38;5;124m\"\u001b[39m]\n\u001b[0;32m      2\u001b[0m choices \u001b[38;5;241m=\u001b[39m [\u001b[38;5;241m7\u001b[39m, \u001b[38;5;241m6\u001b[39m, \u001b[38;5;241m5\u001b[39m, \u001b[38;5;241m4\u001b[39m, \u001b[38;5;241m1\u001b[39m, \u001b[38;5;241m2\u001b[39m, \u001b[38;5;241m3\u001b[39m, \u001b[38;5;241m4\u001b[39m, \u001b[38;5;241m5\u001b[39m]\n\u001b[1;32m----> 3\u001b[0m solution(survey,choices)\n",
      "Cell \u001b[1;32mIn[41], line 35\u001b[0m, in \u001b[0;36msolution\u001b[1;34m(survey, choices)\u001b[0m\n\u001b[0;32m     33\u001b[0m     C_ \u001b[38;5;241m+\u001b[39m\u001b[38;5;241m=\u001b[39m score\n\u001b[0;32m     34\u001b[0m \u001b[38;5;28;01melif\u001b[39;00m sur[\u001b[38;5;241m0\u001b[39m] \u001b[38;5;241m==\u001b[39m \u001b[38;5;124m'\u001b[39m\u001b[38;5;124mF\u001b[39m\u001b[38;5;124m'\u001b[39m:\n\u001b[1;32m---> 35\u001b[0m     F \u001b[38;5;241m+\u001b[39m\u001b[38;5;241m=\u001b[39m score\n\u001b[0;32m     36\u001b[0m \u001b[38;5;28;01melif\u001b[39;00m sur[\u001b[38;5;241m0\u001b[39m] \u001b[38;5;241m==\u001b[39m \u001b[38;5;124m'\u001b[39m\u001b[38;5;124mJ\u001b[39m\u001b[38;5;124m'\u001b[39m:\n\u001b[0;32m     37\u001b[0m     J_ \u001b[38;5;241m+\u001b[39m\u001b[38;5;241m=\u001b[39m score\n",
      "\u001b[1;31mUnboundLocalError\u001b[0m: cannot access local variable 'F' where it is not associated with a value"
     ]
    }
   ],
   "source": [
    "survey = [\"AN\", \"FC\", \"JM\", \"RT\", \"AN\", \"RT\", \"TR\", \"MJ\", \"CF\"]\n",
    "choices = [7, 6, 5, 4, 1, 2, 3, 4, 5]\n",
    "solution(survey,choices)"
   ]
  },
  {
   "cell_type": "code",
   "execution_count": 43,
   "id": "fe3b75e8-2248-401e-b0ff-f9e00d528c53",
   "metadata": {},
   "outputs": [
    {
     "data": {
      "text/plain": [
       "['AN', 'FC', 'JM', 'RT', 'AN', 'RT', 'TR', 'MJ', 'CF', 'A']"
      ]
     },
     "execution_count": 43,
     "metadata": {},
     "output_type": "execute_result"
    }
   ],
   "source": [
    "survey += [\"A\"]\n",
    "survey"
   ]
  },
  {
   "cell_type": "code",
   "execution_count": null,
   "id": "5cbbb109-a7d4-4632-98d8-e0a970fb1b08",
   "metadata": {},
   "outputs": [],
   "source": []
  }
 ],
 "metadata": {
  "kernelspec": {
   "display_name": "Python 3 (ipykernel)",
   "language": "python",
   "name": "python3"
  },
  "language_info": {
   "codemirror_mode": {
    "name": "ipython",
    "version": 3
   },
   "file_extension": ".py",
   "mimetype": "text/x-python",
   "name": "python",
   "nbconvert_exporter": "python",
   "pygments_lexer": "ipython3",
   "version": "3.12.3"
  }
 },
 "nbformat": 4,
 "nbformat_minor": 5
}
