








#점수를 입력받아 학점 출력
name = "홍길동"
#score = int(input("{}점수를 입력하세요 :". format(name)))   #인풋에서는 format이 안됨, 프린트에서만 쓸 수 있음 , 이름을 인풋 출력에 넣으려면 연산을 해야함
score = int(input(name+"님! 점수를 입력하세요 :"))  #이렇게 해야함, 위에꺼는 안됨
if 90 <= score <= 100 :
    grade = 'A'
elif 80 <= score < 90 :
    grade = 'B'
elif 70 <= score < 80 :
    grade = 'C'
elif 60 <= score < 70 :
    grade = 'D'
elif 0 <= score < 60 :
    grade = 'F'
else :
    grade = '유효하지 않은 점수'
print("입력하신 점수는 {}점이고 등급은, {} 입니다.".format(score,grade))





list(range(0,12,3)) #나열가능한 자료임


for i in range(1, 10, 2) :
    print(i, end="\t")  # end 적는거랑 그냥하는거랑 차이가 많이남..! end가 없으면 \t\n, end= 하면 \t로만
else :
    print("\nDone")
print("END")


# 1~100 까지 짝수의 합을 계산하고 출력하시오
sum = 0
for i in range(1,101) :
    if i%2==0 :
        sum += i
sum





# while 문을 이용하여, 사용자에게 두 수를 입력받아 첫번쨰(작은수) 수부터 두번쨰 입력한(큰수) 수 까지 홀수의 합 누적해서 출력


num1 = int(input('첫 번째 수를 입력하세요'))
num2 = int(input('두 번째 수를 입력하세요'))
sum = 0 #누적변수
i = num1
while i<=num2 :
    if i%2 != 0 :
        sum += i
    i +=1
else : 
    print("설정한 범위 내의 홀수의 합은 {} 입니다.".format(sum))





num = 0
while num<=10:
    print(num)
    num += 1
    if num>= 8:
        break





for i in range(1,10):
    for j in range(2,10) :
        print("{} X {} = {:>2}\t".format(j,i,i*j),end='')
    print() #개행 용도





# 1~100 사이 정수를 맞추는 프로그램 구현
import random
number = random.randint(1,100)
min = 1
max = 100
chance = 5
print("정답은 :",number)
for i in range(chance):
    print("{}이상 {}이하 숫자를 맞추세요".format(min,max))
    answer = int(input())
    if answer == number :
        print("축하합니다 정답입니다.")
        break;
    else :
        chance -=1
        if chance == 0 :
            print("5번의 기회를 다 쓰셨습니다")
            break;
        else : 
            if answer > number :
                print("DOWN!")
                max = answer-1
            elif answer < number :
                print("UP!")
                min = answer+1
        


# 1~100 사이 정수를 맞추는 프로그램 구현
import random
number = random.randint(1,100)
min = 1
max = 100
chance = 5
print("정답은 :",number)
for i in range(chance):
    print("{}이상 {}이하 숫자를 맞추세요. 남은기회 {}회".format(min,max,chance-i))
    answer = int(input())
    if answer == number :
        print("축하합니다 {}번만에 정답입니다.".format(i+1))
        break;
    else :
        i += 1
    if (answer>max) | (answer<min) :
        print("수의 범위를 벗어났어요")
    elif answer > number :
        print("DOWN!")
        max = answer-1
    elif answer < number :
        print("UP!")
        min = answer+1
    else :
        print("알수없는 오류에요")
else :
    print("5번의 기회를 다썼어요")


lotto=set()
while len(lotto)<6 :
    lotto.add(random.randint(1,45))
lotto = list(lotto)
lotto.sort()
print(lotto)
    






