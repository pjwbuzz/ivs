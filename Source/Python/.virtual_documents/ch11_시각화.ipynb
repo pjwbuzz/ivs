





# 시작전 설정
import matplotlib.pyplot as plt
%matplotlib inline
# 그래프 해상도 높임
%config InlineBackend.figure_format='retina'
#한글설정
plt.rc('font', family='Malgun Gothic')
#plt.rc('font', family='AppleGothic') #mac
plt.rc('axes', unicode_minus=False)
# 경고 메세지 안보이게
import warnings
warnings.filterwarnings(action='ignore')



import seaborn as sns
iris = sns.load_dataset("iris")
iris.shape


iris.plot(kind="line",figsize=(12,4))
plt.legend(bbox_to_anchor=(1.01, 0.75), loc=2, borderaxespad=0.)
plt.show()


iris.plot(kind = "box", figsize = (12,4))


import matplotlib.pyplot as plt
iris.plot(kind= "scatter", x="petal_length",y="petal_width",figsize = (10,4))
plt.title('두 변수간 scatter plot')
plt.show()


plt.figure(figsize = (10,4))
plt.plot(iris.petal_length, iris.petal_width, '.')
plt.title('두 변수간 scatter plot')
plt.xlabel('iris.petal_length 값')
plt.ylabel('iris.petal_width 값')
plt.show()





# scatter plot
plt.figure(figsize = (10,4))
sns.scatterplot(data=iris, x="petal_length", y="petal_width", hue = "species")
plt.legend(bbox_to_anchor = (1.01,1), loc=2, borderaxespad=0.)
plt.show()


# bar plot
plt.figure(figsize = (10,4))
sns.barplot(data=iris, x="species", y="petal_width", color="violet")
plt.show()


# bar plot
plt.figure(figsize = (10,4))
sns.lmplot(data=iris, x="petal_length", y="petal_width", hue="species")
plt.show()


plt.figure(figsize = (10,4))
sns.boxenplot(data=iris, y = "petal_length", x = "species",hue="species")


plt.figure(figsize = (10,4))
sns.violinplot(data=iris, y = "petal_length", x = "species",hue="species")






