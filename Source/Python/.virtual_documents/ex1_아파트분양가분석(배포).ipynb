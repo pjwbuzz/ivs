# 구버전
from IPython.display import display, HTML
display(HTML("""
<style>
div.container{width:97% !important;}
div.CodeMirror {font-family:Consolas; font-size:22pt;}
div.output {font-size:22pt; font-weight:bold;}
div.input {font-family:Consolas; font-size:22pt;}
div.prompt {min-width:70px;}
</style>
"""))


# 새버전
from IPython.display import display, HTML
display(HTML("""
<style>
div.jp-WindowedPanel-outer.lm-Widget{padding:5px;}
div.lm-Widget{font-size:12pt;}
div.cm-content {font-family:Consolas; font-size:12pt;}
div.jp-OutputArea-output pre {font-size:12pt; font-weight:bold;}
input.jp-Stdin-input {font-family:Consolas; font-size:12pt;}
</style>
"""))








# 라이브러리 로드
import matplotlib.pyplot as plt
import seaborn as sns
import pandas as pd
import numpy as np

# 시각화를 선명하게 표시되도록
%config InlineBackend.figure_format='retina'

#한글 폰트 설정
plt.rc("font", family="Malgun Gothic") # windows
# plt.rc('font', family='AppleGothic') # Mac
plt.rc("axes", unicode_minus=False) # y축

# 경고 메세지 안 보이게 
import warnings
warnings.filterwarnings(action='ignore')
# warnings.filterwarnings(action='default')





!dir data





# df_first
df_first = pd.read_csv('data/전국 평균 평당 분양가격(2013년 9월부터 2015년 8월까지).csv', encoding='cp949')
df_first.shape


# df_first 한줄 출력
df_first.sample()


# 출력가능한 최대 컬럼수 출력
pd.options.display.max_columns


# df_first의 모든 열이 나오도록 출력 가능한 최대 컬럼수 조정후 확인
pd.options.display.max_columns = df_first.shape[1]


# df_first 마지막 1줄 출력
df_first.tail(1)


# df_first 열별 데이터 갯수 및 타입 및 메모리 정보



# 지역 컬럼을 index로 하여



# heatmap 으로 부동산 가격을 시각화한다






# df_last



# head로 파일을 5개만 미리보기합니다



# tail로도 미리보기 합니다.



# 데이터 요약하기(결측치가 있음) #분양가격(제곱미터)는 문자를 수치형으로 변경하여야 평당분양가격 계산 가능












# 분양가격(제곱미터) 컬럼이 문자형이라 수치형으로 변경한 후 평당분양가격 추가



# 결측치가 있는 곳 출력하기



# 기본적으로 '분양가격(제곱미터)' 컬럼은 str이지만 결측치가 있는 곳은 float로 나옴



# df_last['분양가격(제곱미터)'].astype('float64') #특정열 데이터타입변경 에러 이유 : ' ' 땜시


# df['월'].astype('int64')에러 나는 이유는 ?



# 분양가격(제곱미터)컬럼이 공백이나 space인 행의 갯수



# 분양가격이 빈스트링인 모든 데이터에 결측치 할당



# 분양가격(제곱미터)컬럼이 공백이나 space인 행을 결측치로 할당한 후 갯수는 0인지 확인



df_last.loc[6443] # 분양가격이 space였던 행 확인


# df_last 요약정보
df_last.info()


# 범주형일 때 기술통계 요약정보



# '분양가격(제곱미터)' 컬럼의 타입을 float64로 변경하여 '제곱미터당분양가격'으로 한다



# '제곱미터당분양가격' 컬럼의 기술통계 요약 (max가 아주 커서 mean과 중위수 차이남)



# '평당분양가격' 컬럼 생성



# df_last head로 데이터 2줄 확인






df_last['규모구분'].unique()


df_last['전용면적'] = df_last['규모구분'].str.replace('전용면적','')
df_last['전용면적'] = df_last['전용면적'].str.replace("제곱미터", "㎡")
df_last['전용면적'] = df_last['전용면적'].str.replace('초과','~')
df_last['전용면적'] = df_last['전용면적'].str.replace('이하','')
df_last['전용면적'] = df_last['전용면적'].str.replace(' ','').str.strip()
df_last.head()


df_last.info()





#axis=1이 없으면 axis=0으로 되어 행제거하나 규모구분,분양가격이라는 행이 없어 에러
# "규모구분","분양가격(제곱미터)","제곱미터당분양가격" 컬럼 제거



# 평당 분양가격이 결측치 값인 행 인덱스 출력



# 평당 분양가격이 결측치 값인 행 제거
df_last.drop(df_last[df_last['평당분양가격'].isna()].index, inplace=True)


# 결측치 데이터가 다 없어졌는지 확인



# df_last 열별데이터갯수, 타입, 메모리 정보 확인



# 전처리 완성된 데이터를 저장






df_last.groupby?


# 지역명별 결측치를 제외한 데이터 수



# 지역별 평당분양가격 max값나 min값



# 지역별 평당분양가격(평균)



# 지역별 평당분양가격 min, max, mean, 사분위수



# 전용면적별 평당분양가격(평균)



# 지역별, 전용면적별 평당분양가격(평균)
 # 전용면적가 컬럼값으로 표



# 연도별, 지역명별 평당분양가격



# 위에ㅓ의 연도별, 지역명별 평당분양가격을 heatmap으로 시각화






# 지역별 평균 평당분양가격을 내림차순정렬하여 막대그래프로 시각화



# 지역별 정렬된 평균 평당분양가격 lineplot



# 전용면적별 평균  평당분양가격 그래프



# 월별, 연도별 평당분양가격 변동






# 위의 월별, 연도별, 평당분양가격 boxplot



# 위의 월별, 연도별, 평당분양가격 lineplot => 월별, 연도별 분양가 상한선 확인



# boxplot으로 지역별 평당분양가격 시각화









# 지역별 평당 분양가격



# 만약 정렬을 원한다면 groupby후 sort_values()한후 시각화한다.






# 연도별 평당분양가격 barplot



# 년도별 평균 평당분양가격의 추이



# 년도별 지역별 평균 평당분양가격



# 연도별 평당분양가격의 사분위수(boxplot)



# 연도별 평당분양가격의 사분위수와 분포



# 연도별 전용면적별 boxenplot



# boxplot으로 지역별 평당분양가격을 그려봅니다.






df_first.sample()





new_first = df_first.melt(id_vars="지역", 
                          var_name="연도월", 
                          value_name="평당분양가격")
new_first.head()
# melt를 통해 녹인 연도월 데이터는 전처리하기 편하게 데이터로 옴


def parse_year(x):
    return int(x.split("년")[0])
parse_year("2013년12월")


def parse_month(x):
    return int(x.split("년")[-1].replace("월",""))
parse_month("2013년12월")


# "연도월" 컬럼을 "연도"컬럼과 "월"컬럼으로 분리한다(lambda함수 이용)




# "연도월" 컬럼을 제거하고, 컬럼명을 ["지역명","평당분양가격","연도","월"]로 수정





#df_last 데이터 중 "전용면젹"이 "모든면적"인 데이터만 복사한다(깊은복사)

# "전용면적"컬럼 제거

new_last.head()


# new_first와 new_last 행병합

df.sample()


# index 재조정
df.index = range(df.shape[0])
df.head()
