





import numpy as np
np.pi


import pandas as pd
pd.__version__


data = pd.read_json('data/ch10_member1.json', encoding = 'CP949') #티폴트가 UTF-8, readjson은 알아서 닫아줘서 close 불필요
print(type(data))
data


data = pd.read_json("data/ch10_member2.json",encoding='utf-8') #UTF-8로 Read
data


member1 = pd.read_csv('data/ch09_member1.csv', header=None,names=['name','age','email','address'],encoding='utf-8')


member1





d = {'name':['홍길동','신길동'],'age':[20,30]}
df = pd.DataFrame(data=d)
df





d = [{'name':'홍길동', 'age':20}, {'name':'신길동','age':30}]
df = pd.DataFrame(data=d)
df





df = pd.read_csv('data/전국 평균 평당 분양가격(2013년 9월부터 2015년 8월까지).csv',encoding='cp949')


df.shape #행과 열 출력


df.head(2) #상위 2줄


pd.options.display.max_columns #최대 데이터 프레임의 표현될 수 있는 columns, 22개중 20개밖에 출력안됨..
pd.options.display.max_columns=22 #바꿔줄수있음


df.sample() #이제 다 보임





import statsmodels.api as sm
iris = sm.datasets.get_rdataset("iris", package = "datasets").data
iris.tail() #끝 5행








import pandas as pd
member_df = pd.read_csv('data/ch09_member1.csv',header=None)
member_df


# 열 이름 지정하기
member_df.columns = ['name','age','email','address']
member_df


member_df = pd.concat([member_df,member_df])
member_df


member_df.index


member_df.index = range(len(member_df))


member_df


# name을 행이름
# member_df = member_df.set_index("name") #inplace = False 적용된 내용 return
member_df.set_index("name", inplace = True) 


member_df


# 행이름을 columns에 편입시키기 
#member_df = member_df.reset_index()  #reset 적용한 것을 return
member_df.reset_index(inplace=True) #이러면 바로적용 


member_df["name"]  #1차원 데이터 series


member = member_df.loc[0]
print(type(member))
member


member_df.info()


#타입 바꾸기
member_df['age']=member_df['age'].astype('float64') #열의 타입을 변경


member_df.info()





member = pd.read_csv("data/ch09_member2.csv")
member


#특정 data assemble 





member['name'] #시리즈, 이건 데이터프레임이 아님 


member['name'].to_frame() #프레임으로





#단일행
member.loc[0] #시리즈로 가져옴


#여러행
member.loc[0:5] #0행부터 5행까지 가져옴


#여러열
member.loc[:,'name':'email']  #앞항에는 무조건 행이 와야함, 모든행을 가져올거라 :


member.loc[1:4,['name','email']]


member.loc[[1,4],['name','email','address']]
#loc사용시, index 이름과, column이름을 사용





member.iloc[0:2,0:2] #0열부터 2열 앞까지


#맨 오른쪽 열을 제외하고 출력
member.iloc[:,:-1]


#0,2,4,6 짝수번쨰 행의 모든 열 출력
member.iloc[::2]


# member의 행순서를 역순 출력(맨 마지막 열 제회)
member.iloc[::-1,:-1]





# 30살 이상의 데이터 출력
member.loc[member['age']>30] #인덱스 대신 조건


# 강서구 사는 사람만 출력
# address.find('강서구') #찾고 없으면 -1 return
# member['address'].find 는 안됨, member['address']는 시리즈, 문자열에 find 사용해야함
# 시리즈에 문자함수 바로 못쓴다. https://pandas.pydata.org/pandas-docs/stable/reference/series.html#string-handling
member['address'].str.find('강서구')!=-1 #.str 만 적으면 됨



# address가 '강서구'인 data의 name, age, address를 출력하시오
member.loc[member['address'].str.find('강서구')!=-1,['name','age','address']]


member.info()


member.isna().sum() #결측치 여부 확인


member.isna()


#iris 
import seaborn as sns
iris_df = sns.load_dataset("iris")
# 0~49 setosa / 50~99 serisicolor / 100~149 virginica
iris_df.loc[0:49].head()


#species가 versicolor인 데이터의 모든열
iris_df.loc[iris_df['species'] == 'versicolor'].head()


#species가 versicolor인 데이터의 맨 마지막 열을 제외한 데이터
iris_df.loc[iris_df['species']=='versicolor' , "sepal_length":"petal_width"].head(3)


iris_df.iloc[:,:-1][iris_df['species']=='versicolor'].head()
#조건이 더 늘어나려면 &연산자가 필요함


#sepal.length가 6.2보다 크고, species가 versicolor 인 데이터를, 마지막열을 제거해서 출력
iris_df.iloc[:,:-1][(iris_df['species']=='versicolor')&(iris_df['sepal_length']>=6.2)]




member





import numpy as np
member['major'] = ['컴공','전기','전자','기계',np.nan]


hobby = pd.DataFrame({'hobby' : ['놀기','자기','읽기','먹기','공부','명상']})


member = pd.concat([member, hobby], axis=1)
member


#열 지우기
#member.drop('hobby')
member.drop(['hobby','major'],axis=1, inplace=True)
#axis=1로 열 삭제 지정, axis 안넣으면 행삭제임


member


member.drop(4,inplace=True)
member


#삭제후 인덱스 안맞으면 재정렬
member.index = range(len(member))





member.sort_index(ascending=False)#인덱스 정렬,axis=0 생략


member.sort_index(ascending=True) 


# 특정 열의 값 기준 정렬
member.sort_values(by=['name','age'],ascending=True,inplace=True)
member





iris_df.iloc[:,:-1].min(axis = 1)  #행마다 모든열의 최소값


iris_df.iloc[:,:-1].mean()
#만약 꽃 종류별로 통계를 구하고싶으면 그룹화를 해야함, 아직안배움 


iris_df.iloc[:,:-1].std()


iris_df.describe() #수치형 데이터의 데이터 갯수, 평균, 표준편차, 최소,최대, 분위수 다 나타내줌


iris_df['species'].describe()  #범주형데이터 갯수, 가짓수, 최다, 빈도


iris_df.describe(include='all') #데이터가 없는 것은 결측치로 나옴, 수치형과 범주형 데이터 모두 describe 하려면 all해야함


iris_df[iris_df['species'].isna()] #species가 결측치인 값을 출력





iris_df.groupby('species').median()


iris_group = iris_df.groupby(['species'])
iris_group.mean()





import pandas as pd
import numpy as np
import seaborn as sns
iris = sns.load_dataset("iris")
iris.sample(1)


# 시작전 설정
import matplotlib.pyplot as plt
%matplotlib inline
# 그래프 해상도 높임
%config InlineBackend.figure_format='retina'
#한글설정
plt.rc('font', family='Malgun Gothic')
#plt.rc('font', family='AppleGothic') #mac
plt.rc('axes', unicode_minus=False)
# 경고 메세지 안보이게
import warnings
warnings.filterwarnings(action='ignore')



iris.head(5)


x = iris.iloc[:,:-1]
y = iris.loc[:,'species'].to_frame()


temp = iris[:50]


temp.describe()


import seaborn as sns



r = iris.iloc[:,:-1].corr()
sns.heatmap(r, annot=True, cmap = 'Greens')


import matplotlib.pyplot as plt
iris.plot(kind= "scatter", x="petal_length",y="petal_width",figsize = (10,4))
plt.title('두 변수간 scatter plot')
plt.show()






