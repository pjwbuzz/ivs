{
 "cells": [
  {
   "cell_type": "markdown",
   "id": "7c5fb767-4e23-47ed-9cf3-59b56c207242",
   "metadata": {},
   "source": [
    "# <font color=\"red\" size=\"10\"><b>ch04. 제어문</b></font>"
   ]
  },
  {
   "cell_type": "markdown",
   "id": "96c4b871-b03d-44b8-b9f8-637d61985793",
   "metadata": {},
   "source": [
    "- if문, for-in문, while문\n",
    "  "
   ]
  },
  {
   "cell_type": "markdown",
   "id": "a63184f6-ad58-468d-9958-02c51f4261f5",
   "metadata": {},
   "source": [
    "# 1절. if문"
   ]
  },
  {
   "cell_type": "code",
   "execution_count": 4,
   "id": "17f680fc-8713-4cd9-a6fa-0d474d5e1aa9",
   "metadata": {},
   "outputs": [
    {
     "name": "stdin",
     "output_type": "stream",
     "text": [
      "홍길동님! 점수를 입력하세요 : 101\n"
     ]
    },
    {
     "name": "stdout",
     "output_type": "stream",
     "text": [
      "입력하신 점수는 101점이고 등급은, 유효하지 않은 점수 입니다.\n"
     ]
    }
   ],
   "source": [
    "#점수를 입력받아 학점 출력\n",
    "name = \"홍길동\"\n",
    "#score = int(input(\"{}점수를 입력하세요 :\". format(name)))   #인풋에서는 format이 안됨, 프린트에서만 쓸 수 있음 , 이름을 인풋 출력에 넣으려면 연산을 해야함\n",
    "score = int(input(name+\"님! 점수를 입력하세요 :\"))  #이렇게 해야함, 위에꺼는 안됨\n",
    "if 90 <= score <= 100 :\n",
    "    grade = 'A'\n",
    "elif 80 <= score < 90 :\n",
    "    grade = 'B'\n",
    "elif 70 <= score < 80 :\n",
    "    grade = 'C'\n",
    "elif 60 <= score < 70 :\n",
    "    grade = 'D'\n",
    "elif 0 <= score < 60 :\n",
    "    grade = 'F'\n",
    "else :\n",
    "    grade = '유효하지 않은 점수'\n",
    "print(\"입력하신 점수는 {}점이고 등급은, {} 입니다.\".format(score,grade))"
   ]
  },
  {
   "cell_type": "markdown",
   "id": "d42d22ae-f469-4eee-909a-ce080c498097",
   "metadata": {},
   "source": [
    "# 2절. for-in문\n",
    "```\n",
    "for 변수 in 나열이가능한자료형(리스트 튜플 딕셔너리 RANGE 등등 다됨) :\n",
    "    반복할 문장1\n",
    "    반복할 문장2\n",
    "else :\n",
    "    변수에 값이 할당되지 않은 경우 한 번 실행(else 구문은 선택사항), for문의 변수가 다 할당되고 더이상 진행될게 없으면 실행.\n",
    "    for문 안에 break가 있을경우 else블럭 수행되지 않음\n",
    "```"
   ]
  },
  {
   "cell_type": "code",
   "execution_count": 7,
   "id": "96866fd4-abf3-4dae-818e-9379e0baf790",
   "metadata": {},
   "outputs": [
    {
     "data": {
      "text/plain": [
       "[0, 3, 6, 9]"
      ]
     },
     "execution_count": 7,
     "metadata": {},
     "output_type": "execute_result"
    }
   ],
   "source": [
    "list(range(0,12,3)) #나열가능한 자료임"
   ]
  },
  {
   "cell_type": "code",
   "execution_count": 8,
   "id": "3f9a8d5f-df1b-4a33-bbc2-a924594992f0",
   "metadata": {},
   "outputs": [
    {
     "name": "stdout",
     "output_type": "stream",
     "text": [
      "1\t3\t5\t7\t9\t\n",
      "Done\n",
      "END\n"
     ]
    }
   ],
   "source": [
    "for i in range(1, 10, 2) :\n",
    "    print(i, end=\"\\t\")  # end 적는거랑 그냥하는거랑 차이가 많이남..! end가 없으면 \\t\\n, end= 하면 \\t로만\n",
    "else :\n",
    "    print(\"\\nDone\")\n",
    "print(\"END\")"
   ]
  },
  {
   "cell_type": "code",
   "execution_count": 10,
   "id": "6caeb2f3-be69-461c-9b52-ceafd165ef0a",
   "metadata": {},
   "outputs": [
    {
     "data": {
      "text/plain": [
       "2550"
      ]
     },
     "execution_count": 10,
     "metadata": {},
     "output_type": "execute_result"
    }
   ],
   "source": [
    "# 1~100 까지 짝수의 합을 계산하고 출력하시오\n",
    "sum = 0\n",
    "for i in range(1,101) :\n",
    "    if i%2==0 :\n",
    "        sum += i\n",
    "sum"
   ]
  },
  {
   "cell_type": "markdown",
   "id": "01165b42-93cf-4136-aca5-a2c5e2400155",
   "metadata": {},
   "source": [
    "# 3절. while문\n",
    "```\n",
    "while 조건 :\n",
    "    반복문장1\n",
    "    반복문장2\n",
    "else :\n",
    "    조건이 거짓일 경우 한 번 수행할 문장 (else는 선택사항)\n",
    "    while문 내 break를 통해서 빠져 나올 떄는 else블럭은 수행하지 않음"
   ]
  },
  {
   "cell_type": "code",
   "execution_count": 11,
   "id": "d08319f0-5f94-409c-8776-86d3722fdf32",
   "metadata": {},
   "outputs": [],
   "source": [
    "# while 문을 이용하여, 사용자에게 두 수를 입력받아 첫번쨰(작은수) 수부터 두번쨰 입력한(큰수) 수 까지 홀수의 합 누적해서 출력"
   ]
  },
  {
   "cell_type": "code",
   "execution_count": 14,
   "id": "b3dc7722-b107-4489-a170-6c5e92270b9d",
   "metadata": {},
   "outputs": [
    {
     "name": "stdin",
     "output_type": "stream",
     "text": [
      "첫 번째 수를 입력하세요 1\n",
      "두 번째 수를 입력하세요 3\n"
     ]
    },
    {
     "name": "stdout",
     "output_type": "stream",
     "text": [
      "설정한 범위 내의 홀수의 합은 4 입니다.\n"
     ]
    }
   ],
   "source": [
    "num1 = int(input('첫 번째 수를 입력하세요'))\n",
    "num2 = int(input('두 번째 수를 입력하세요'))\n",
    "sum = 0 #누적변수\n",
    "i = num1\n",
    "while i<=num2 :\n",
    "    if i%2 != 0 :\n",
    "        sum += i\n",
    "    i +=1\n",
    "else : \n",
    "    print(\"설정한 범위 내의 홀수의 합은 {} 입니다.\".format(sum))"
   ]
  },
  {
   "cell_type": "markdown",
   "id": "ccec9dae-f479-4e98-a079-22156a013e07",
   "metadata": {},
   "source": [
    "# 4절. break,continue"
   ]
  },
  {
   "cell_type": "code",
   "execution_count": 17,
   "id": "e07309b0-7795-4d51-bc6e-87c8664aba01",
   "metadata": {},
   "outputs": [
    {
     "name": "stdout",
     "output_type": "stream",
     "text": [
      "0\n",
      "1\n",
      "2\n",
      "3\n",
      "4\n",
      "5\n",
      "6\n",
      "7\n"
     ]
    }
   ],
   "source": [
    "num = 0\n",
    "while num<=10:\n",
    "    print(num)\n",
    "    num += 1\n",
    "    if num>= 8:\n",
    "        break"
   ]
  },
  {
   "cell_type": "markdown",
   "id": "2e2ed72b-d13a-43fe-acbc-d49dca84e6f5",
   "metadata": {},
   "source": [
    "# 5절. 이중 Loop"
   ]
  },
  {
   "cell_type": "code",
   "execution_count": 22,
   "id": "dc460dd2-c6fc-4ffe-a156-b7c394b1c1ed",
   "metadata": {},
   "outputs": [
    {
     "name": "stdout",
     "output_type": "stream",
     "text": [
      "2 X 1 =  2\t3 X 1 =  3\t4 X 1 =  4\t5 X 1 =  5\t6 X 1 =  6\t7 X 1 =  7\t8 X 1 =  8\t9 X 1 =  9\t\n",
      "2 X 2 =  4\t3 X 2 =  6\t4 X 2 =  8\t5 X 2 = 10\t6 X 2 = 12\t7 X 2 = 14\t8 X 2 = 16\t9 X 2 = 18\t\n",
      "2 X 3 =  6\t3 X 3 =  9\t4 X 3 = 12\t5 X 3 = 15\t6 X 3 = 18\t7 X 3 = 21\t8 X 3 = 24\t9 X 3 = 27\t\n",
      "2 X 4 =  8\t3 X 4 = 12\t4 X 4 = 16\t5 X 4 = 20\t6 X 4 = 24\t7 X 4 = 28\t8 X 4 = 32\t9 X 4 = 36\t\n",
      "2 X 5 = 10\t3 X 5 = 15\t4 X 5 = 20\t5 X 5 = 25\t6 X 5 = 30\t7 X 5 = 35\t8 X 5 = 40\t9 X 5 = 45\t\n",
      "2 X 6 = 12\t3 X 6 = 18\t4 X 6 = 24\t5 X 6 = 30\t6 X 6 = 36\t7 X 6 = 42\t8 X 6 = 48\t9 X 6 = 54\t\n",
      "2 X 7 = 14\t3 X 7 = 21\t4 X 7 = 28\t5 X 7 = 35\t6 X 7 = 42\t7 X 7 = 49\t8 X 7 = 56\t9 X 7 = 63\t\n",
      "2 X 8 = 16\t3 X 8 = 24\t4 X 8 = 32\t5 X 8 = 40\t6 X 8 = 48\t7 X 8 = 56\t8 X 8 = 64\t9 X 8 = 72\t\n",
      "2 X 9 = 18\t3 X 9 = 27\t4 X 9 = 36\t5 X 9 = 45\t6 X 9 = 54\t7 X 9 = 63\t8 X 9 = 72\t9 X 9 = 81\t\n"
     ]
    }
   ],
   "source": [
    "for i in range(1,10):\n",
    "    for j in range(2,10) :\n",
    "        print(\"{} X {} = {:>2}\\t\".format(j,i,i*j),end='')\n",
    "    print() #개행 용도"
   ]
  },
  {
   "cell_type": "markdown",
   "id": "967aed87-1382-42c2-8c1e-dc9cb7d3b54e",
   "metadata": {},
   "source": [
    "# 연습문제\n",
    " ## 난수 발생 \n",
    " import random <- random.py 메모리에 load\n",
    " random.seed(7)  \n",
    " random.randint(a,b) : a,b 사이 난수 발생\n"
   ]
  },
  {
   "cell_type": "code",
   "execution_count": 35,
   "id": "5c4eaab6-f9a1-4f27-97cf-bf146ac3a1a2",
   "metadata": {},
   "outputs": [
    {
     "name": "stdout",
     "output_type": "stream",
     "text": [
      "정답은 : 51\n",
      "1이상 100이하 숫자를 맞추세요\n"
     ]
    },
    {
     "name": "stdin",
     "output_type": "stream",
     "text": [
      " 1\n"
     ]
    },
    {
     "name": "stdout",
     "output_type": "stream",
     "text": [
      "UP!\n",
      "2이상 100이하 숫자를 맞추세요\n"
     ]
    },
    {
     "name": "stdin",
     "output_type": "stream",
     "text": [
      " 2\n"
     ]
    },
    {
     "name": "stdout",
     "output_type": "stream",
     "text": [
      "UP!\n",
      "3이상 100이하 숫자를 맞추세요\n"
     ]
    },
    {
     "name": "stdin",
     "output_type": "stream",
     "text": [
      " 3\n"
     ]
    },
    {
     "name": "stdout",
     "output_type": "stream",
     "text": [
      "UP!\n",
      "4이상 100이하 숫자를 맞추세요\n"
     ]
    },
    {
     "name": "stdin",
     "output_type": "stream",
     "text": [
      " 4\n"
     ]
    },
    {
     "name": "stdout",
     "output_type": "stream",
     "text": [
      "UP!\n",
      "5이상 100이하 숫자를 맞추세요\n"
     ]
    },
    {
     "name": "stdin",
     "output_type": "stream",
     "text": [
      " 5\n"
     ]
    },
    {
     "name": "stdout",
     "output_type": "stream",
     "text": [
      "5번의 기회를 다 쓰셨습니다\n"
     ]
    }
   ],
   "source": [
    "# 1~100 사이 정수를 맞추는 프로그램 구현\n",
    "import random\n",
    "number = random.randint(1,100)\n",
    "min = 1\n",
    "max = 100\n",
    "chance = 5\n",
    "print(\"정답은 :\",number)\n",
    "for i in range(chance):\n",
    "    print(\"{}이상 {}이하 숫자를 맞추세요\".format(min,max))\n",
    "    answer = int(input())\n",
    "    if answer == number :\n",
    "        print(\"축하합니다 정답입니다.\")\n",
    "        break;\n",
    "    else :\n",
    "        chance -=1\n",
    "        if chance == 0 :\n",
    "            print(\"5번의 기회를 다 쓰셨습니다\")\n",
    "            break;\n",
    "        else : \n",
    "            if answer > number :\n",
    "                print(\"DOWN!\")\n",
    "                max = answer-1\n",
    "            elif answer < number :\n",
    "                print(\"UP!\")\n",
    "                min = answer+1\n",
    "        "
   ]
  },
  {
   "cell_type": "code",
   "execution_count": 54,
   "id": "a818f2bd-5bf2-4a82-9547-b749252f93b6",
   "metadata": {},
   "outputs": [
    {
     "name": "stdout",
     "output_type": "stream",
     "text": [
      "정답은 : 100\n",
      "1이상 100이하 숫자를 맞추세요. 남은기회 5회\n"
     ]
    },
    {
     "name": "stdin",
     "output_type": "stream",
     "text": [
      " 1\n"
     ]
    },
    {
     "name": "stdout",
     "output_type": "stream",
     "text": [
      "UP!\n",
      "2이상 100이하 숫자를 맞추세요. 남은기회 4회\n"
     ]
    },
    {
     "name": "stdin",
     "output_type": "stream",
     "text": [
      " 2\n"
     ]
    },
    {
     "name": "stdout",
     "output_type": "stream",
     "text": [
      "UP!\n",
      "3이상 100이하 숫자를 맞추세요. 남은기회 3회\n"
     ]
    },
    {
     "name": "stdin",
     "output_type": "stream",
     "text": [
      " 100\n"
     ]
    },
    {
     "name": "stdout",
     "output_type": "stream",
     "text": [
      "축하합니다 3번만에 정답입니다.\n"
     ]
    }
   ],
   "source": [
    "# 1~100 사이 정수를 맞추는 프로그램 구현\n",
    "import random\n",
    "number = random.randint(1,100)\n",
    "min = 1\n",
    "max = 100\n",
    "chance = 5\n",
    "print(\"정답은 :\",number)\n",
    "for i in range(chance):\n",
    "    print(\"{}이상 {}이하 숫자를 맞추세요. 남은기회 {}회\".format(min,max,chance-i))\n",
    "    answer = int(input())\n",
    "    if answer == number :\n",
    "        print(\"축하합니다 {}번만에 정답입니다.\".format(i+1))\n",
    "        break;\n",
    "    else :\n",
    "        i += 1\n",
    "    if (answer>max) | (answer<min) :\n",
    "        print(\"수의 범위를 벗어났어요\")\n",
    "    elif answer > number :\n",
    "        print(\"DOWN!\")\n",
    "        max = answer-1\n",
    "    elif answer < number :\n",
    "        print(\"UP!\")\n",
    "        min = answer+1\n",
    "    else :\n",
    "        print(\"알수없는 오류에요\")\n",
    "else :\n",
    "    print(\"5번의 기회를 다썼어요\")"
   ]
  },
  {
   "cell_type": "code",
   "execution_count": 73,
   "id": "cf8c16c4-17a5-4560-b3dc-7860491d71a1",
   "metadata": {},
   "outputs": [
    {
     "name": "stdout",
     "output_type": "stream",
     "text": [
      "[4, 5, 13, 14, 26, 41]\n"
     ]
    }
   ],
   "source": [
    "lotto=set()\n",
    "while len(lotto)<6 :\n",
    "    lotto.add(random.randint(1,45))\n",
    "lotto = list(lotto)\n",
    "lotto.sort()\n",
    "print(lotto)\n",
    "    "
   ]
  },
  {
   "cell_type": "code",
   "execution_count": null,
   "id": "9eae5bf7-8780-45b2-8df9-0bce19aba2b0",
   "metadata": {},
   "outputs": [],
   "source": []
  },
  {
   "cell_type": "code",
   "execution_count": null,
   "id": "62ac4f3e-ce4f-437b-953f-f73106169a76",
   "metadata": {},
   "outputs": [],
   "source": []
  }
 ],
 "metadata": {
  "kernelspec": {
   "display_name": "Python 3 (ipykernel)",
   "language": "python",
   "name": "python3"
  },
  "language_info": {
   "codemirror_mode": {
    "name": "ipython",
    "version": 3
   },
   "file_extension": ".py",
   "mimetype": "text/x-python",
   "name": "python",
   "nbconvert_exporter": "python",
   "pygments_lexer": "ipython3",
   "version": "3.12.3"
  }
 },
 "nbformat": 4,
 "nbformat_minor": 5
}
