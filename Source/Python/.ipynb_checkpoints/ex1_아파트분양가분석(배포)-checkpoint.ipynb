{
 "cells": [
  {
   "cell_type": "code",
   "execution_count": null,
   "id": "58cb8b65-a0bd-4975-8077-6ba3287dc38c",
   "metadata": {},
   "outputs": [],
   "source": [
    "# 구버전\n",
    "from IPython.display import display, HTML\n",
    "display(HTML(\"\"\"\n",
    "<style>\n",
    "div.container{width:97% !important;}\n",
    "div.CodeMirror {font-family:Consolas; font-size:22pt;}\n",
    "div.output {font-size:22pt; font-weight:bold;}\n",
    "div.input {font-family:Consolas; font-size:22pt;}\n",
    "div.prompt {min-width:70px;}\n",
    "</style>\n",
    "\"\"\"))"
   ]
  },
  {
   "cell_type": "code",
   "execution_count": null,
   "id": "8cebb7d5-8843-47f9-b6a8-d0f0d11fbaef",
   "metadata": {},
   "outputs": [],
   "source": [
    "# 새버전\n",
    "from IPython.display import display, HTML\n",
    "display(HTML(\"\"\"\n",
    "<style>\n",
    "div.jp-WindowedPanel-outer.lm-Widget{padding:5px;}\n",
    "div.lm-Widget{font-size:12pt;}\n",
    "div.cm-content {font-family:Consolas; font-size:12pt;}\n",
    "div.jp-OutputArea-output pre {font-size:12pt; font-weight:bold;}\n",
    "input.jp-Stdin-input {font-family:Consolas; font-size:12pt;}\n",
    "</style>\n",
    "\"\"\"))"
   ]
  },
  {
   "cell_type": "markdown",
   "id": "e145a53d-04ac-4da7-b8f9-c718db9bd423",
   "metadata": {},
   "source": [
    "# 전국 신규 민간아파트 분양가격 동향 분석\n",
    "* 2015부터 최근까지 부동산 가격 변동 추세가 아파트 분양가에도 반영될까?\n",
    "* 공공데이터를 활용하여 데이터를 판다스 데이터프레임으로 가져와 전처리하고 요약한다\n",
    "* 수치형 데이터와 범주형 데이터 다루기\n",
    "* 데이터 형식에 따른 다양한 시각화 방법을 실습한다\n",
    "\n",
    "## 다운로드\n",
    "- https://www.data.go.kr에서 \"아파트 분양 가격 동향\"을 검색한 후, 자료를 다운받는다"
   ]
  },
  {
   "cell_type": "markdown",
   "id": "fb95f3c8-7134-4f25-83b1-0255476fed28",
   "metadata": {},
   "source": [
    "# 1. 패키지로드 & 한글설정 & 경고메세지 ignore"
   ]
  },
  {
   "cell_type": "code",
   "execution_count": null,
   "id": "592f62a2-28d9-4e05-be54-47814a4ee9b2",
   "metadata": {},
   "outputs": [],
   "source": [
    "# 라이브러리 로드\n",
    "import matplotlib.pyplot as plt\n",
    "import seaborn as sns\n",
    "import pandas as pd\n",
    "import numpy as np\n",
    "\n",
    "# 시각화를 선명하게 표시되도록\n",
    "%config InlineBackend.figure_format='retina'\n",
    "\n",
    "#한글 폰트 설정\n",
    "plt.rc(\"font\", family=\"Malgun Gothic\") # windows\n",
    "# plt.rc('font', family='AppleGothic') # Mac\n",
    "plt.rc(\"axes\", unicode_minus=False) # y축\n",
    "\n",
    "# 경고 메세지 안 보이게 \n",
    "import warnings\n",
    "warnings.filterwarnings(action='ignore')\n",
    "# warnings.filterwarnings(action='default')"
   ]
  },
  {
   "cell_type": "markdown",
   "id": "025807a9-32fc-410e-95a1-5ed4843621a1",
   "metadata": {},
   "source": [
    "# 2. 데이터 로드"
   ]
  },
  {
   "cell_type": "code",
   "execution_count": null,
   "id": "5e811b0c-882b-46a7-b6c2-c498eaeb42a3",
   "metadata": {},
   "outputs": [],
   "source": []
  },
  {
   "cell_type": "markdown",
   "id": "75f161e4-db74-4e07-a1c9-272b6fbfb41f",
   "metadata": {},
   "source": [
    "## ① 2013년9월부터 2015년8월까지 데이터는 df_first 변수에 담아 탐색"
   ]
  },
  {
   "cell_type": "code",
   "execution_count": null,
   "id": "198c98a4-5572-40fc-b98c-2a0e5b993be9",
   "metadata": {},
   "outputs": [],
   "source": [
    "# df_first\n"
   ]
  },
  {
   "cell_type": "code",
   "execution_count": null,
   "id": "902fe41d-9e4f-4bf2-abec-736249b7b5e6",
   "metadata": {},
   "outputs": [],
   "source": [
    "# df_first 한줄 출력\n"
   ]
  },
  {
   "cell_type": "code",
   "execution_count": null,
   "id": "aba0c18b-9773-4baf-a141-6864db26ff8b",
   "metadata": {},
   "outputs": [],
   "source": [
    "# 출력가능한 최대 컬럼수 출력\n"
   ]
  },
  {
   "cell_type": "code",
   "execution_count": null,
   "id": "79ffc150-23b6-4553-8758-09a55d5d7969",
   "metadata": {},
   "outputs": [],
   "source": [
    "# df_first의 모든 열이 나오도록 출력 가능한 최대 컬럼수 조정후 확인\n"
   ]
  },
  {
   "cell_type": "code",
   "execution_count": null,
   "id": "406665e5-319e-4d05-a267-5af99b55c213",
   "metadata": {},
   "outputs": [],
   "source": [
    "# df_first 마지막 1줄 출력\n"
   ]
  },
  {
   "cell_type": "code",
   "execution_count": null,
   "id": "b327b8a6-ba48-4b65-8498-5dadcf35f3c4",
   "metadata": {},
   "outputs": [],
   "source": [
    "# df_first 열별 데이터 갯수 및 타입 및 메모리 정보\n"
   ]
  },
  {
   "cell_type": "code",
   "execution_count": null,
   "id": "fdbbe7fa-3017-4892-9b9c-341b4a2e3a74",
   "metadata": {},
   "outputs": [],
   "source": [
    "# 지역 컬럼을 index로 하여\n"
   ]
  },
  {
   "cell_type": "code",
   "execution_count": null,
   "id": "af511170-a14a-4ea8-b354-e7e9954f14a3",
   "metadata": {},
   "outputs": [],
   "source": [
    "# heatmap 으로 부동산 가격을 시각화한다\n"
   ]
  },
  {
   "cell_type": "markdown",
   "id": "2eb770c4-b726-4813-9e82-b8539bb347fa",
   "metadata": {},
   "source": [
    "## ② 이후 데이터는 df_last 변수에 담아 탐색"
   ]
  },
  {
   "cell_type": "code",
   "execution_count": null,
   "id": "4455c318-d818-4d10-ad35-b0750870d0a9",
   "metadata": {},
   "outputs": [],
   "source": [
    "# df_last\n"
   ]
  },
  {
   "cell_type": "code",
   "execution_count": null,
   "id": "ccd0e557-8849-423b-b3d3-8244fad9debf",
   "metadata": {},
   "outputs": [],
   "source": [
    "# head로 파일을 5개만 미리보기합니다\n"
   ]
  },
  {
   "cell_type": "code",
   "execution_count": null,
   "id": "5de275c8-f6a2-4b3b-a31b-889e18f7c5ce",
   "metadata": {},
   "outputs": [],
   "source": [
    "# tail로도 미리보기 합니다.\n"
   ]
  },
  {
   "cell_type": "code",
   "execution_count": null,
   "id": "46732a67-1abc-4eff-970b-19a1677f06d5",
   "metadata": {},
   "outputs": [],
   "source": [
    "# 데이터 요약하기(결측치가 있음) #분양가격(제곱미터)는 문자를 수치형으로 변경하여야 평당분양가격 계산 가능\n"
   ]
  },
  {
   "cell_type": "markdown",
   "id": "4dd54924-71e1-48e1-ae6d-9c65e315fb2e",
   "metadata": {},
   "source": [
    "# 3.df_last의 데이터 결측치를 확인하고 대체할지 고민한다"
   ]
  },
  {
   "cell_type": "code",
   "execution_count": null,
   "id": "6dcdb9bb-01a9-4cd4-aebe-d72efbd4b432",
   "metadata": {},
   "outputs": [],
   "source": []
  },
  {
   "cell_type": "markdown",
   "id": "ac1047df-15e2-4ecc-adb2-70fe3e9b2bb7",
   "metadata": {},
   "source": [
    "# 4. df데이터셋에 분양가격(제곱미터) 데이터의 타입변경 후 평당분양가격 추가"
   ]
  },
  {
   "cell_type": "code",
   "execution_count": null,
   "id": "79c5c9a0-e641-4801-8c21-eb2af012874c",
   "metadata": {},
   "outputs": [],
   "source": [
    "# 분양가격(제곱미터) 컬럼이 문자형이라 수치형으로 변경한 후 평당분양가격 추가\n"
   ]
  },
  {
   "cell_type": "code",
   "execution_count": null,
   "id": "6f60186a-31be-4361-a701-2e29c2cc3e30",
   "metadata": {},
   "outputs": [],
   "source": [
    "# 결측치가 있는 곳 출력하기\n"
   ]
  },
  {
   "cell_type": "code",
   "execution_count": null,
   "id": "b7f99e6b-d985-4e5a-bf0d-92a01a59c6ca",
   "metadata": {},
   "outputs": [],
   "source": [
    "# 기본적으로 '분양가격(제곱미터)' 컬럼은 str이지만 결측치가 있는 곳은 float로 나옴\n"
   ]
  },
  {
   "cell_type": "code",
   "execution_count": null,
   "id": "f2fea88b-ce66-4f88-bb68-47503f774f2c",
   "metadata": {},
   "outputs": [],
   "source": [
    "# df_last['분양가격(제곱미터)'].astype('float64') #특정열 데이터타입변경 에러 이유 : ' ' 땜시"
   ]
  },
  {
   "cell_type": "code",
   "execution_count": null,
   "id": "f5ba6863-f45c-4644-bfd3-af32aa0fa69b",
   "metadata": {},
   "outputs": [],
   "source": [
    "# df['월'].astype('int64')에러 나는 이유는 ?\n"
   ]
  },
  {
   "cell_type": "code",
   "execution_count": null,
   "id": "05ca1a3b-19a1-49f7-b516-7cc7fe0cf04b",
   "metadata": {},
   "outputs": [],
   "source": [
    "# 분양가격(제곱미터)컬럼이 공백이나 space인 행의 갯수\n"
   ]
  },
  {
   "cell_type": "code",
   "execution_count": null,
   "id": "45e52db8-6e44-4d0b-887f-bfab9324e1d2",
   "metadata": {},
   "outputs": [],
   "source": [
    "# 분양가격이 빈스트링인 모든 데이터에 결측치 할당\n"
   ]
  },
  {
   "cell_type": "code",
   "execution_count": null,
   "id": "16cf4a6c-1b3d-456f-aeb1-7494affb59b2",
   "metadata": {},
   "outputs": [],
   "source": [
    "# 분양가격(제곱미터)컬럼이 공백이나 space인 행을 결측치로 할당한 후 갯수는 0인지 확인\n"
   ]
  },
  {
   "cell_type": "code",
   "execution_count": null,
   "id": "72bff787-7eb6-408e-a224-0ac73ecc7b63",
   "metadata": {},
   "outputs": [],
   "source": [
    "df_last.loc[6443] # 분양가격이 space였던 행 확인"
   ]
  },
  {
   "cell_type": "code",
   "execution_count": null,
   "id": "cf280469-e0a9-4839-a186-0bde16331f22",
   "metadata": {},
   "outputs": [],
   "source": [
    "# df_last 요약정보\n",
    "df_last.info()"
   ]
  },
  {
   "cell_type": "code",
   "execution_count": null,
   "id": "47e2fef9-7d1b-4b0a-8484-ba9c57ec8681",
   "metadata": {},
   "outputs": [],
   "source": [
    "# 범주형일 때 기술통계 요약정보\n"
   ]
  },
  {
   "cell_type": "code",
   "execution_count": null,
   "id": "697b9adf-cf23-438b-9623-f4b500feb195",
   "metadata": {},
   "outputs": [],
   "source": [
    "# '분양가격(제곱미터)' 컬럼의 타입을 float64로 변경하여 '제곱미터당분양가격'으로 한다\n"
   ]
  },
  {
   "cell_type": "code",
   "execution_count": null,
   "id": "9ca4beaa-b695-4b2e-8ba5-407021e6784d",
   "metadata": {},
   "outputs": [],
   "source": [
    "# '제곱미터당분양가격' 컬럼의 기술통계 요약 (max가 아주 커서 mean과 중위수 차이남)\n"
   ]
  },
  {
   "cell_type": "code",
   "execution_count": null,
   "id": "15a71874-8d8e-4e5b-906d-d35e53cd5ef0",
   "metadata": {},
   "outputs": [],
   "source": [
    "# '평당분양가격' 컬럼 생성\n"
   ]
  },
  {
   "cell_type": "code",
   "execution_count": null,
   "id": "5c3b6080-428f-4f3a-849d-cc5a3dc1041f",
   "metadata": {},
   "outputs": [],
   "source": [
    "# df_last head로 데이터 2줄 확인\n"
   ]
  },
  {
   "cell_type": "markdown",
   "id": "e932aa63-d157-43fa-b014-1a56e342166c",
   "metadata": {},
   "source": [
    "# 5. df_last데이터셋에서 전용면적 컬럼 추가(메모리 절약차원)"
   ]
  },
  {
   "cell_type": "code",
   "execution_count": null,
   "id": "9a809da1-42c4-43cd-bfc2-d960e334c42d",
   "metadata": {},
   "outputs": [],
   "source": [
    "df_last['규모구분'].unique()"
   ]
  },
  {
   "cell_type": "code",
   "execution_count": null,
   "id": "98388dd4-a3a1-4ec5-913f-1a47b00a296d",
   "metadata": {},
   "outputs": [],
   "source": [
    "df_last['전용면적'] = df_last['규모구분'].str.replace('전용면적','')\n",
    "df_last['전용면적'] = df_last['전용면적'].str.replace(\"제곱미터\", \"㎡\")\n",
    "df_last['전용면적'] = df_last['전용면적'].str.replace('초과','~')\n",
    "df_last['전용면적'] = df_last['전용면적'].str.replace('이하','')\n",
    "df_last['전용면적'] = df_last['전용면적'].str.replace(' ','').str.strip()\n",
    "df_last.head()"
   ]
  },
  {
   "cell_type": "code",
   "execution_count": null,
   "id": "c01b04be-b0f7-456a-84f0-6247c2ca9974",
   "metadata": {},
   "outputs": [],
   "source": [
    "df_last.info()"
   ]
  },
  {
   "cell_type": "markdown",
   "id": "e2d26488-82bd-437b-82ee-fa996c71015f",
   "metadata": {},
   "source": [
    "# 6. 메모리 사용량을 줄이기 위해 사용하지 않을 컬럼(규모구분, 분양가격(제곱미터)컬럼)은 제거한 후 메모리 사용량을 전후로 확인"
   ]
  },
  {
   "cell_type": "code",
   "execution_count": null,
   "id": "1487c1bc-3756-4703-86ea-ef325d30f7de",
   "metadata": {},
   "outputs": [],
   "source": [
    "#axis=1이 없으면 axis=0으로 되어 행제거하나 규모구분,분양가격이라는 행이 없어 에러\n",
    "# \"규모구분\",\"분양가격(제곱미터)\",\"제곱미터당분양가격\" 컬럼 제거\n"
   ]
  },
  {
   "cell_type": "code",
   "execution_count": null,
   "id": "8b37388c-c5ac-49e1-93dd-faf9cb1c56cd",
   "metadata": {},
   "outputs": [],
   "source": [
    "# 평당 분양가격이 결측치 값인 행 인덱스 출력\n"
   ]
  },
  {
   "cell_type": "code",
   "execution_count": null,
   "id": "33ed4674-aacc-4008-9cdf-024c5b00396b",
   "metadata": {},
   "outputs": [],
   "source": [
    "# 평당 분양가격이 결측치 값인 행 제거\n",
    "df_last.drop(df_last[df_last['평당분양가격'].isna()].index, inplace=True)"
   ]
  },
  {
   "cell_type": "code",
   "execution_count": null,
   "id": "3e2f7d33-1077-41a0-a3a9-4fbeafb537e4",
   "metadata": {},
   "outputs": [],
   "source": [
    "# 결측치 데이터가 다 없어졌는지 확인\n"
   ]
  },
  {
   "cell_type": "code",
   "execution_count": null,
   "id": "011f09cd-1074-43b3-bf77-162256c9844c",
   "metadata": {},
   "outputs": [],
   "source": [
    "# df_last 열별데이터갯수, 타입, 메모리 정보 확인\n"
   ]
  },
  {
   "cell_type": "code",
   "execution_count": null,
   "id": "1d3dc4a4-f679-4ac2-9bdd-28c477261216",
   "metadata": {},
   "outputs": [],
   "source": [
    "# 전처리 완성된 데이터를 저장\n"
   ]
  },
  {
   "cell_type": "markdown",
   "id": "ec076561-52a0-4c3b-b538-10401d6f2317",
   "metadata": {},
   "source": [
    "# 7. GroupBy이용\n",
    " - groupby를 통해 데이터를 그룹화해서 연산\n",
    " - <font size=\"\" color=\"red\"><b>df_last.groupby([\"인덱스로사용할컬럼명\"])['계산할컬럼값\"].연산()</b></font>\n",
    "##  ① 지역별 데이터 수, 평당분양가격(평균)"
   ]
  },
  {
   "cell_type": "code",
   "execution_count": null,
   "id": "e70fb1da-3c54-4411-9b2f-abd1950e2d13",
   "metadata": {},
   "outputs": [],
   "source": [
    "df_last.groupby?"
   ]
  },
  {
   "cell_type": "code",
   "execution_count": null,
   "id": "500d37a6-5a5a-4bad-b3c1-f0c26293241a",
   "metadata": {},
   "outputs": [],
   "source": [
    "# 지역명별 결측치를 제외한 데이터 수\n"
   ]
  },
  {
   "cell_type": "code",
   "execution_count": null,
   "id": "234955f7-352a-4949-a587-7a7b6a700c3b",
   "metadata": {},
   "outputs": [],
   "source": [
    "# 지역별 평당분양가격 max값나 min값\n"
   ]
  },
  {
   "cell_type": "code",
   "execution_count": null,
   "id": "330fba71-d7a2-46af-897c-d19c7927dfa4",
   "metadata": {},
   "outputs": [],
   "source": [
    "# 지역별 평당분양가격(평균)\n"
   ]
  },
  {
   "cell_type": "code",
   "execution_count": null,
   "id": "b3c12faa-444f-4264-877e-ae6519a795c6",
   "metadata": {},
   "outputs": [],
   "source": [
    "# 지역별 평당분양가격 min, max, mean, 사분위수\n"
   ]
  },
  {
   "cell_type": "code",
   "execution_count": null,
   "id": "49733326-c6fd-48f4-8fa7-e3e2da6d69b5",
   "metadata": {},
   "outputs": [],
   "source": [
    "# 전용면적별 평당분양가격(평균)\n"
   ]
  },
  {
   "cell_type": "code",
   "execution_count": null,
   "id": "b1a56df6-3229-4541-aeea-cd0346bdb4b9",
   "metadata": {},
   "outputs": [],
   "source": [
    "# 지역별, 전용면적별 평당분양가격(평균)\n",
    " # 전용면적가 컬럼값으로 표\n"
   ]
  },
  {
   "cell_type": "code",
   "execution_count": null,
   "id": "05691916-e07f-4ffa-aa76-20a202e8d67e",
   "metadata": {},
   "outputs": [],
   "source": [
    "# 연도별, 지역명별 평당분양가격\n"
   ]
  },
  {
   "cell_type": "code",
   "execution_count": null,
   "id": "0247740b-3d0c-4842-b9b3-7f938821ec1b",
   "metadata": {},
   "outputs": [],
   "source": [
    "# 위에ㅓ의 연도별, 지역명별 평당분양가격을 heatmap으로 시각화\n"
   ]
  },
  {
   "cell_type": "markdown",
   "id": "d5bcc960-c735-4daf-84a6-ccc3e3ae80f2",
   "metadata": {},
   "source": [
    "# 8. 위의 그룹화한 내용을 막대그래프로 시각화"
   ]
  },
  {
   "cell_type": "code",
   "execution_count": null,
   "id": "8e1ec05a-fa46-42ab-8d92-f0c55c5c2442",
   "metadata": {},
   "outputs": [],
   "source": [
    "# 지역별 평균 평당분양가격을 내림차순정렬하여 막대그래프로 시각화\n"
   ]
  },
  {
   "cell_type": "code",
   "execution_count": null,
   "id": "63457b54-a41d-41c2-b4ef-b381e4beaa8d",
   "metadata": {},
   "outputs": [],
   "source": [
    "# 지역별 정렬된 평균 평당분양가격 lineplot\n"
   ]
  },
  {
   "cell_type": "code",
   "execution_count": null,
   "id": "e102f7be-2843-48b0-b04f-2f28cc119864",
   "metadata": {},
   "outputs": [],
   "source": [
    "# 전용면적별 평균  평당분양가격 그래프\n"
   ]
  },
  {
   "cell_type": "code",
   "execution_count": null,
   "id": "7f8e331d-c9fe-42de-9310-59842426f62e",
   "metadata": {},
   "outputs": [],
   "source": [
    "# 월별, 연도별 평당분양가격 변동\n"
   ]
  },
  {
   "cell_type": "markdown",
   "id": "675184a7-4296-425c-8870-0bac71d6ad25",
   "metadata": {},
   "source": [
    "Boxplot (상자수염그림)\n",
    "https://ko.wikipedia.org/wiki/%EC%83%81%EC%9E%90_%EC%88%98%EC%97%BC_%EA%B7%B8%EB%A6%BC"
   ]
  },
  {
   "cell_type": "code",
   "execution_count": null,
   "id": "3bf6f331-8ef9-4ca7-9032-a290c59a6fb4",
   "metadata": {},
   "outputs": [],
   "source": [
    "# 위의 월별, 연도별, 평당분양가격 boxplot\n"
   ]
  },
  {
   "cell_type": "code",
   "execution_count": null,
   "id": "42aad0a7-e64d-4991-9e1c-edfc2839ccd1",
   "metadata": {},
   "outputs": [],
   "source": [
    "# 위의 월별, 연도별, 평당분양가격 lineplot => 월별, 연도별 분양가 상한선 확인\n"
   ]
  },
  {
   "cell_type": "code",
   "execution_count": null,
   "id": "4f5cbe10-82b6-4651-808b-267de4a1b9ed",
   "metadata": {},
   "outputs": [],
   "source": [
    "# boxplot으로 지역별 평당분양가격 시각화\n"
   ]
  },
  {
   "cell_type": "markdown",
   "id": "c6864ef9-59fc-4db5-9362-e06bac4e210e",
   "metadata": {},
   "source": [
    "# 9. seaborn으로 시각화(위에서 그린 시각화내용을 일부또는 그 이상을 seaborn으로 시각화)"
   ]
  },
  {
   "cell_type": "markdown",
   "id": "2ee704a7-4e7b-4897-93b0-18f018bd4941",
   "metadata": {},
   "source": [
    "## ① 지역별 평당분양가격(평균)"
   ]
  },
  {
   "cell_type": "code",
   "execution_count": null,
   "id": "e2d91cb0-a9f5-4873-89b3-5c8e26ea8392",
   "metadata": {},
   "outputs": [],
   "source": [
    "# 지역별 평당 분양가격\n"
   ]
  },
  {
   "cell_type": "code",
   "execution_count": null,
   "id": "b46f9866-272e-4997-ac30-009019a594ef",
   "metadata": {},
   "outputs": [],
   "source": [
    "# 만약 정렬을 원한다면 groupby후 sort_values()한후 시각화한다.\n"
   ]
  },
  {
   "cell_type": "markdown",
   "id": "4a11c4be-b99f-4b72-a9d1-a4f226f39fc1",
   "metadata": {},
   "source": [
    "## ② 연도별 평당분양가격(평균)"
   ]
  },
  {
   "cell_type": "code",
   "execution_count": null,
   "id": "a7d49890-4c7d-4f6f-932b-43ae020392c3",
   "metadata": {},
   "outputs": [],
   "source": [
    "# 연도별 평당분양가격 barplot\n"
   ]
  },
  {
   "cell_type": "code",
   "execution_count": null,
   "id": "4f4cd754-2217-4acb-a9a0-e206fafddc35",
   "metadata": {},
   "outputs": [],
   "source": [
    "# 년도별 평균 평당분양가격의 추이\n"
   ]
  },
  {
   "cell_type": "code",
   "execution_count": null,
   "id": "16daf7e4-cb25-487a-97ab-d237380dbf9a",
   "metadata": {},
   "outputs": [],
   "source": [
    "# 년도별 지역별 평균 평당분양가격\n"
   ]
  },
  {
   "cell_type": "code",
   "execution_count": null,
   "id": "173b9996-3259-416b-a1d2-c6d501aff115",
   "metadata": {},
   "outputs": [],
   "source": [
    "# 연도별 평당분양가격의 사분위수(boxplot)\n"
   ]
  },
  {
   "cell_type": "code",
   "execution_count": null,
   "id": "6efd2e31-de9d-4f27-a19e-fd42726335c9",
   "metadata": {},
   "outputs": [],
   "source": [
    "# 연도별 평당분양가격의 사분위수와 분포\n"
   ]
  },
  {
   "cell_type": "code",
   "execution_count": null,
   "id": "118f7a2e-4a53-4ddc-b5f2-4e22b775e183",
   "metadata": {},
   "outputs": [],
   "source": [
    "# 연도별 전용면적별 boxenplot\n"
   ]
  },
  {
   "cell_type": "code",
   "execution_count": null,
   "id": "ba135554-ba5a-42aa-b58a-4b48025044e7",
   "metadata": {},
   "outputs": [],
   "source": [
    "# boxplot으로 지역별 평당분양가격을 그려봅니다.\n"
   ]
  },
  {
   "cell_type": "markdown",
   "id": "2843165a-ac9c-41a2-88d6-21dc1f4bff0e",
   "metadata": {},
   "source": [
    "# 10.\t구조가 다른 df_first와 df_last의 전용면적 전체의 데이터를 하나의 같은 데이터 셋으로 합쳐서 분석을 한다. 분석은 위의 내용을 참조하여 각자 분석한다(전용면적별 분석 불가)"
   ]
  },
  {
   "cell_type": "code",
   "execution_count": null,
   "id": "f2436d39-fdb8-4371-ba55-49083e03b822",
   "metadata": {},
   "outputs": [],
   "source": [
    "df_first.sample()"
   ]
  },
  {
   "cell_type": "markdown",
   "id": "9ecffc4b-12e0-4ecc-aa53-094f3026e69e",
   "metadata": {},
   "source": [
    "- melt 도움말\n",
    "    - https://pandas.pydata.org/docs/user_guide/reshaping.html\n",
    "- tidy data\n",
    "    - https://vita.had.co.nz/papers/tidy-data.pdf"
   ]
  },
  {
   "cell_type": "code",
   "execution_count": null,
   "id": "136262ad-84b4-4be5-bd2e-ba40d392d8a9",
   "metadata": {},
   "outputs": [],
   "source": [
    "new_first = df_first.melt(id_vars=\"지역\", \n",
    "                          var_name=\"연도월\", \n",
    "                          value_name=\"평당분양가격\")\n",
    "new_first.head()\n",
    "# melt를 통해 녹인 연도월 데이터는 전처리하기 편하게 데이터로 옴"
   ]
  },
  {
   "cell_type": "code",
   "execution_count": 1,
   "id": "8b95aacb-88e6-407a-9f27-56b1ca302c96",
   "metadata": {},
   "outputs": [
    {
     "data": {
      "text/plain": [
       "2013"
      ]
     },
     "execution_count": 1,
     "metadata": {},
     "output_type": "execute_result"
    }
   ],
   "source": [
    "def parse_year(x):\n",
    "    return int(x.split(\"년\")[0])\n",
    "parse_year(\"2013년12월\")"
   ]
  },
  {
   "cell_type": "code",
   "execution_count": 2,
   "id": "daf5cbf4-4317-414f-b466-505046e28d37",
   "metadata": {},
   "outputs": [
    {
     "data": {
      "text/plain": [
       "12"
      ]
     },
     "execution_count": 2,
     "metadata": {},
     "output_type": "execute_result"
    }
   ],
   "source": [
    "def parse_month(x):\n",
    "    return int(x.split(\"년\")[-1].replace(\"월\",\"\"))\n",
    "parse_month(\"2013년12월\")"
   ]
  },
  {
   "cell_type": "code",
   "execution_count": null,
   "id": "0af0b13a-7450-4d93-8bd9-9b716a0e46b7",
   "metadata": {},
   "outputs": [],
   "source": [
    "# \"연도월\" 컬럼을 \"연도\"컬럼과 \"월\"컬럼으로 분리한다(lambda함수 이용)\n",
    "\n"
   ]
  },
  {
   "cell_type": "code",
   "execution_count": null,
   "id": "064241fa-b640-44ef-b283-290d84e62d7a",
   "metadata": {},
   "outputs": [],
   "source": [
    "# \"연도월\" 컬럼을 제거하고, 컬럼명을 [\"지역명\",\"평당분양가격\",\"연도\",\"월\"]로 수정\n",
    "\n",
    "\n"
   ]
  },
  {
   "cell_type": "code",
   "execution_count": null,
   "id": "e4b77ef5-ce9b-4c4c-9de2-36728c774b1e",
   "metadata": {},
   "outputs": [],
   "source": [
    "#df_last 데이터 중 \"전용면젹\"이 \"모든면적\"인 데이터만 복사한다(깊은복사)\n",
    "\n",
    "# \"전용면적\"컬럼 제거\n",
    "\n",
    "new_last.head()"
   ]
  },
  {
   "cell_type": "code",
   "execution_count": null,
   "id": "8c2c1fca-6388-45fc-90ff-ceffd76218e7",
   "metadata": {},
   "outputs": [],
   "source": [
    "# new_first와 new_last 행병합\n",
    "\n",
    "df.sample()"
   ]
  },
  {
   "cell_type": "code",
   "execution_count": null,
   "id": "855f4ca4-cd40-4676-b2d6-d04c0a9eaeb7",
   "metadata": {},
   "outputs": [],
   "source": [
    "# index 재조정\n",
    "df.index = range(df.shape[0])\n",
    "df.head()"
   ]
  }
 ],
 "metadata": {
  "kernelspec": {
   "display_name": "Python 3 (ipykernel)",
   "language": "python",
   "name": "python3"
  },
  "language_info": {
   "codemirror_mode": {
    "name": "ipython",
    "version": 3
   },
   "file_extension": ".py",
   "mimetype": "text/x-python",
   "name": "python",
   "nbconvert_exporter": "python",
   "pygments_lexer": "ipython3",
   "version": "3.11.7"
  }
 },
 "nbformat": 4,
 "nbformat_minor": 5
}
