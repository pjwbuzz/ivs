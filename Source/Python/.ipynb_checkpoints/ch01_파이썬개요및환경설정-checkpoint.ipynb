{
 "cells": [
  {
   "cell_type": "markdown",
   "id": "50a1eacf",
   "metadata": {},
   "source": [
    "# <font color=\"red\" size=\"10\"><b>ch01. 파이썬 개요 및 환경설정 </b></font>"
   ]
  },
  {
   "cell_type": "markdown",
   "id": "97a73eb3",
   "metadata": {},
   "source": [
    "# #dasdf"
   ]
  },
  {
   "cell_type": "code",
   "execution_count": 2,
   "id": "12e6e6ca",
   "metadata": {},
   "outputs": [
    {
     "name": "stdout",
     "output_type": "stream",
     "text": [
      "Hello\n"
     ]
    }
   ],
   "source": [
    "print('Hello')"
   ]
  },
  {
   "cell_type": "code",
   "execution_count": 3,
   "id": "9543f593",
   "metadata": {},
   "outputs": [
    {
     "data": {
      "text/plain": [
       "3"
      ]
     },
     "execution_count": 3,
     "metadata": {},
     "output_type": "execute_result"
    }
   ],
   "source": [
    "a = 1\n",
    "b = '2'\n",
    "a + int(b)"
   ]
  },
  {
   "cell_type": "code",
   "execution_count": null,
   "id": "089eca93",
   "metadata": {},
   "outputs": [],
   "source": [
    "# for i in range(1000000000000000):\n",
    "#     print(i)\n",
    "# 중지 : kernel > 다양항 restart 기능이나 shotdown 기능"
   ]
  },
  {
   "cell_type": "markdown",
   "id": "b04082dd",
   "metadata": {},
   "source": [
    "# 2. ESC 누르고 핫키\n",
    "- dd : 셀 삭제\n",
    "- a : 윗셀추가\n",
    "- b : 아랫셀 추가\n",
    "- m : 마크 다운셀로 전환\n",
    "- y : 코드셀로 전환"
   ]
  },
  {
   "cell_type": "markdown",
   "id": "8e97fbae",
   "metadata": {},
   "source": [
    "# 3. 마크다운이란?\n",
    " - 코드와 함꼐 문서화할 수 있다.\n",
    " 여러줄 설명은\n",
    " 줄바꿈으로 할 수 있습니다.\n",
    "```\n",
    "    여러줄 설명은\n",
    "    줄바꿈으로 할 수 있습니다.\n",
    "```\n"
   ]
  },
  {
   "cell_type": "code",
   "execution_count": null,
   "id": "1f7142d6",
   "metadata": {},
   "outputs": [],
   "source": []
  },
  {
   "cell_type": "code",
   "execution_count": null,
   "id": "db269733",
   "metadata": {},
   "outputs": [],
   "source": []
  }
 ],
 "metadata": {
  "kernelspec": {
   "display_name": "Python 3 (ipykernel)",
   "language": "python",
   "name": "python3"
  },
  "language_info": {
   "codemirror_mode": {
    "name": "ipython",
    "version": 3
   },
   "file_extension": ".py",
   "mimetype": "text/x-python",
   "name": "python",
   "nbconvert_exporter": "python",
   "pygments_lexer": "ipython3",
   "version": "3.12.3"
  }
 },
 "nbformat": 4,
 "nbformat_minor": 5
}
