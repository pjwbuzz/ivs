{
 "cells": [
  {
   "cell_type": "markdown",
   "id": "4adc2808-90ba-4f72-922d-bfc3867cb8d6",
   "metadata": {},
   "source": [
    "# <font color=\"red\" size=\"10\"><b>ch02. 자료형과 연산자 </b></font>"
   ]
  },
  {
   "cell_type": "markdown",
   "id": "1fac341a-6415-4502-8b49-e28c2c5a5a34",
   "metadata": {},
   "source": [
    "# 1절. 변수\n",
    "## 1.1 변수선언\n",
    "    - 별도의 변수 선언과정 없음\n",
    "## 1.2 변수 할당\n",
    "    - 대입연산자(=) 사용"
   ]
  },
  {
   "cell_type": "code",
   "execution_count": null,
   "id": "40f35d48-c1f9-4366-9159-01dbea7baec3",
   "metadata": {},
   "outputs": [],
   "source": [
    "import numpy as np\n",
    "print(np.pi)\n",
    "r = 5\n",
    "area = np.pi * r * r\n",
    "print(\"계산된 넓이는\", area)"
   ]
  },
  {
   "cell_type": "code",
   "execution_count": null,
   "id": "e6688df5-2230-4aa5-993c-7c2a59adeab3",
   "metadata": {},
   "outputs": [],
   "source": [
    "import numpy as np\n",
    "print('제공되는 pi값은', np.pi)\n",
    "r = 5\n",
    "area = np.pi * r * r\n",
    "# printf(\"계산된 넓이는 %lf\", area)\n",
    "print(\"계산된 넓이는\", area)\n",
    "print('area타입은', type(area) )\n",
    "print('area 주소는', id(area))"
   ]
  },
  {
   "cell_type": "code",
   "execution_count": null,
   "id": "a610cd9e-3dd6-4dd1-a931-e8fb59210c82",
   "metadata": {},
   "outputs": [],
   "source": [
    "area = 10\n",
    "print(\"area 값은\", area)\n",
    "print('area타입은', type(area) )\n",
    "print('area 주소는', id(area))"
   ]
  },
  {
   "cell_type": "code",
   "execution_count": null,
   "id": "02b0d32f-3016-4b77-a269-84df465361a1",
   "metadata": {},
   "outputs": [],
   "source": [
    "area = '파이썬은 좋아요'\n",
    "print(\"area 값은\", area)\n",
    "print('area타입은', type(area) )\n",
    "print('area 주소는', id(area))"
   ]
  },
  {
   "cell_type": "code",
   "execution_count": null,
   "id": "266f9985-f2d4-416c-bff3-bbb7cf8ea919",
   "metadata": {},
   "outputs": [],
   "source": []
  },
  {
   "cell_type": "code",
   "execution_count": null,
   "id": "ac9680b3-7251-4d7e-9c22-8c7953d1b51f",
   "metadata": {},
   "outputs": [],
   "source": [
    "불용어 = \"북한\"\n",
    "print(불용어)\n"
   ]
  },
  {
   "cell_type": "code",
   "execution_count": null,
   "id": "c7184074-88c8-4e0e-b4fa-37f7adc84bba",
   "metadata": {},
   "outputs": [],
   "source": [
    "i=3+3j\n",
    "type(i)"
   ]
  },
  {
   "cell_type": "code",
   "execution_count": null,
   "id": "85598447-5513-4ac5-85db-441407afaa7a",
   "metadata": {},
   "outputs": [],
   "source": [
    "a=10\n",
    "b=20"
   ]
  },
  {
   "cell_type": "code",
   "execution_count": null,
   "id": "71fc39e0-0fff-4fdc-befd-e737fcf63a1f",
   "metadata": {},
   "outputs": [],
   "source": [
    "a,b=10,20"
   ]
  },
  {
   "cell_type": "markdown",
   "id": "56db8860-9f59-44c1-80af-049db67bf764",
   "metadata": {},
   "source": [
    "## 1.3 변수이름 규칙\n",
    "    - 문자(특수문자는 _제외하고 안됨), 숫자, _로 명명.\n",
    "    - 문자로 시작\n",
    "    \r\n",
    "- 파이썬에서 제공되는 기본 함수명 피하자. 꼭 써야한다면 int_식으로 _를 \n",
    "    임\r\n",
    "- 파이썬 예약어는 변수명 불가(ex. if)"
   ]
  },
  {
   "cell_type": "code",
   "execution_count": null,
   "id": "f7b38e05-300f-4b29-9c2f-9c00861d9882",
   "metadata": {},
   "outputs": [],
   "source": [
    "a,b"
   ]
  },
  {
   "cell_type": "code",
   "execution_count": null,
   "id": "fd8fe350-b6a6-4377-b1cb-b9415c0e408b",
   "metadata": {},
   "outputs": [],
   "source": [
    "a,b=b,a+b #이경우 병렬로 같이 들어가서, a+b 는 40이 아니고 30이다.\n",
    "a,b"
   ]
  },
  {
   "cell_type": "markdown",
   "id": "9298d97d-09f9-4785-96e2-7faad376b8ea",
   "metadata": {},
   "source": [
    "## 1.4 도움말"
   ]
  },
  {
   "cell_type": "code",
   "execution_count": null,
   "id": "f8dc6f1b-4c14-4c2a-8c83-6fd2027c1cae",
   "metadata": {},
   "outputs": [],
   "source": [
    "help(print)"
   ]
  },
  {
   "cell_type": "code",
   "execution_count": null,
   "id": "21f504eb-c822-4ecd-9cf6-f0285c0dee2d",
   "metadata": {},
   "outputs": [],
   "source": [
    "#도움말 기능 : 함수내에서 shift + tab 키"
   ]
  },
  {
   "cell_type": "code",
   "execution_count": null,
   "id": "7146de7a-2488-419f-8432-34ea3e67fda8",
   "metadata": {},
   "outputs": [],
   "source": [
    "print('a','b',sep='~')"
   ]
  },
  {
   "cell_type": "code",
   "execution_count": null,
   "id": "9aa6bfca-635d-4383-b9fe-d0285cf24693",
   "metadata": {},
   "outputs": [],
   "source": [
    "def mknum(x,y=0):\n",
    "    \"\"\"doc string(함수의 도움말)\n",
    "    매개변수 2개를 이용해서 2자리 정수를 만들어요\n",
    "    x = 10의 자리수\n",
    "    y = 1의 자리수 (dafault 값 0)\n",
    "    \"\"\"\n",
    "    return x*10 + y\n",
    "    "
   ]
  },
  {
   "cell_type": "code",
   "execution_count": null,
   "id": "64e64b6d-7ffc-42aa-a97e-77337e7ec17e",
   "metadata": {},
   "outputs": [],
   "source": [
    "mknum(2,3)"
   ]
  },
  {
   "cell_type": "code",
   "execution_count": null,
   "id": "7cd5144e-1af4-4eba-b3e3-a50dbbc2587d",
   "metadata": {},
   "outputs": [],
   "source": [
    "mknum(5)"
   ]
  },
  {
   "cell_type": "code",
   "execution_count": null,
   "id": "aa546b26-36bb-434b-acaf-02a72c22c8dd",
   "metadata": {},
   "outputs": [],
   "source": [
    "make = mknum  #함수를 변수에 할당"
   ]
  },
  {
   "cell_type": "code",
   "execution_count": null,
   "id": "5e44f6b4-93f2-4f75-a052-55bf5f538271",
   "metadata": {},
   "outputs": [],
   "source": [
    "make(6)"
   ]
  },
  {
   "cell_type": "markdown",
   "id": "f5d28924-7135-4dc6-aa7c-7a980ca43578",
   "metadata": {},
   "source": [
    "## 1.5 변수 삭제"
   ]
  },
  {
   "cell_type": "code",
   "execution_count": null,
   "id": "7c951cd7-e0f7-46f8-bfd3-46dd6bf35931",
   "metadata": {},
   "outputs": [],
   "source": [
    "del make"
   ]
  },
  {
   "cell_type": "code",
   "execution_count": null,
   "id": "afba8f9d-e1f1-4a54-97a7-d8ecbf92fbd1",
   "metadata": {},
   "outputs": [],
   "source": [
    "make(6)"
   ]
  },
  {
   "cell_type": "markdown",
   "id": "3eb4d40c-fefe-4f06-a857-53abd8b9fe89",
   "metadata": {},
   "source": [
    "# 2절 화면 I/O"
   ]
  },
  {
   "cell_type": "code",
   "execution_count": null,
   "id": "5b5247d9-9d13-4948-890a-c88c505a52b1",
   "metadata": {},
   "outputs": [],
   "source": [
    "# first = input('첫 번째 숫자는?') #문자로 return\n",
    "# second = input('두 번째 숫자는?'\n",
    "first = int(input('첫 번째 숫자는?'))\n",
    "second = int(input('두 번째 숫자는?'))  #이렇게 int 형으로 바꿔줘야 숫자로 받음"
   ]
  },
  {
   "cell_type": "code",
   "execution_count": null,
   "id": "241b66fd-8a0b-44b6-9ade-bf204fbba43e",
   "metadata": {},
   "outputs": [],
   "source": [
    "print('두수의 합은 {}'.format(first+second))  #input을 문자로 받아서 합쳐짐... "
   ]
  },
  {
   "cell_type": "code",
   "execution_count": null,
   "id": "093b4ac7-9821-4226-aadf-6c17f0bda979",
   "metadata": {},
   "outputs": [],
   "source": [
    "print('Hello','world',sep='~')\n",
    "print('Hello', 'Python', sep='~')  # 이렇게 하면 꼭 두줄에 나옴, 한줄에 나오게 하고싶다면?? shift+tab 으로 확인해보자"
   ]
  },
  {
   "cell_type": "code",
   "execution_count": null,
   "id": "551fba90-0a2e-4da0-a278-556603421787",
   "metadata": {},
   "outputs": [],
   "source": [
    "print('Hello','world',sep='~',end ='\\t')  #이렇게 end 이용해서 설정가능\n",
    "print('Hello', 'Python', sep='~')"
   ]
  },
  {
   "cell_type": "markdown",
   "id": "2f9ae72e-f9ce-475b-8a55-502f3a6cf57d",
   "metadata": {},
   "source": [
    "# 3절. 기본 자료형\n",
    "    - 숫자 : int, float, complex\n",
    "    - 문자 : str //무조건 str 임\n",
    "    - 논리 : bool\n",
    "    파이썬은 타입을 지칭하는 키워드가 없고, 변수 할당시 타입이 정해짐 "
   ]
  },
  {
   "cell_type": "markdown",
   "id": "f06afb8d-d8e0-45c2-94fc-324c9e449306",
   "metadata": {},
   "source": [
    "## 3.1 숫자형"
   ]
  },
  {
   "cell_type": "code",
   "execution_count": null,
   "id": "3573e454-8309-45f7-9ad5-96c43e947db5",
   "metadata": {},
   "outputs": [],
   "source": [
    "import sys\n",
    "print(sys.maxsize) #windows가 다루는 정수의 최대 크기 \n",
    "#모든 크기의 정수를 다 처리가능"
   ]
  },
  {
   "cell_type": "code",
   "execution_count": null,
   "id": "93a7452c-00e0-4ddd-be65-df98ef1ddfc3",
   "metadata": {},
   "outputs": [],
   "source": [
    "a = sys.maxsize + 10\n",
    "print(\"값 : {} / 주소 : {}\".format(a,id(a)))   #할당할때마다 주소가 바뀜\n",
    "print(type(a)) #int임, maxsize보다 커도 처리가 가능..!"
   ]
  },
  {
   "cell_type": "code",
   "execution_count": null,
   "id": "137efd40-9af4-4682-a37d-b7a832ad759a",
   "metadata": {},
   "outputs": [],
   "source": [
    "a = 3/2 #정수형 나누기 정수형 : 실수형(float)\n",
    "print(\"값:{}/주소{}\".format(a,id(a)))\n",
    "print(type(a))"
   ]
  },
  {
   "cell_type": "code",
   "execution_count": null,
   "id": "0dca7cd2-068d-471e-a9d9-3b57a71deac2",
   "metadata": {},
   "outputs": [],
   "source": [
    "a = int(3/2) #C언어 결과처럼 하고자 하면 명시적 형변환\n",
    "a = 3//2 #C언어 결과처럼 하고자 하면 몫연산자 \n",
    "print(\"값:{}/주소{}\".format(a,id(a)))\n",
    "print(type(a))"
   ]
  },
  {
   "cell_type": "code",
   "execution_count": null,
   "id": "68e83979-a238-4602-a599-27b728188664",
   "metadata": {},
   "outputs": [],
   "source": [
    "#아주 작거나 큰 수를 나타낼 때\n",
    "f = 1.12e20 # 1.12 * 10^20 \n",
    "print(f)\n",
    "f = 1.12e-20\n",
    "print(f)"
   ]
  },
  {
   "cell_type": "markdown",
   "id": "437cc1e4-e3dc-49de-9504-b8ee135c7219",
   "metadata": {},
   "source": [
    "## 3.2 문자형"
   ]
  },
  {
   "cell_type": "code",
   "execution_count": null,
   "id": "cc78001e-512c-4890-a24b-437de4487054",
   "metadata": {},
   "outputs": [],
   "source": [
    "name = \"홍길동'님'\"\n",
    "name2 = '홍길동\"님\"'\n",
    "address = \"서울시 \\\"금천구\\\" \\\n",
    "가산디지털1로\"\n",
    "#\\는 다음줄에서 계속 이라는 의미\n",
    "print(name)\n",
    "print(name2)\n",
    "print(address)"
   ]
  },
  {
   "cell_type": "code",
   "execution_count": null,
   "id": "24387fe8-96a2-4b0b-aeac-6227e404a5ef",
   "metadata": {},
   "outputs": [],
   "source": [
    "text = \"안녕하세요\\n홍길동입니다.\\n반갑습니다.\"\n",
    "print(text)"
   ]
  },
  {
   "cell_type": "code",
   "execution_count": null,
   "id": "3bd2e722-94b0-4597-88ec-32d4bf632021",
   "metadata": {},
   "outputs": [],
   "source": [
    "text=\"\"\"안녕하세요\n",
    "홍길동입니다.\n",
    "반갑습니다.\n",
    "\"\"\"\n",
    "print(text)"
   ]
  },
  {
   "cell_type": "markdown",
   "id": "4a17de7b-5a7b-491d-9f07-b542930889a9",
   "metadata": {},
   "source": [
    "## - 문자열 슬라이싱"
   ]
  },
  {
   "cell_type": "code",
   "execution_count": null,
   "id": "27532868-49c0-4468-8ec3-527185c34ff0",
   "metadata": {},
   "outputs": [],
   "source": [
    "str_ = \"0123456789\"  #str(100) 하면 100을 문자열로 저장하라는 함수이므로 _꼭 해야함\n",
    "str_"
   ]
  },
  {
   "cell_type": "code",
   "execution_count": null,
   "id": "7baa5a8d-bf18-49d4-8ae5-4d7cc63eccff",
   "metadata": {},
   "outputs": [],
   "source": [
    "str_[0:3]  #0번째 인덱스부터 3번쨰 앞까지(2번째까지) "
   ]
  },
  {
   "cell_type": "code",
   "execution_count": null,
   "id": "fe890c58-e971-435f-93eb-64851f39fe48",
   "metadata": {},
   "outputs": [],
   "source": [
    "str_[-1] #음수 인덱스는 뒤에서부터, 뒤에서 첫번째 글자\n"
   ]
  },
  {
   "cell_type": "code",
   "execution_count": null,
   "id": "de352ba3-a72c-43b8-b68f-78cc79ab1e58",
   "metadata": {},
   "outputs": [],
   "source": [
    "str_=\"0123456789\"\n",
    "str_[-5:-1]"
   ]
  },
  {
   "cell_type": "code",
   "execution_count": null,
   "id": "b76337c9-b1ec-4bef-888c-8f5eb795836a",
   "metadata": {},
   "outputs": [],
   "source": [
    "str_[-5:] #-5부터 끝까지"
   ]
  },
  {
   "cell_type": "code",
   "execution_count": null,
   "id": "7ced5ab6-d996-4738-a780-b57b04df013a",
   "metadata": {},
   "outputs": [],
   "source": [
    "str_[:-5]"
   ]
  },
  {
   "cell_type": "code",
   "execution_count": null,
   "id": "6328efde-5121-4221-a91c-cfd80876fe2f",
   "metadata": {},
   "outputs": [],
   "source": [
    "#str_[19] #없는건 에러남\n",
    "str_[5:19] #but 슬라이싱할떄는 괜찮음 끝까지 가버림"
   ]
  },
  {
   "cell_type": "code",
   "execution_count": null,
   "id": "26186389-cfb1-47f8-8032-9417c8f234ab",
   "metadata": {},
   "outputs": [],
   "source": [
    "#str_[from:to:step]\n",
    "print(str_[0:9:2]) #0번쨰부터 9번쨰 앞까지 2씩 인덱스 증가해서 출력\n",
    "print(str_[::2])   #from to 둘다 안쓰면 처음부터 끝까지 2씩 증가해서 출력"
   ]
  },
  {
   "cell_type": "code",
   "execution_count": null,
   "id": "d9260079-ef5b-4487-9e13-155a7245aeae",
   "metadata": {},
   "outputs": [],
   "source": [
    "#끝부터 처음까지 (거꾸로)\n",
    "print(str_[9::-1])  # 안넣어야 끝까지 출력"
   ]
  },
  {
   "cell_type": "markdown",
   "id": "7de2e8a7-2497-4978-a921-077891503c65",
   "metadata": {},
   "source": [
    "## 3.3 논리형(True, False)"
   ]
  },
  {
   "cell_type": "code",
   "execution_count": null,
   "id": "09467c82-2258-40b0-89c3-b1c74e5e7cae",
   "metadata": {},
   "outputs": [],
   "source": [
    "a = True\n",
    "print(a)\n",
    "print(type(a))\n",
    "print(isinstance(a,bool)) #isinstance는 a가 bool타입의 객체 인지 물어보는것"
   ]
  },
  {
   "cell_type": "code",
   "execution_count": null,
   "id": "9b9eddcd-948a-49ff-8e34-fe53ad581a6a",
   "metadata": {},
   "outputs": [],
   "source": [
    "#False로 간주하는 것 : 0, None, \"\" (빈스트링) ''(빈스트링), []리스트, ()튜플, {}딕셔너리 , 뭔가 안에 데이터가 없으면 False로 간주\n",
    "#True로 간주하는 것 : 데이터가 있으면 True로 간주, \" \" 이렇게 스페이스 있어도 True, '\\0' Null문자도 True"
   ]
  },
  {
   "cell_type": "code",
   "execution_count": null,
   "id": "4ca7022e-d7be-4921-bab9-f61c9ef8c567",
   "metadata": {},
   "outputs": [],
   "source": [
    "if 0+0j:  #이건 0이라 False로 간주\n",
    "    print(\"True다\")\n",
    "else:\n",
    "    print(\"False다\")\n",
    "    "
   ]
  },
  {
   "cell_type": "markdown",
   "id": "ce74cb4c-4ff9-497b-a2de-687bf39f6277",
   "metadata": {},
   "source": [
    "## 3.4 자료형 확인 및 변환\n",
    "    - type() : 자료형 확인\n",
    "    - int() : 정수형 변환\n",
    "    - float() : 실수형 변환\n",
    "    - str() : 문자형 변환\n",
    "    - bool() : 논리형 변환"
   ]
  },
  {
   "cell_type": "code",
   "execution_count": null,
   "id": "62855028-2642-4cf0-a331-bd50ff9c0b40",
   "metadata": {},
   "outputs": [],
   "source": [
    "int('')  #이런건 안됨"
   ]
  },
  {
   "cell_type": "code",
   "execution_count": null,
   "id": "c33450e2-b090-47d0-b7fa-8e28237890fc",
   "metadata": {},
   "outputs": [],
   "source": [
    "int(\"2,000\")  #,있어도 안됨 콤마 없애는 전처리 과정을 해줘야함"
   ]
  },
  {
   "cell_type": "code",
   "execution_count": null,
   "id": "5d3c6f64-883d-4ad7-b59a-58fed3ebbdff",
   "metadata": {},
   "outputs": [],
   "source": [
    "float(True) #True는 float로 바꾸면 1.0!!"
   ]
  },
  {
   "cell_type": "markdown",
   "id": "4d24e69e-3991-4726-8350-0b38fd763265",
   "metadata": {},
   "source": [
    "# 4절 포맷팅"
   ]
  },
  {
   "cell_type": "code",
   "execution_count": null,
   "id": "684a5893-0e17-404c-8d6b-b91af9b802f0",
   "metadata": {},
   "outputs": [],
   "source": [
    "name = \"홍길동\"\n",
    "add = \"서울시 금천구\"\n",
    "print(\"이름은 {}, 주소는 {}\".format(name,add))\n",
    "print(\"이름은 {1}, 주소는 {0}\".format(add,name)) #이렇게 인덱스 지정해서 순서 정할 수 있음"
   ]
  },
  {
   "cell_type": "code",
   "execution_count": null,
   "id": "806bfb72-148c-4528-9305-57d639f2fb14",
   "metadata": {},
   "outputs": [],
   "source": [
    "print(\"이름은 %s, 주소는 %s\"%(name,add)) #이렇게도 되는데 옛날방식임"
   ]
  },
  {
   "cell_type": "code",
   "execution_count": null,
   "id": "450f0e4b-8cf8-481c-a361-e280ff1e20c0",
   "metadata": {},
   "outputs": [],
   "source": [
    "print(f\"이름은 {name}, 주소는{add}\")"
   ]
  },
  {
   "cell_type": "markdown",
   "id": "699132a1-324b-4b89-bcec-611c9bd4ca43",
   "metadata": {},
   "source": [
    "### format()함수\n",
    "    - \"{[인덱스]:[공백대체문자][정렬방법][자릿수][타입]}\".format(변수명,....,..) [생략가능]\n",
    "    - 공백대체문자 : 자릿수 정해주고 남는 공백에 넣을 문자\n",
    "    - 정렬방법 : <(왼쪽정렬), >(오른쪽정렬), ^(가운데정렬)\n",
    "    - 타입 : d(10진수), x(16진수), b(2진수), f(실수), s(문자)"
   ]
  },
  {
   "cell_type": "code",
   "execution_count": null,
   "id": "96388eb7-9a78-4248-832a-0c449b61fea0",
   "metadata": {},
   "outputs": [],
   "source": [
    "a = 10 \n",
    "s = 'Hello'\n",
    "print(\"[{0:$>10d}],[{1:*<20.2}]\".format(a,s))"
   ]
  },
  {
   "cell_type": "markdown",
   "id": "8c3b04e0-2155-4e1c-8a51-753da43ec710",
   "metadata": {},
   "source": [
    "# 5절. 연산자\n",
    "## 5.1 산술연산자 : + - / * //(몫) %(나머지) **(제곱)\n",
    "## 5.2 할당연산자 : = += -= /= %= ...\n",
    "## 5.3 논리연산자 : &, and, |, or, not (연산자 우선순위가 높음)\n",
    "## 5.4 비트연산자 : &, |, ^(or) (연산자 우선순위가 높음) "
   ]
  },
  {
   "cell_type": "code",
   "execution_count": null,
   "id": "febbcb6b-5c47-43b5-9887-4d7b9ff2dca9",
   "metadata": {},
   "outputs": [],
   "source": [
    "print((10>3)&(10>5))  #연산자 앞 뒤로 true/false 면 논리연산"
   ]
  },
  {
   "cell_type": "code",
   "execution_count": null,
   "id": "e5ec7700-53ab-4449-a20d-08b6c4a93b99",
   "metadata": {},
   "outputs": [],
   "source": [
    "print(12 & 1)  # 비트연산 12 : 1100\n",
    "               #          1 : 0001  \n",
    "print(12|1)"
   ]
  },
  {
   "cell_type": "markdown",
   "id": "0b045129-8f2e-44cf-b8cd-a6487846287e",
   "metadata": {},
   "source": [
    "## 5.5 비교연산자 > >= < <= == !="
   ]
  },
  {
   "cell_type": "code",
   "execution_count": null,
   "id": "3c8995f4-97a0-465f-bbfa-6cdc0c0db731",
   "metadata": {},
   "outputs": [],
   "source": [
    "'아' < '하'  #ㄱㄴㄷ 순으로 비교가능"
   ]
  },
  {
   "cell_type": "code",
   "execution_count": null,
   "id": "3f769ef6-2074-428a-8a60-2fd70a980b4f",
   "metadata": {},
   "outputs": [],
   "source": [
    "'*'<'1'<'A'<'a'  #아스키코드로 비교연산 가능 + 다항 비교연산 가능\n",
    "#코드 순 : 특수문자 < 숫자 < 대문자 < 소문자"
   ]
  },
  {
   "cell_type": "code",
   "execution_count": 1,
   "id": "c95ab398-bab3-46b4-8e69-323271341d9b",
   "metadata": {},
   "outputs": [
    {
     "data": {
      "text/plain": [
       "True"
      ]
     },
     "execution_count": 1,
     "metadata": {},
     "output_type": "execute_result"
    }
   ],
   "source": [
    "score = 85\n",
    "80<=score<90<100"
   ]
  },
  {
   "cell_type": "code",
   "execution_count": null,
   "id": "60a9c88a-eca5-43f3-a282-b4afe493c6fd",
   "metadata": {},
   "outputs": [],
   "source": []
  }
 ],
 "metadata": {
  "kernelspec": {
   "display_name": "Python 3 (ipykernel)",
   "language": "python",
   "name": "python3"
  },
  "language_info": {
   "codemirror_mode": {
    "name": "ipython",
    "version": 3
   },
   "file_extension": ".py",
   "mimetype": "text/x-python",
   "name": "python",
   "nbconvert_exporter": "python",
   "pygments_lexer": "ipython3",
   "version": "3.12.3"
  }
 },
 "nbformat": 4,
 "nbformat_minor": 5
}
