{
 "cells": [
  {
   "cell_type": "markdown",
   "id": "1be86df6-2e90-4343-80ef-cf7d07753b73",
   "metadata": {},
   "source": [
    "# <font color=\"#9932CC\" size=\"10\"><b>ch10. Pandas(데이터프레임,시리즈)</b></font>"
   ]
  },
  {
   "cell_type": "markdown",
   "id": "bafcabe1-8c01-42e7-a97e-9541803ae5f0",
   "metadata": {},
   "source": [
    "# 1절. 판다스 패키지 \n",
    "- 데이터 분석을 위해 반드시 알아야 할 패키지. 넘파이를 기반으로 하며, 다른 라이브러리와 잘 통합되어 설계됨.\n",
    "- 1차원 구조를 갖는 시리즈, 2차원 구조를 갖는 데이터프레임을 제공\n",
    "- 결측치 처리, 크기변경(열삭제/추가), 행삭제/추가, 데이터 정렬, 분할, 병합, 통계처리, 부분데이터 추출, 파일입출력, 레이블링, 시각화용이, .....\n",
    "  "
   ]
  },
  {
   "cell_type": "code",
   "execution_count": 2,
   "id": "a758a057-c0d7-46f2-8610-33265d30c37e",
   "metadata": {},
   "outputs": [
    {
     "data": {
      "text/plain": [
       "3.141592653589793"
      ]
     },
     "execution_count": 2,
     "metadata": {},
     "output_type": "execute_result"
    }
   ],
   "source": [
    "import numpy as np\n",
    "np.pi"
   ]
  },
  {
   "cell_type": "code",
   "execution_count": 3,
   "id": "34f3088f-b222-4cca-8ecc-b1787126cebd",
   "metadata": {},
   "outputs": [
    {
     "data": {
      "text/plain": [
       "'2.2.2'"
      ]
     },
     "execution_count": 3,
     "metadata": {},
     "output_type": "execute_result"
    }
   ],
   "source": [
    "import pandas as pd\n",
    "pd.__version__"
   ]
  },
  {
   "cell_type": "code",
   "execution_count": 5,
   "id": "3225ecec-5498-44b4-b923-ffc0aee53524",
   "metadata": {},
   "outputs": [
    {
     "name": "stdout",
     "output_type": "stream",
     "text": [
      "<class 'pandas.core.frame.DataFrame'>\n"
     ]
    },
    {
     "data": {
      "text/html": [
       "<div>\n",
       "<style scoped>\n",
       "    .dataframe tbody tr th:only-of-type {\n",
       "        vertical-align: middle;\n",
       "    }\n",
       "\n",
       "    .dataframe tbody tr th {\n",
       "        vertical-align: top;\n",
       "    }\n",
       "\n",
       "    .dataframe thead th {\n",
       "        text-align: right;\n",
       "    }\n",
       "</style>\n",
       "<table border=\"1\" class=\"dataframe\">\n",
       "  <thead>\n",
       "    <tr style=\"text-align: right;\">\n",
       "      <th></th>\n",
       "      <th>name</th>\n",
       "      <th>age</th>\n",
       "      <th>email</th>\n",
       "      <th>address</th>\n",
       "    </tr>\n",
       "  </thead>\n",
       "  <tbody>\n",
       "    <tr>\n",
       "      <th>0</th>\n",
       "      <td>홍길동</td>\n",
       "      <td>20</td>\n",
       "      <td>hong@hong.com</td>\n",
       "      <td>서울</td>\n",
       "    </tr>\n",
       "    <tr>\n",
       "      <th>1</th>\n",
       "      <td>김김김</td>\n",
       "      <td>25</td>\n",
       "      <td>kim@hong.com</td>\n",
       "      <td>경기</td>\n",
       "    </tr>\n",
       "    <tr>\n",
       "      <th>2</th>\n",
       "      <td>박길동</td>\n",
       "      <td>30</td>\n",
       "      <td>park@hong.com</td>\n",
       "      <td>제주</td>\n",
       "    </tr>\n",
       "  </tbody>\n",
       "</table>\n",
       "</div>"
      ],
      "text/plain": [
       "  name  age          email address\n",
       "0  홍길동   20  hong@hong.com      서울\n",
       "1  김김김   25   kim@hong.com      경기\n",
       "2  박길동   30  park@hong.com      제주"
      ]
     },
     "execution_count": 5,
     "metadata": {},
     "output_type": "execute_result"
    }
   ],
   "source": [
    "data = pd.read_json('data/ch10_member1.json', encoding = 'CP949') #티폴트가 UTF-8, readjson은 알아서 닫아줘서 close 불필요\n",
    "print(type(data))\n",
    "data"
   ]
  },
  {
   "cell_type": "code",
   "execution_count": 13,
   "id": "ff9c12b0-7cbb-4c5d-b8d4-8421697426e3",
   "metadata": {},
   "outputs": [
    {
     "data": {
      "text/html": [
       "<div>\n",
       "<style scoped>\n",
       "    .dataframe tbody tr th:only-of-type {\n",
       "        vertical-align: middle;\n",
       "    }\n",
       "\n",
       "    .dataframe tbody tr th {\n",
       "        vertical-align: top;\n",
       "    }\n",
       "\n",
       "    .dataframe thead th {\n",
       "        text-align: right;\n",
       "    }\n",
       "</style>\n",
       "<table border=\"1\" class=\"dataframe\">\n",
       "  <thead>\n",
       "    <tr style=\"text-align: right;\">\n",
       "      <th></th>\n",
       "      <th>name</th>\n",
       "      <th>age</th>\n",
       "      <th>email</th>\n",
       "      <th>address</th>\n",
       "    </tr>\n",
       "  </thead>\n",
       "  <tbody>\n",
       "    <tr>\n",
       "      <th>0</th>\n",
       "      <td>홍길동</td>\n",
       "      <td>20</td>\n",
       "      <td>hong@hong.com</td>\n",
       "      <td>서울</td>\n",
       "    </tr>\n",
       "    <tr>\n",
       "      <th>1</th>\n",
       "      <td>김김김</td>\n",
       "      <td>25</td>\n",
       "      <td>kim@hong.com</td>\n",
       "      <td>경기</td>\n",
       "    </tr>\n",
       "    <tr>\n",
       "      <th>2</th>\n",
       "      <td>박길동</td>\n",
       "      <td>30</td>\n",
       "      <td>park@hong.com</td>\n",
       "      <td>제주</td>\n",
       "    </tr>\n",
       "  </tbody>\n",
       "</table>\n",
       "</div>"
      ],
      "text/plain": [
       "  name  age          email address\n",
       "0  홍길동   20  hong@hong.com      서울\n",
       "1  김김김   25   kim@hong.com      경기\n",
       "2  박길동   30  park@hong.com      제주"
      ]
     },
     "execution_count": 13,
     "metadata": {},
     "output_type": "execute_result"
    }
   ],
   "source": [
    "data = pd.read_json(\"data/ch10_member2.json\",encoding='utf-8') #UTF-8로 Read\n",
    "data"
   ]
  },
  {
   "cell_type": "code",
   "execution_count": 9,
   "id": "838f58ef-d5b2-4ce1-943c-7f0802d0b98d",
   "metadata": {},
   "outputs": [],
   "source": [
    "member1 = pd.read_csv('data/ch09_member1.csv', header=None,names=['name','age','email','address'],encoding='utf-8')"
   ]
  },
  {
   "cell_type": "code",
   "execution_count": 10,
   "id": "60e25ffd-cbe7-445d-8eb8-707841c0c863",
   "metadata": {},
   "outputs": [
    {
     "data": {
      "text/html": [
       "<div>\n",
       "<style scoped>\n",
       "    .dataframe tbody tr th:only-of-type {\n",
       "        vertical-align: middle;\n",
       "    }\n",
       "\n",
       "    .dataframe tbody tr th {\n",
       "        vertical-align: top;\n",
       "    }\n",
       "\n",
       "    .dataframe thead th {\n",
       "        text-align: right;\n",
       "    }\n",
       "</style>\n",
       "<table border=\"1\" class=\"dataframe\">\n",
       "  <thead>\n",
       "    <tr style=\"text-align: right;\">\n",
       "      <th></th>\n",
       "      <th>name</th>\n",
       "      <th>age</th>\n",
       "      <th>email</th>\n",
       "      <th>address</th>\n",
       "    </tr>\n",
       "  </thead>\n",
       "  <tbody>\n",
       "    <tr>\n",
       "      <th>0</th>\n",
       "      <td>홍길동</td>\n",
       "      <td>20</td>\n",
       "      <td>hong@hong.com</td>\n",
       "      <td>서울시 강동구</td>\n",
       "    </tr>\n",
       "    <tr>\n",
       "      <th>1</th>\n",
       "      <td>박길서</td>\n",
       "      <td>33</td>\n",
       "      <td>park@hong.com</td>\n",
       "      <td>서울시 강서구</td>\n",
       "    </tr>\n",
       "    <tr>\n",
       "      <th>2</th>\n",
       "      <td>김길남</td>\n",
       "      <td>41</td>\n",
       "      <td>gil@hong.com</td>\n",
       "      <td>서울시 강남구</td>\n",
       "    </tr>\n",
       "    <tr>\n",
       "      <th>3</th>\n",
       "      <td>진성빈</td>\n",
       "      <td>22</td>\n",
       "      <td>jean@bean.com</td>\n",
       "      <td>서울시 강서구</td>\n",
       "    </tr>\n",
       "    <tr>\n",
       "      <th>4</th>\n",
       "      <td>신승빈</td>\n",
       "      <td>35</td>\n",
       "      <td>bean@bean.com</td>\n",
       "      <td>서울시 강북구</td>\n",
       "    </tr>\n",
       "  </tbody>\n",
       "</table>\n",
       "</div>"
      ],
      "text/plain": [
       "  name  age          email  address\n",
       "0  홍길동   20  hong@hong.com  서울시 강동구\n",
       "1  박길서   33  park@hong.com  서울시 강서구\n",
       "2  김길남   41   gil@hong.com  서울시 강남구\n",
       "3  진성빈   22  jean@bean.com  서울시 강서구\n",
       "4  신승빈   35  bean@bean.com  서울시 강북구"
      ]
     },
     "execution_count": 10,
     "metadata": {},
     "output_type": "execute_result"
    }
   ],
   "source": [
    "member1"
   ]
  },
  {
   "cell_type": "markdown",
   "id": "903eeac0-7831-4cae-b0f6-f9a03c19ceda",
   "metadata": {},
   "source": [
    "# 2절. 데이터프레임 만들기\n",
    "## 2.1 딕셔너리를 이용해서 데이터프레임 만들기"
   ]
  },
  {
   "cell_type": "code",
   "execution_count": 18,
   "id": "8ae5bcc7-4453-4012-87b8-8bac961e7abb",
   "metadata": {},
   "outputs": [
    {
     "data": {
      "text/html": [
       "<div>\n",
       "<style scoped>\n",
       "    .dataframe tbody tr th:only-of-type {\n",
       "        vertical-align: middle;\n",
       "    }\n",
       "\n",
       "    .dataframe tbody tr th {\n",
       "        vertical-align: top;\n",
       "    }\n",
       "\n",
       "    .dataframe thead th {\n",
       "        text-align: right;\n",
       "    }\n",
       "</style>\n",
       "<table border=\"1\" class=\"dataframe\">\n",
       "  <thead>\n",
       "    <tr style=\"text-align: right;\">\n",
       "      <th></th>\n",
       "      <th>name</th>\n",
       "      <th>age</th>\n",
       "    </tr>\n",
       "  </thead>\n",
       "  <tbody>\n",
       "    <tr>\n",
       "      <th>0</th>\n",
       "      <td>홍길동</td>\n",
       "      <td>20</td>\n",
       "    </tr>\n",
       "    <tr>\n",
       "      <th>1</th>\n",
       "      <td>신길동</td>\n",
       "      <td>30</td>\n",
       "    </tr>\n",
       "  </tbody>\n",
       "</table>\n",
       "</div>"
      ],
      "text/plain": [
       "  name  age\n",
       "0  홍길동   20\n",
       "1  신길동   30"
      ]
     },
     "execution_count": 18,
     "metadata": {},
     "output_type": "execute_result"
    }
   ],
   "source": [
    "d = {'name':['홍길동','신길동'],'age':[20,30]}\n",
    "df = pd.DataFrame(data=d)\n",
    "df"
   ]
  },
  {
   "cell_type": "markdown",
   "id": "b96bb4e0-b81e-4c7c-9592-87c2f41410f4",
   "metadata": {},
   "source": [
    "## 2.2 리스트를 이용해서 데이터프레임 만들기"
   ]
  },
  {
   "cell_type": "code",
   "execution_count": 19,
   "id": "da70401a-27e1-4f1c-8aff-522b662eecc3",
   "metadata": {},
   "outputs": [
    {
     "data": {
      "text/html": [
       "<div>\n",
       "<style scoped>\n",
       "    .dataframe tbody tr th:only-of-type {\n",
       "        vertical-align: middle;\n",
       "    }\n",
       "\n",
       "    .dataframe tbody tr th {\n",
       "        vertical-align: top;\n",
       "    }\n",
       "\n",
       "    .dataframe thead th {\n",
       "        text-align: right;\n",
       "    }\n",
       "</style>\n",
       "<table border=\"1\" class=\"dataframe\">\n",
       "  <thead>\n",
       "    <tr style=\"text-align: right;\">\n",
       "      <th></th>\n",
       "      <th>name</th>\n",
       "      <th>age</th>\n",
       "    </tr>\n",
       "  </thead>\n",
       "  <tbody>\n",
       "    <tr>\n",
       "      <th>0</th>\n",
       "      <td>홍길동</td>\n",
       "      <td>20</td>\n",
       "    </tr>\n",
       "    <tr>\n",
       "      <th>1</th>\n",
       "      <td>신길동</td>\n",
       "      <td>30</td>\n",
       "    </tr>\n",
       "  </tbody>\n",
       "</table>\n",
       "</div>"
      ],
      "text/plain": [
       "  name  age\n",
       "0  홍길동   20\n",
       "1  신길동   30"
      ]
     },
     "execution_count": 19,
     "metadata": {},
     "output_type": "execute_result"
    }
   ],
   "source": [
    "d = [{'name':'홍길동', 'age':20}, {'name':'신길동','age':30}]\n",
    "df = pd.DataFrame(data=d)\n",
    "df"
   ]
  },
  {
   "cell_type": "markdown",
   "id": "b38aa499-7891-44f1-a973-3e2fb9ecfc8f",
   "metadata": {},
   "source": [
    "## 2.3 read_csv()"
   ]
  },
  {
   "cell_type": "code",
   "execution_count": 20,
   "id": "0db14b5d-90ac-49d6-a385-2c5149a3302b",
   "metadata": {},
   "outputs": [],
   "source": [
    "df = pd.read_csv('data/전국 평균 평당 분양가격(2013년 9월부터 2015년 8월까지).csv',encoding='cp949')"
   ]
  },
  {
   "cell_type": "code",
   "execution_count": 25,
   "id": "e5cd3005-0403-402f-94d3-8bfaa89464dd",
   "metadata": {},
   "outputs": [
    {
     "data": {
      "text/plain": [
       "(17, 22)"
      ]
     },
     "execution_count": 25,
     "metadata": {},
     "output_type": "execute_result"
    }
   ],
   "source": [
    "df.shape #행과 열 출력"
   ]
  },
  {
   "cell_type": "code",
   "execution_count": 26,
   "id": "66739ca9-8f4e-4313-98be-6ef8f2313649",
   "metadata": {},
   "outputs": [
    {
     "data": {
      "text/html": [
       "<div>\n",
       "<style scoped>\n",
       "    .dataframe tbody tr th:only-of-type {\n",
       "        vertical-align: middle;\n",
       "    }\n",
       "\n",
       "    .dataframe tbody tr th {\n",
       "        vertical-align: top;\n",
       "    }\n",
       "\n",
       "    .dataframe thead th {\n",
       "        text-align: right;\n",
       "    }\n",
       "</style>\n",
       "<table border=\"1\" class=\"dataframe\">\n",
       "  <thead>\n",
       "    <tr style=\"text-align: right;\">\n",
       "      <th></th>\n",
       "      <th>지역</th>\n",
       "      <th>2013년12월</th>\n",
       "      <th>2014년1월</th>\n",
       "      <th>2014년2월</th>\n",
       "      <th>2014년3월</th>\n",
       "      <th>2014년4월</th>\n",
       "      <th>2014년5월</th>\n",
       "      <th>2014년6월</th>\n",
       "      <th>2014년7월</th>\n",
       "      <th>2014년8월</th>\n",
       "      <th>...</th>\n",
       "      <th>2014년11월</th>\n",
       "      <th>2014년12월</th>\n",
       "      <th>2015년1월</th>\n",
       "      <th>2015년2월</th>\n",
       "      <th>2015년3월</th>\n",
       "      <th>2015년4월</th>\n",
       "      <th>2015년5월</th>\n",
       "      <th>2015년6월</th>\n",
       "      <th>2015년7월</th>\n",
       "      <th>2015년8월</th>\n",
       "    </tr>\n",
       "  </thead>\n",
       "  <tbody>\n",
       "    <tr>\n",
       "      <th>0</th>\n",
       "      <td>서울</td>\n",
       "      <td>18189</td>\n",
       "      <td>17925</td>\n",
       "      <td>17925</td>\n",
       "      <td>18016</td>\n",
       "      <td>18098</td>\n",
       "      <td>19446</td>\n",
       "      <td>18867</td>\n",
       "      <td>18742</td>\n",
       "      <td>19274</td>\n",
       "      <td>...</td>\n",
       "      <td>20242</td>\n",
       "      <td>20269</td>\n",
       "      <td>20670</td>\n",
       "      <td>20670</td>\n",
       "      <td>19415</td>\n",
       "      <td>18842</td>\n",
       "      <td>18367</td>\n",
       "      <td>18374</td>\n",
       "      <td>18152</td>\n",
       "      <td>18443</td>\n",
       "    </tr>\n",
       "    <tr>\n",
       "      <th>1</th>\n",
       "      <td>부산</td>\n",
       "      <td>8111</td>\n",
       "      <td>8111</td>\n",
       "      <td>9078</td>\n",
       "      <td>8965</td>\n",
       "      <td>9402</td>\n",
       "      <td>9501</td>\n",
       "      <td>9453</td>\n",
       "      <td>9457</td>\n",
       "      <td>9411</td>\n",
       "      <td>...</td>\n",
       "      <td>9208</td>\n",
       "      <td>9208</td>\n",
       "      <td>9204</td>\n",
       "      <td>9235</td>\n",
       "      <td>9279</td>\n",
       "      <td>9327</td>\n",
       "      <td>9345</td>\n",
       "      <td>9515</td>\n",
       "      <td>9559</td>\n",
       "      <td>9581</td>\n",
       "    </tr>\n",
       "  </tbody>\n",
       "</table>\n",
       "<p>2 rows × 22 columns</p>\n",
       "</div>"
      ],
      "text/plain": [
       "   지역  2013년12월  2014년1월  2014년2월  2014년3월  2014년4월  2014년5월  2014년6월  \\\n",
       "0  서울     18189    17925    17925    18016    18098    19446    18867   \n",
       "1  부산      8111     8111     9078     8965     9402     9501     9453   \n",
       "\n",
       "   2014년7월  2014년8월  ...  2014년11월  2014년12월  2015년1월  2015년2월  2015년3월  \\\n",
       "0    18742    19274  ...     20242     20269    20670    20670    19415   \n",
       "1     9457     9411  ...      9208      9208     9204     9235     9279   \n",
       "\n",
       "   2015년4월  2015년5월  2015년6월  2015년7월  2015년8월  \n",
       "0    18842    18367    18374    18152    18443  \n",
       "1     9327     9345     9515     9559     9581  \n",
       "\n",
       "[2 rows x 22 columns]"
      ]
     },
     "execution_count": 26,
     "metadata": {},
     "output_type": "execute_result"
    }
   ],
   "source": [
    "df.head(2) #상위 2줄"
   ]
  },
  {
   "cell_type": "code",
   "execution_count": 29,
   "id": "d3b60177-cfd2-4a85-be23-ef4715640dc4",
   "metadata": {},
   "outputs": [],
   "source": [
    "pd.options.display.max_columns #최대 데이터 프레임의 표현될 수 있는 columns, 22개중 20개밖에 출력안됨..\n",
    "pd.options.display.max_columns=22 #바꿔줄수있음"
   ]
  },
  {
   "cell_type": "code",
   "execution_count": 31,
   "id": "97481594-4a49-436a-b86e-94b4706fb552",
   "metadata": {},
   "outputs": [
    {
     "data": {
      "text/html": [
       "<div>\n",
       "<style scoped>\n",
       "    .dataframe tbody tr th:only-of-type {\n",
       "        vertical-align: middle;\n",
       "    }\n",
       "\n",
       "    .dataframe tbody tr th {\n",
       "        vertical-align: top;\n",
       "    }\n",
       "\n",
       "    .dataframe thead th {\n",
       "        text-align: right;\n",
       "    }\n",
       "</style>\n",
       "<table border=\"1\" class=\"dataframe\">\n",
       "  <thead>\n",
       "    <tr style=\"text-align: right;\">\n",
       "      <th></th>\n",
       "      <th>지역</th>\n",
       "      <th>2013년12월</th>\n",
       "      <th>2014년1월</th>\n",
       "      <th>2014년2월</th>\n",
       "      <th>2014년3월</th>\n",
       "      <th>2014년4월</th>\n",
       "      <th>2014년5월</th>\n",
       "      <th>2014년6월</th>\n",
       "      <th>2014년7월</th>\n",
       "      <th>2014년8월</th>\n",
       "      <th>2014년9월</th>\n",
       "      <th>2014년10월</th>\n",
       "      <th>2014년11월</th>\n",
       "      <th>2014년12월</th>\n",
       "      <th>2015년1월</th>\n",
       "      <th>2015년2월</th>\n",
       "      <th>2015년3월</th>\n",
       "      <th>2015년4월</th>\n",
       "      <th>2015년5월</th>\n",
       "      <th>2015년6월</th>\n",
       "      <th>2015년7월</th>\n",
       "      <th>2015년8월</th>\n",
       "    </tr>\n",
       "  </thead>\n",
       "  <tbody>\n",
       "    <tr>\n",
       "      <th>11</th>\n",
       "      <td>충남</td>\n",
       "      <td>6365</td>\n",
       "      <td>6365</td>\n",
       "      <td>6379</td>\n",
       "      <td>6287</td>\n",
       "      <td>6552</td>\n",
       "      <td>6591</td>\n",
       "      <td>6644</td>\n",
       "      <td>6805</td>\n",
       "      <td>6914</td>\n",
       "      <td>6882</td>\n",
       "      <td>6831</td>\n",
       "      <td>6940</td>\n",
       "      <td>6989</td>\n",
       "      <td>6976</td>\n",
       "      <td>6980</td>\n",
       "      <td>7161</td>\n",
       "      <td>7017</td>\n",
       "      <td>6975</td>\n",
       "      <td>6939</td>\n",
       "      <td>6935</td>\n",
       "      <td>6942</td>\n",
       "    </tr>\n",
       "  </tbody>\n",
       "</table>\n",
       "</div>"
      ],
      "text/plain": [
       "    지역  2013년12월  2014년1월  2014년2월  2014년3월  2014년4월  2014년5월  2014년6월  \\\n",
       "11  충남      6365     6365     6379     6287     6552     6591     6644   \n",
       "\n",
       "    2014년7월  2014년8월  2014년9월  2014년10월  2014년11월  2014년12월  2015년1월  2015년2월  \\\n",
       "11     6805     6914     6882      6831      6940      6989     6976     6980   \n",
       "\n",
       "    2015년3월  2015년4월  2015년5월  2015년6월  2015년7월  2015년8월  \n",
       "11     7161     7017     6975     6939     6935     6942  "
      ]
     },
     "execution_count": 31,
     "metadata": {},
     "output_type": "execute_result"
    }
   ],
   "source": [
    "df.sample() #이제 다 보임"
   ]
  },
  {
   "cell_type": "markdown",
   "id": "1aa89904-5c40-4b16-a915-481e3098d5b3",
   "metadata": {},
   "source": [
    "## 2.4 sklearn, statsmodels, searborn 등의 라이브러리에서 데이터프레임 불러오기"
   ]
  },
  {
   "cell_type": "code",
   "execution_count": 32,
   "id": "412a874d-56a7-46e0-b654-1f510c209abf",
   "metadata": {},
   "outputs": [
    {
     "ename": "ModuleNotFoundError",
     "evalue": "No module named 'statsmodels'",
     "output_type": "error",
     "traceback": [
      "\u001b[1;31m---------------------------------------------------------------------------\u001b[0m",
      "\u001b[1;31mModuleNotFoundError\u001b[0m                       Traceback (most recent call last)",
      "Cell \u001b[1;32mIn[32], line 1\u001b[0m\n\u001b[1;32m----> 1\u001b[0m \u001b[38;5;28;01mimport\u001b[39;00m \u001b[38;5;21;01mstatsmodels\u001b[39;00m\u001b[38;5;21;01m.\u001b[39;00m\u001b[38;5;21;01mapi\u001b[39;00m \u001b[38;5;28;01mas\u001b[39;00m \u001b[38;5;21;01msm\u001b[39;00m\n\u001b[0;32m      2\u001b[0m iris \u001b[38;5;241m=\u001b[39m sm\u001b[38;5;241m.\u001b[39mdatasets\u001b[38;5;241m.\u001b[39mget_rdataset(\u001b[38;5;124m\"\u001b[39m\u001b[38;5;124miris\u001b[39m\u001b[38;5;124m\"\u001b[39m, package \u001b[38;5;241m=\u001b[39m \u001b[38;5;124m\"\u001b[39m\u001b[38;5;124mdatasets\u001b[39m\u001b[38;5;124m\"\u001b[39m)\u001b[38;5;241m.\u001b[39mdata\n\u001b[0;32m      3\u001b[0m iris\n",
      "\u001b[1;31mModuleNotFoundError\u001b[0m: No module named 'statsmodels'"
     ]
    }
   ],
   "source": [
    "import statsmodels.api as sm\n",
    "iris = sm.datasets.get_rdataset(\"iris\", package = \"datasets\").data\n",
    "iris"
   ]
  },
  {
   "cell_type": "code",
   "execution_count": 33,
   "id": "16d0535c-bc3b-468f-b6a6-3f55abbb34bb",
   "metadata": {},
   "outputs": [
    {
     "name": "stdout",
     "output_type": "stream",
     "text": [
      "Collecting statsmodels\n",
      "  Downloading statsmodels-0.14.2-cp312-cp312-win_amd64.whl.metadata (9.5 kB)\n",
      "Requirement already satisfied: numpy>=1.22.3 in c:\\users\\user\\.conda\\envs\\notebook\\lib\\site-packages (from statsmodels) (1.26.4)\n",
      "Collecting scipy!=1.9.2,>=1.8 (from statsmodels)\n",
      "  Downloading scipy-1.13.1-cp312-cp312-win_amd64.whl.metadata (60 kB)\n",
      "     ---------------------------------------- 0.0/60.6 kB ? eta -:--:--\n",
      "     ------ --------------------------------- 10.2/60.6 kB ? eta -:--:--\n",
      "     ---------------------------------------- 60.6/60.6 kB 1.1 MB/s eta 0:00:00\n",
      "Requirement already satisfied: pandas!=2.1.0,>=1.4 in c:\\users\\user\\.conda\\envs\\notebook\\lib\\site-packages (from statsmodels) (2.2.2)\n",
      "Collecting patsy>=0.5.6 (from statsmodels)\n",
      "  Downloading patsy-0.5.6-py2.py3-none-any.whl.metadata (3.5 kB)\n",
      "Requirement already satisfied: packaging>=21.3 in c:\\users\\user\\.conda\\envs\\notebook\\lib\\site-packages (from statsmodels) (23.2)\n",
      "Requirement already satisfied: python-dateutil>=2.8.2 in c:\\users\\user\\.conda\\envs\\notebook\\lib\\site-packages (from pandas!=2.1.0,>=1.4->statsmodels) (2.9.0.post0)\n",
      "Requirement already satisfied: pytz>=2020.1 in c:\\users\\user\\.conda\\envs\\notebook\\lib\\site-packages (from pandas!=2.1.0,>=1.4->statsmodels) (2024.1)\n",
      "Requirement already satisfied: tzdata>=2022.7 in c:\\users\\user\\.conda\\envs\\notebook\\lib\\site-packages (from pandas!=2.1.0,>=1.4->statsmodels) (2024.1)\n",
      "Requirement already satisfied: six in c:\\users\\user\\.conda\\envs\\notebook\\lib\\site-packages (from patsy>=0.5.6->statsmodels) (1.16.0)\n",
      "Downloading statsmodels-0.14.2-cp312-cp312-win_amd64.whl (9.8 MB)\n",
      "   ---------------------------------------- 0.0/9.8 MB ? eta -:--:--\n",
      "   -- ------------------------------------- 0.5/9.8 MB 16.3 MB/s eta 0:00:01\n",
      "   ------ --------------------------------- 1.6/9.8 MB 20.2 MB/s eta 0:00:01\n",
      "   ----------- ---------------------------- 2.8/9.8 MB 22.5 MB/s eta 0:00:01\n",
      "   ------------------ --------------------- 4.5/9.8 MB 25.9 MB/s eta 0:00:01\n",
      "   ------------------------- -------------- 6.3/9.8 MB 28.5 MB/s eta 0:00:01\n",
      "   ----------------------------- ---------- 7.2/9.8 MB 27.1 MB/s eta 0:00:01\n",
      "   --------------------------------- ------ 8.3/9.8 MB 26.4 MB/s eta 0:00:01\n",
      "   ------------------------------------- -- 9.2/9.8 MB 25.4 MB/s eta 0:00:01\n",
      "   ---------------------------------------- 9.8/9.8 MB 25.1 MB/s eta 0:00:00\n",
      "Downloading patsy-0.5.6-py2.py3-none-any.whl (233 kB)\n",
      "   ---------------------------------------- 0.0/233.9 kB ? eta -:--:--\n",
      "   --------------------------------------- 233.9/233.9 kB 14.0 MB/s eta 0:00:00\n",
      "Downloading scipy-1.13.1-cp312-cp312-win_amd64.whl (45.9 MB)\n",
      "   ---------------------------------------- 0.0/45.9 MB ? eta -:--:--\n",
      "   ---------------------------------------- 0.1/45.9 MB 3.6 MB/s eta 0:00:13\n",
      "   ---------------------------------------- 0.3/45.9 MB 3.1 MB/s eta 0:00:15\n",
      "    --------------------------------------- 0.6/45.9 MB 4.2 MB/s eta 0:00:11\n",
      "    --------------------------------------- 1.0/45.9 MB 5.5 MB/s eta 0:00:09\n",
      "   - -------------------------------------- 1.8/45.9 MB 7.9 MB/s eta 0:00:06\n",
      "   - -------------------------------------- 1.9/45.9 MB 6.8 MB/s eta 0:00:07\n",
      "   - -------------------------------------- 2.2/45.9 MB 7.5 MB/s eta 0:00:06\n",
      "   --- ------------------------------------ 4.4/45.9 MB 11.8 MB/s eta 0:00:04\n",
      "   ---- ----------------------------------- 5.3/45.9 MB 12.9 MB/s eta 0:00:04\n",
      "   ----- ---------------------------------- 6.6/45.9 MB 14.0 MB/s eta 0:00:03\n",
      "   ------ --------------------------------- 7.4/45.9 MB 14.8 MB/s eta 0:00:03\n",
      "   -------- ------------------------------- 9.4/45.9 MB 16.7 MB/s eta 0:00:03\n",
      "   --------- ------------------------------ 11.1/45.9 MB 24.2 MB/s eta 0:00:02\n",
      "   ---------- ----------------------------- 12.6/45.9 MB 34.4 MB/s eta 0:00:01\n",
      "   ------------ --------------------------- 14.1/45.9 MB 31.2 MB/s eta 0:00:02\n",
      "   ------------- -------------------------- 15.4/45.9 MB 29.7 MB/s eta 0:00:02\n",
      "   -------------- ------------------------- 16.2/45.9 MB 29.7 MB/s eta 0:00:01\n",
      "   -------------- ------------------------- 16.9/45.9 MB 29.7 MB/s eta 0:00:01\n",
      "   --------------- ------------------------ 18.1/45.9 MB 28.5 MB/s eta 0:00:01\n",
      "   ---------------- ----------------------- 18.9/45.9 MB 25.2 MB/s eta 0:00:02\n",
      "   ---------------- ----------------------- 19.5/45.9 MB 25.1 MB/s eta 0:00:02\n",
      "   ------------------ --------------------- 20.8/45.9 MB 23.4 MB/s eta 0:00:02\n",
      "   ------------------ --------------------- 21.6/45.9 MB 22.6 MB/s eta 0:00:02\n",
      "   -------------------- ------------------- 23.0/45.9 MB 22.6 MB/s eta 0:00:02\n",
      "   -------------------- ------------------- 23.8/45.9 MB 21.1 MB/s eta 0:00:02\n",
      "   --------------------- ------------------ 25.0/45.9 MB 21.8 MB/s eta 0:00:01\n",
      "   ---------------------- ----------------- 26.0/45.9 MB 21.8 MB/s eta 0:00:01\n",
      "   ----------------------- ---------------- 26.7/45.9 MB 21.1 MB/s eta 0:00:01\n",
      "   ----------------------- ---------------- 26.7/45.9 MB 21.1 MB/s eta 0:00:01\n",
      "   ----------------------- ---------------- 27.3/45.9 MB 18.7 MB/s eta 0:00:01\n",
      "   ------------------------ --------------- 28.1/45.9 MB 18.2 MB/s eta 0:00:01\n",
      "   ------------------------- -------------- 29.0/45.9 MB 18.2 MB/s eta 0:00:01\n",
      "   -------------------------- ------------- 30.2/45.9 MB 19.3 MB/s eta 0:00:01\n",
      "   --------------------------- ------------ 31.0/45.9 MB 18.7 MB/s eta 0:00:01\n",
      "   --------------------------- ------------ 32.0/45.9 MB 19.8 MB/s eta 0:00:01\n",
      "   ---------------------------- ----------- 33.1/45.9 MB 18.7 MB/s eta 0:00:01\n",
      "   ----------------------------- ---------- 34.2/45.9 MB 18.7 MB/s eta 0:00:01\n",
      "   ------------------------------ --------- 34.9/45.9 MB 18.2 MB/s eta 0:00:01\n",
      "   ------------------------------- -------- 36.0/45.9 MB 18.7 MB/s eta 0:00:01\n",
      "   -------------------------------- ------- 36.8/45.9 MB 17.7 MB/s eta 0:00:01\n",
      "   --------------------------------- ------ 38.1/45.9 MB 21.8 MB/s eta 0:00:01\n",
      "   ---------------------------------- ----- 39.3/45.9 MB 23.4 MB/s eta 0:00:01\n",
      "   ---------------------------------- ----- 39.6/45.9 MB 21.8 MB/s eta 0:00:01\n",
      "   ----------------------------------- ---- 40.6/45.9 MB 20.5 MB/s eta 0:00:01\n",
      "   ----------------------------------- ---- 41.0/45.9 MB 19.8 MB/s eta 0:00:01\n",
      "   ------------------------------------- -- 42.6/45.9 MB 21.1 MB/s eta 0:00:01\n",
      "   ------------------------------------- -- 43.0/45.9 MB 19.9 MB/s eta 0:00:01\n",
      "   ---------------------------------------  45.2/45.9 MB 22.6 MB/s eta 0:00:01\n",
      "   ---------------------------------------  45.9/45.9 MB 22.6 MB/s eta 0:00:01\n",
      "   ---------------------------------------  45.9/45.9 MB 22.6 MB/s eta 0:00:01\n",
      "   ---------------------------------------- 45.9/45.9 MB 18.7 MB/s eta 0:00:00\n",
      "Installing collected packages: scipy, patsy, statsmodels\n",
      "Successfully installed patsy-0.5.6 scipy-1.13.1 statsmodels-0.14.2\n",
      "Note: you may need to restart the kernel to use updated packages.\n"
     ]
    }
   ],
   "source": [
    "pip install statsmodels"
   ]
  },
  {
   "cell_type": "code",
   "execution_count": null,
   "id": "b4a53fb7-7eba-46a1-be0e-0d494bceee8e",
   "metadata": {},
   "outputs": [],
   "source": []
  }
 ],
 "metadata": {
  "kernelspec": {
   "display_name": "Python 3 (ipykernel)",
   "language": "python",
   "name": "python3"
  },
  "language_info": {
   "codemirror_mode": {
    "name": "ipython",
    "version": 3
   },
   "file_extension": ".py",
   "mimetype": "text/x-python",
   "name": "python",
   "nbconvert_exporter": "python",
   "pygments_lexer": "ipython3",
   "version": "3.12.3"
  }
 },
 "nbformat": 4,
 "nbformat_minor": 5
}
