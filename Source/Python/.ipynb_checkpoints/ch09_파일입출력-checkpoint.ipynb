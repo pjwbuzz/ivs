{
 "cells": [
  {
   "cell_type": "markdown",
   "id": "3e3de70c-7c17-4b3c-a451-54c703546d09",
   "metadata": {},
   "source": [
    "# <font color=\"#9932CC\" size=\"10\"><b>ch09. 파일입출력</b></font>"
   ]
  },
  {
   "cell_type": "markdown",
   "id": "edf7d3d1-0d3a-46c5-b0f2-1cdb2e6ea64f",
   "metadata": {},
   "source": [
    "# 1절. 파일에 데이터를 저장하고 불러오기"
   ]
  },
  {
   "cell_type": "code",
   "execution_count": 4,
   "id": "3e79da57-bacc-49f1-86c0-d41b9beb399b",
   "metadata": {},
   "outputs": [
    {
     "name": "stdout",
     "output_type": "stream",
     "text": [
      "True\n"
     ]
    }
   ],
   "source": [
    "# w: 있는 파일은 기존의 파일에 덮어쓰고 없는 파일은 생성 (쓰기전용)\n",
    "# a: 있는 파일은 추가/ 없는 파일은 생성 (쓰기전용)\n",
    "# r: 읽기 전용\n",
    "f = open('data/ch09.txt', 'w') #encoding 기본값 cp949\n",
    "print(f.writable())\n"
   ]
  },
  {
   "cell_type": "code",
   "execution_count": 2,
   "id": "aecc3bea-ad08-4f8e-b760-1be9ae2b3904",
   "metadata": {},
   "outputs": [
    {
     "data": {
      "text/plain": [
       "25"
      ]
     },
     "execution_count": 2,
     "metadata": {},
     "output_type": "execute_result"
    }
   ],
   "source": [
    "f.write('Hello\\nWorld\\nHello\\nPython\\n반갑습니다.')  #한글은 cp949, utf-8원하면 파일 열때 utf-8로 열었어야함"
   ]
  },
  {
   "cell_type": "code",
   "execution_count": 6,
   "id": "dd91c846-4b2e-47a9-86e6-7b413e4a52ba",
   "metadata": {},
   "outputs": [],
   "source": [
    "f.close() #close 안하면 write 해도 안보임"
   ]
  },
  {
   "cell_type": "code",
   "execution_count": 7,
   "id": "8adca891-be17-4010-af58-dbe9afcadd88",
   "metadata": {},
   "outputs": [
    {
     "name": "stdout",
     "output_type": "stream",
     "text": [
      "['Hello\\n', 'World\\n', 'Hello\\n', 'Python\\n']\n"
     ]
    }
   ],
   "source": [
    "with open('data/ch09.txt','r') as f: #f는 with절에서만 쓸 수 있는 지역변수임\n",
    "    data = f.readlines()\n",
    "    print(data)"
   ]
  },
  {
   "cell_type": "code",
   "execution_count": 8,
   "id": "d85c4446-7c4e-4945-81b4-34c4cded3786",
   "metadata": {},
   "outputs": [],
   "source": [
    "with open('data/ch09.txt', 'w') as f:\n",
    "    print('python is easy\\n', file=f) #file 키워드 인수 사용시, 화면에 출력"
   ]
  },
  {
   "cell_type": "code",
   "execution_count": 12,
   "id": "1027cd4b-de05-4b6b-8105-673d2b6ca478",
   "metadata": {},
   "outputs": [
    {
     "name": "stdout",
     "output_type": "stream",
     "text": [
      "홍길동,20,hong@hong.com,서울시 강동구\n",
      "\n",
      "박길서,33,park@hong.com,서울시 강서구\n",
      "\n",
      "김길남,41,gil@hong.com,서울시 강남구\n",
      "\n",
      "진성빈,22,jean@bean.com,서울시 강서구\n",
      "\n",
      "신승빈,35,bean@bean.com,서울시 강북구\n",
      "\n"
     ]
    }
   ],
   "source": [
    "# UTF-8로 인코딩 된 CSV파일을 read\n",
    "with open('data/ch09_member1.csv','r',encoding='utf-8') as f:\n",
    "    data = f.readlines()\n",
    "    for row in data:\n",
    "        print(row)  #이렇게 말고 엑셀처럼 list나 dict타입으로 받으면 좋을듯"
   ]
  },
  {
   "cell_type": "code",
   "execution_count": 13,
   "id": "10a198a6-6075-4fca-ab60-ef43c2ecc4c6",
   "metadata": {},
   "outputs": [
    {
     "name": "stderr",
     "output_type": "stream",
     "text": [
      "<>:2: SyntaxWarning: invalid escape sequence '\\c'\n",
      "<>:2: SyntaxWarning: invalid escape sequence '\\c'\n",
      "C:\\Users\\USER\\AppData\\Local\\Temp\\ipykernel_3248\\3963450043.py:2: SyntaxWarning: invalid escape sequence '\\c'\n",
      "  member1 = pd.read_csv('data\\ch09_member1.csv')\n",
      "C:\\Users\\USER\\AppData\\Local\\Temp\\ipykernel_3248\\3963450043.py:2: SyntaxWarning: invalid escape sequence '\\c'\n",
      "  member1 = pd.read_csv('data\\ch09_member1.csv')\n"
     ]
    },
    {
     "ename": "ModuleNotFoundError",
     "evalue": "No module named 'pandas'",
     "output_type": "error",
     "traceback": [
      "\u001b[1;31m---------------------------------------------------------------------------\u001b[0m",
      "\u001b[1;31mModuleNotFoundError\u001b[0m                       Traceback (most recent call last)",
      "Cell \u001b[1;32mIn[13], line 1\u001b[0m\n\u001b[1;32m----> 1\u001b[0m \u001b[38;5;28;01mimport\u001b[39;00m \u001b[38;5;21;01mpandas\u001b[39;00m \u001b[38;5;28;01mas\u001b[39;00m \u001b[38;5;21;01mpd\u001b[39;00m\n\u001b[0;32m      2\u001b[0m member1 \u001b[38;5;241m=\u001b[39m pd\u001b[38;5;241m.\u001b[39mread_csv(\u001b[38;5;124m'\u001b[39m\u001b[38;5;124mdata\u001b[39m\u001b[38;5;124m\\\u001b[39m\u001b[38;5;124mch09_member1.csv\u001b[39m\u001b[38;5;124m'\u001b[39m)\n",
      "\u001b[1;31mModuleNotFoundError\u001b[0m: No module named 'pandas'"
     ]
    }
   ],
   "source": [
    "import pandas as pd\n",
    "member1 = pd.read_csv('data\\ch09_member1.csv')"
   ]
  },
  {
   "cell_type": "code",
   "execution_count": 14,
   "id": "b117f057-10bb-4f75-a3c8-6cc988dc44e7",
   "metadata": {},
   "outputs": [
    {
     "name": "stdout",
     "output_type": "stream",
     "text": [
      "Collecting pygwalker\n",
      "  Downloading pygwalker-0.4.8.9-py3-none-any.whl.metadata (19 kB)\n",
      "Collecting appdirs (from pygwalker)\n",
      "  Downloading appdirs-1.4.4-py2.py3-none-any.whl.metadata (9.0 kB)\n",
      "Collecting arrow (from pygwalker)\n",
      "  Downloading arrow-1.3.0-py3-none-any.whl.metadata (7.5 kB)\n",
      "Collecting astor (from pygwalker)\n",
      "  Downloading astor-0.8.1-py2.py3-none-any.whl.metadata (4.2 kB)\n",
      "Collecting cachetools (from pygwalker)\n",
      "  Downloading cachetools-5.3.3-py3-none-any.whl.metadata (5.3 kB)\n",
      "Collecting duckdb<0.11.0,>=0.10.1 (from pygwalker)\n",
      "  Downloading duckdb-0.10.3-cp312-cp312-win_amd64.whl.metadata (782 bytes)\n",
      "Collecting gw-dsl-parser==0.1.49 (from pygwalker)\n",
      "  Downloading gw_dsl_parser-0.1.49-py3-none-any.whl.metadata (1.2 kB)\n",
      "Requirement already satisfied: ipython in c:\\users\\user\\.conda\\envs\\notebook\\lib\\site-packages (from pygwalker) (8.20.0)\n",
      "Collecting ipywidgets (from pygwalker)\n",
      "  Downloading ipywidgets-8.1.3-py3-none-any.whl.metadata (2.4 kB)\n",
      "Requirement already satisfied: jinja2 in c:\\users\\user\\.conda\\envs\\notebook\\lib\\site-packages (from pygwalker) (3.1.4)\n",
      "Collecting kanaries-track==0.0.5 (from pygwalker)\n",
      "  Downloading kanaries_track-0.0.5-py3-none-any.whl.metadata (913 bytes)\n",
      "Requirement already satisfied: packaging in c:\\users\\user\\.conda\\envs\\notebook\\lib\\site-packages (from pygwalker) (23.2)\n",
      "Collecting pandas (from pygwalker)\n",
      "  Downloading pandas-2.2.2-cp312-cp312-win_amd64.whl.metadata (19 kB)\n",
      "Requirement already satisfied: psutil in c:\\users\\user\\.conda\\envs\\notebook\\lib\\site-packages (from pygwalker) (5.9.0)\n",
      "Collecting pyarrow (from pygwalker)\n",
      "  Downloading pyarrow-16.1.0-cp312-cp312-win_amd64.whl.metadata (3.1 kB)\n",
      "Collecting pydantic (from pygwalker)\n",
      "  Downloading pydantic-2.7.2-py3-none-any.whl.metadata (108 kB)\n",
      "     ---------------------------------------- 0.0/108.5 kB ? eta -:--:--\n",
      "     -------------------------------------- 108.5/108.5 kB 6.1 MB/s eta 0:00:00\n",
      "Requirement already satisfied: pytz in c:\\users\\user\\.conda\\envs\\notebook\\lib\\site-packages (from pygwalker) (2024.1)\n",
      "Requirement already satisfied: requests in c:\\users\\user\\.conda\\envs\\notebook\\lib\\site-packages (from pygwalker) (2.32.2)\n",
      "Collecting segment-analytics-python==2.2.3 (from pygwalker)\n",
      "  Downloading segment_analytics_python-2.2.3-py2.py3-none-any.whl.metadata (1.6 kB)\n",
      "Collecting sqlalchemy (from pygwalker)\n",
      "  Downloading SQLAlchemy-2.0.30-cp312-cp312-win_amd64.whl.metadata (9.8 kB)\n",
      "Collecting sqlglot>=23.15.8 (from pygwalker)\n",
      "  Downloading sqlglot-24.1.0-py3-none-any.whl.metadata (19 kB)\n",
      "Requirement already satisfied: typing-extensions in c:\\users\\user\\.conda\\envs\\notebook\\lib\\site-packages (from pygwalker) (4.11.0)\n",
      "Collecting wasmtime>=12.0.0 (from gw-dsl-parser==0.1.49->pygwalker)\n",
      "  Downloading wasmtime-21.0.0-py3-none-win_amd64.whl.metadata (7.4 kB)\n",
      "Collecting backoff>=2.2.1 (from kanaries-track==0.0.5->pygwalker)\n",
      "  Downloading backoff-2.2.1-py3-none-any.whl.metadata (14 kB)\n",
      "Collecting dateutils>=0.6.12 (from kanaries-track==0.0.5->pygwalker)\n",
      "  Downloading dateutils-0.6.12-py2.py3-none-any.whl.metadata (1.3 kB)\n",
      "Collecting monotonic~=1.5 (from segment-analytics-python==2.2.3->pygwalker)\n",
      "  Downloading monotonic-1.6-py2.py3-none-any.whl.metadata (1.5 kB)\n",
      "Requirement already satisfied: python-dateutil~=2.2 in c:\\users\\user\\.conda\\envs\\notebook\\lib\\site-packages (from segment-analytics-python==2.2.3->pygwalker) (2.9.0.post0)\n",
      "Requirement already satisfied: charset-normalizer<4,>=2 in c:\\users\\user\\.conda\\envs\\notebook\\lib\\site-packages (from requests->pygwalker) (2.0.4)\n",
      "Requirement already satisfied: idna<4,>=2.5 in c:\\users\\user\\.conda\\envs\\notebook\\lib\\site-packages (from requests->pygwalker) (3.7)\n",
      "Requirement already satisfied: urllib3<3,>=1.21.1 in c:\\users\\user\\.conda\\envs\\notebook\\lib\\site-packages (from requests->pygwalker) (2.2.1)\n",
      "Requirement already satisfied: certifi>=2017.4.17 in c:\\users\\user\\.conda\\envs\\notebook\\lib\\site-packages (from requests->pygwalker) (2024.2.2)\n",
      "Collecting types-python-dateutil>=2.8.10 (from arrow->pygwalker)\n",
      "  Downloading types_python_dateutil-2.9.0.20240316-py3-none-any.whl.metadata (1.8 kB)\n",
      "Requirement already satisfied: decorator in c:\\users\\user\\.conda\\envs\\notebook\\lib\\site-packages (from ipython->pygwalker) (5.1.1)\n",
      "Requirement already satisfied: jedi>=0.16 in c:\\users\\user\\.conda\\envs\\notebook\\lib\\site-packages (from ipython->pygwalker) (0.18.1)\n",
      "Requirement already satisfied: matplotlib-inline in c:\\users\\user\\.conda\\envs\\notebook\\lib\\site-packages (from ipython->pygwalker) (0.1.6)\n",
      "Requirement already satisfied: prompt-toolkit<3.1.0,>=3.0.41 in c:\\users\\user\\.conda\\envs\\notebook\\lib\\site-packages (from ipython->pygwalker) (3.0.43)\n",
      "Requirement already satisfied: pygments>=2.4.0 in c:\\users\\user\\.conda\\envs\\notebook\\lib\\site-packages (from ipython->pygwalker) (2.15.1)\n",
      "Requirement already satisfied: stack-data in c:\\users\\user\\.conda\\envs\\notebook\\lib\\site-packages (from ipython->pygwalker) (0.2.0)\n",
      "Requirement already satisfied: traitlets>=5 in c:\\users\\user\\.conda\\envs\\notebook\\lib\\site-packages (from ipython->pygwalker) (5.7.1)\n",
      "Requirement already satisfied: colorama in c:\\users\\user\\.conda\\envs\\notebook\\lib\\site-packages (from ipython->pygwalker) (0.4.6)\n",
      "Requirement already satisfied: comm>=0.1.3 in c:\\users\\user\\.conda\\envs\\notebook\\lib\\site-packages (from ipywidgets->pygwalker) (0.2.1)\n",
      "Collecting widgetsnbextension~=4.0.11 (from ipywidgets->pygwalker)\n",
      "  Downloading widgetsnbextension-4.0.11-py3-none-any.whl.metadata (1.6 kB)\n",
      "Collecting jupyterlab-widgets~=3.0.11 (from ipywidgets->pygwalker)\n",
      "  Downloading jupyterlab_widgets-3.0.11-py3-none-any.whl.metadata (4.1 kB)\n",
      "Requirement already satisfied: MarkupSafe>=2.0 in c:\\users\\user\\.conda\\envs\\notebook\\lib\\site-packages (from jinja2->pygwalker) (2.1.3)\n",
      "Requirement already satisfied: numpy>=1.26.0 in c:\\users\\user\\.conda\\envs\\notebook\\lib\\site-packages (from pandas->pygwalker) (1.26.4)\n",
      "Collecting tzdata>=2022.7 (from pandas->pygwalker)\n",
      "  Downloading tzdata-2024.1-py2.py3-none-any.whl.metadata (1.4 kB)\n",
      "Collecting annotated-types>=0.4.0 (from pydantic->pygwalker)\n",
      "  Downloading annotated_types-0.7.0-py3-none-any.whl.metadata (15 kB)\n",
      "Collecting pydantic-core==2.18.3 (from pydantic->pygwalker)\n",
      "  Downloading pydantic_core-2.18.3-cp312-none-win_amd64.whl.metadata (6.7 kB)\n",
      "Collecting greenlet!=0.4.17 (from sqlalchemy->pygwalker)\n",
      "  Downloading greenlet-3.0.3-cp312-cp312-win_amd64.whl.metadata (3.9 kB)\n",
      "Requirement already satisfied: parso<0.9.0,>=0.8.0 in c:\\users\\user\\.conda\\envs\\notebook\\lib\\site-packages (from jedi>=0.16->ipython->pygwalker) (0.8.3)\n",
      "Requirement already satisfied: wcwidth in c:\\users\\user\\.conda\\envs\\notebook\\lib\\site-packages (from prompt-toolkit<3.1.0,>=3.0.41->ipython->pygwalker) (0.2.5)\n",
      "Requirement already satisfied: six>=1.5 in c:\\users\\user\\.conda\\envs\\notebook\\lib\\site-packages (from python-dateutil~=2.2->segment-analytics-python==2.2.3->pygwalker) (1.16.0)\n",
      "Collecting importlib-resources>=5.10 (from wasmtime>=12.0.0->gw-dsl-parser==0.1.49->pygwalker)\n",
      "  Downloading importlib_resources-6.4.0-py3-none-any.whl.metadata (3.9 kB)\n",
      "Requirement already satisfied: executing in c:\\users\\user\\.conda\\envs\\notebook\\lib\\site-packages (from stack-data->ipython->pygwalker) (0.8.3)\n",
      "Requirement already satisfied: asttokens in c:\\users\\user\\.conda\\envs\\notebook\\lib\\site-packages (from stack-data->ipython->pygwalker) (2.0.5)\n",
      "Requirement already satisfied: pure-eval in c:\\users\\user\\.conda\\envs\\notebook\\lib\\site-packages (from stack-data->ipython->pygwalker) (0.2.2)\n",
      "Downloading pygwalker-0.4.8.9-py3-none-any.whl (2.2 MB)\n",
      "   ---------------------------------------- 0.0/2.2 MB ? eta -:--:--\n",
      "   ---------- ----------------------------- 0.6/2.2 MB 12.0 MB/s eta 0:00:01\n",
      "   --------------------- ------------------ 1.2/2.2 MB 12.4 MB/s eta 0:00:01\n",
      "   ----------------------------------- ---- 2.0/2.2 MB 14.1 MB/s eta 0:00:01\n",
      "   ---------------------------------------- 2.2/2.2 MB 12.9 MB/s eta 0:00:00\n",
      "Downloading gw_dsl_parser-0.1.49-py3-none-any.whl (956 kB)\n",
      "   ---------------------------------------- 0.0/956.2 kB ? eta -:--:--\n",
      "   --------------------------------- ----- 819.2/956.2 kB 26.1 MB/s eta 0:00:01\n",
      "   --------------------------------------- 956.2/956.2 kB 12.1 MB/s eta 0:00:00\n",
      "Downloading kanaries_track-0.0.5-py3-none-any.whl (8.6 kB)\n",
      "Downloading segment_analytics_python-2.2.3-py2.py3-none-any.whl (24 kB)\n",
      "Downloading duckdb-0.10.3-cp312-cp312-win_amd64.whl (9.9 MB)\n",
      "   ---------------------------------------- 0.0/9.9 MB ? eta -:--:--\n",
      "   --- ------------------------------------ 1.0/9.9 MB 20.0 MB/s eta 0:00:01\n",
      "   --------- ------------------------------ 2.4/9.9 MB 25.9 MB/s eta 0:00:01\n",
      "   --------------- ------------------------ 3.9/9.9 MB 31.2 MB/s eta 0:00:01\n",
      "   ---------------------- ----------------- 5.7/9.9 MB 33.1 MB/s eta 0:00:01\n",
      "   ------------------------------ --------- 7.6/9.9 MB 32.5 MB/s eta 0:00:01\n",
      "   -------------------------------------- - 9.6/9.9 MB 36.4 MB/s eta 0:00:01\n",
      "   ---------------------------------------  9.9/9.9 MB 33.4 MB/s eta 0:00:01\n",
      "   ---------------------------------------- 9.9/9.9 MB 30.2 MB/s eta 0:00:00\n",
      "Downloading sqlglot-24.1.0-py3-none-any.whl (377 kB)\n",
      "   ---------------------------------------- 0.0/377.3 kB ? eta -:--:--\n",
      "   --------------------------------------- 377.3/377.3 kB 24.5 MB/s eta 0:00:00\n",
      "Downloading appdirs-1.4.4-py2.py3-none-any.whl (9.6 kB)\n",
      "Downloading arrow-1.3.0-py3-none-any.whl (66 kB)\n",
      "   ---------------------------------------- 0.0/66.4 kB ? eta -:--:--\n",
      "   ---------------------------------------- 66.4/66.4 kB 3.5 MB/s eta 0:00:00\n",
      "Downloading astor-0.8.1-py2.py3-none-any.whl (27 kB)\n",
      "Downloading cachetools-5.3.3-py3-none-any.whl (9.3 kB)\n",
      "Downloading ipywidgets-8.1.3-py3-none-any.whl (139 kB)\n",
      "   ---------------------------------------- 0.0/139.4 kB ? eta -:--:--\n",
      "   ---------------------------------------- 139.4/139.4 kB ? eta 0:00:00\n",
      "Downloading pandas-2.2.2-cp312-cp312-win_amd64.whl (11.5 MB)\n",
      "   ---------------------------------------- 0.0/11.5 MB ? eta -:--:--\n",
      "   --- ------------------------------------ 1.1/11.5 MB 34.0 MB/s eta 0:00:01\n",
      "   -------- ------------------------------- 2.5/11.5 MB 31.5 MB/s eta 0:00:01\n",
      "   ------------- -------------------------- 4.0/11.5 MB 32.0 MB/s eta 0:00:01\n",
      "   ----------------- ---------------------- 5.1/11.5 MB 29.6 MB/s eta 0:00:01\n",
      "   ------------------------ --------------- 7.2/11.5 MB 32.8 MB/s eta 0:00:01\n",
      "   ----------------------------- ---------- 8.4/11.5 MB 33.6 MB/s eta 0:00:01\n",
      "   ---------------------------------- ----- 9.8/11.5 MB 33.1 MB/s eta 0:00:01\n",
      "   ---------------------------------------  11.5/11.5 MB 34.4 MB/s eta 0:00:01\n",
      "   ---------------------------------------- 11.5/11.5 MB 31.1 MB/s eta 0:00:00\n",
      "Downloading pyarrow-16.1.0-cp312-cp312-win_amd64.whl (25.8 MB)\n",
      "   ---------------------------------------- 0.0/25.8 MB ? eta -:--:--\n",
      "   -- ------------------------------------- 1.6/25.8 MB 32.9 MB/s eta 0:00:01\n",
      "   ----- ---------------------------------- 3.6/25.8 MB 38.0 MB/s eta 0:00:01\n",
      "   ------- -------------------------------- 5.2/25.8 MB 41.1 MB/s eta 0:00:01\n",
      "   ---------- ----------------------------- 6.9/25.8 MB 40.1 MB/s eta 0:00:01\n",
      "   ------------ --------------------------- 8.4/25.8 MB 41.3 MB/s eta 0:00:01\n",
      "   ------------ --------------------------- 8.4/25.8 MB 41.3 MB/s eta 0:00:01\n",
      "   ------------ --------------------------- 8.4/25.8 MB 41.3 MB/s eta 0:00:01\n",
      "   ------------ --------------------------- 8.4/25.8 MB 41.3 MB/s eta 0:00:01\n",
      "   ------------ --------------------------- 8.4/25.8 MB 41.3 MB/s eta 0:00:01\n",
      "   ------------ --------------------------- 8.4/25.8 MB 41.3 MB/s eta 0:00:01\n",
      "   ------------- -------------------------- 8.5/25.8 MB 17.5 MB/s eta 0:00:01\n",
      "   ---------------- ----------------------- 10.8/25.8 MB 19.3 MB/s eta 0:00:01\n",
      "   ------------------- -------------------- 12.8/25.8 MB 19.3 MB/s eta 0:00:01\n",
      "   ---------------------- ----------------- 14.5/25.8 MB 19.3 MB/s eta 0:00:01\n",
      "   ------------------------- -------------- 16.4/25.8 MB 19.8 MB/s eta 0:00:01\n",
      "   ---------------------------- ----------- 18.2/25.8 MB 18.7 MB/s eta 0:00:01\n",
      "   ------------------------------- -------- 20.0/25.8 MB 40.9 MB/s eta 0:00:01\n",
      "   --------------------------------- ------ 21.9/25.8 MB 40.9 MB/s eta 0:00:01\n",
      "   ----------------------------------- ---- 23.1/25.8 MB 40.9 MB/s eta 0:00:01\n",
      "   ----------------------------------- ---- 23.1/25.8 MB 40.9 MB/s eta 0:00:01\n",
      "   ----------------------------------- ---- 23.1/25.8 MB 27.3 MB/s eta 0:00:01\n",
      "   ----------------------------------- ---- 23.1/25.8 MB 27.3 MB/s eta 0:00:01\n",
      "   ---------------------------------------  25.8/25.8 MB 27.3 MB/s eta 0:00:01\n",
      "   ---------------------------------------  25.8/25.8 MB 27.3 MB/s eta 0:00:01\n",
      "   ---------------------------------------- 25.8/25.8 MB 23.3 MB/s eta 0:00:00\n",
      "Downloading pydantic-2.7.2-py3-none-any.whl (409 kB)\n",
      "   ---------------------------------------- 0.0/409.5 kB ? eta -:--:--\n",
      "   --------------------------------------- 409.5/409.5 kB 25.0 MB/s eta 0:00:00\n",
      "Downloading pydantic_core-2.18.3-cp312-none-win_amd64.whl (1.9 MB)\n",
      "   ---------------------------------------- 0.0/1.9 MB ? eta -:--:--\n",
      "   ------------------------------- -------- 1.5/1.9 MB 30.9 MB/s eta 0:00:01\n",
      "   ---------------------------------------- 1.9/1.9 MB 23.7 MB/s eta 0:00:00\n",
      "Downloading SQLAlchemy-2.0.30-cp312-cp312-win_amd64.whl (2.1 MB)\n",
      "   ---------------------------------------- 0.0/2.1 MB ? eta -:--:--\n",
      "   ---------------------------------------  2.1/2.1 MB 66.4 MB/s eta 0:00:01\n",
      "   ---------------------------------------- 2.1/2.1 MB 44.0 MB/s eta 0:00:00\n",
      "Downloading annotated_types-0.7.0-py3-none-any.whl (13 kB)\n",
      "Downloading backoff-2.2.1-py3-none-any.whl (15 kB)\n",
      "Downloading dateutils-0.6.12-py2.py3-none-any.whl (5.7 kB)\n",
      "Downloading greenlet-3.0.3-cp312-cp312-win_amd64.whl (293 kB)\n",
      "   ---------------------------------------- 0.0/293.6 kB ? eta -:--:--\n",
      "   --------------------------------------- 293.6/293.6 kB 17.7 MB/s eta 0:00:00\n",
      "Downloading jupyterlab_widgets-3.0.11-py3-none-any.whl (214 kB)\n",
      "   ---------------------------------------- 0.0/214.4 kB ? eta -:--:--\n",
      "   --------------------------------------- 214.4/214.4 kB 12.8 MB/s eta 0:00:00\n",
      "Downloading monotonic-1.6-py2.py3-none-any.whl (8.2 kB)\n",
      "Downloading types_python_dateutil-2.9.0.20240316-py3-none-any.whl (9.7 kB)\n",
      "Downloading tzdata-2024.1-py2.py3-none-any.whl (345 kB)\n",
      "   ---------------------------------------- 0.0/345.4 kB ? eta -:--:--\n",
      "   --------------------------------------- 345.4/345.4 kB 20.9 MB/s eta 0:00:00\n",
      "Downloading wasmtime-21.0.0-py3-none-win_amd64.whl (4.4 MB)\n",
      "   ---------------------------------------- 0.0/4.4 MB ? eta -:--:--\n",
      "   -------------- ------------------------- 1.6/4.4 MB 48.6 MB/s eta 0:00:01\n",
      "   -------------- ------------------------- 1.6/4.4 MB 48.6 MB/s eta 0:00:01\n",
      "   -------------------------- ------------- 2.9/4.4 MB 20.5 MB/s eta 0:00:01\n",
      "   ---------------------------------- ----- 3.8/4.4 MB 20.0 MB/s eta 0:00:01\n",
      "   ------------------------------------- -- 4.2/4.4 MB 17.6 MB/s eta 0:00:01\n",
      "   ---------------------------------------- 4.4/4.4 MB 17.5 MB/s eta 0:00:00\n",
      "Downloading widgetsnbextension-4.0.11-py3-none-any.whl (2.3 MB)\n",
      "   ---------------------------------------- 0.0/2.3 MB ? eta -:--:--\n",
      "   ------------------------ --------------- 1.4/2.3 MB 30.1 MB/s eta 0:00:01\n",
      "   ---------------------------------------- 2.3/2.3 MB 29.8 MB/s eta 0:00:00\n",
      "Downloading importlib_resources-6.4.0-py3-none-any.whl (38 kB)\n",
      "Installing collected packages: monotonic, appdirs, widgetsnbextension, tzdata, types-python-dateutil, sqlglot, pydantic-core, pyarrow, jupyterlab-widgets, importlib-resources, greenlet, duckdb, cachetools, backoff, astor, annotated-types, wasmtime, sqlalchemy, segment-analytics-python, pydantic, pandas, dateutils, arrow, kanaries-track, gw-dsl-parser, ipywidgets, pygwalker\n",
      "Successfully installed annotated-types-0.7.0 appdirs-1.4.4 arrow-1.3.0 astor-0.8.1 backoff-2.2.1 cachetools-5.3.3 dateutils-0.6.12 duckdb-0.10.3 greenlet-3.0.3 gw-dsl-parser-0.1.49 importlib-resources-6.4.0 ipywidgets-8.1.3 jupyterlab-widgets-3.0.11 kanaries-track-0.0.5 monotonic-1.6 pandas-2.2.2 pyarrow-16.1.0 pydantic-2.7.2 pydantic-core-2.18.3 pygwalker-0.4.8.9 segment-analytics-python-2.2.3 sqlalchemy-2.0.30 sqlglot-24.1.0 types-python-dateutil-2.9.0.20240316 tzdata-2024.1 wasmtime-21.0.0 widgetsnbextension-4.0.11\n",
      "Note: you may need to restart the kernel to use updated packages.\n"
     ]
    }
   ],
   "source": [
    "pip install pygwalker"
   ]
  },
  {
   "cell_type": "code",
   "execution_count": 19,
   "id": "964ef272-7ab3-4227-a646-8bb1b8ec86b3",
   "metadata": {},
   "outputs": [
    {
     "name": "stdout",
     "output_type": "stream",
     "text": [
      "Requirement already satisfied: pandas in c:\\users\\user\\.conda\\envs\\notebook\\lib\\site-packages (2.2.2)\n",
      "Requirement already satisfied: numpy>=1.26.0 in c:\\users\\user\\.conda\\envs\\notebook\\lib\\site-packages (from pandas) (1.26.4)\n",
      "Requirement already satisfied: python-dateutil>=2.8.2 in c:\\users\\user\\.conda\\envs\\notebook\\lib\\site-packages (from pandas) (2.9.0.post0)\n",
      "Requirement already satisfied: pytz>=2020.1 in c:\\users\\user\\.conda\\envs\\notebook\\lib\\site-packages (from pandas) (2024.1)\n",
      "Requirement already satisfied: tzdata>=2022.7 in c:\\users\\user\\.conda\\envs\\notebook\\lib\\site-packages (from pandas) (2024.1)\n",
      "Requirement already satisfied: six>=1.5 in c:\\users\\user\\.conda\\envs\\notebook\\lib\\site-packages (from python-dateutil>=2.8.2->pandas) (1.16.0)\n",
      "Note: you may need to restart the kernel to use updated packages.\n"
     ]
    }
   ],
   "source": [
    "pip install pandas"
   ]
  },
  {
   "cell_type": "code",
   "execution_count": null,
   "id": "19f16a6e-2e61-442a-996d-e587c9dcceb9",
   "metadata": {},
   "outputs": [],
   "source": []
  }
 ],
 "metadata": {
  "kernelspec": {
   "display_name": "Python 3 (ipykernel)",
   "language": "python",
   "name": "python3"
  },
  "language_info": {
   "codemirror_mode": {
    "name": "ipython",
    "version": 3
   },
   "file_extension": ".py",
   "mimetype": "text/x-python",
   "name": "python",
   "nbconvert_exporter": "python",
   "pygments_lexer": "ipython3",
   "version": "3.12.3"
  }
 },
 "nbformat": 4,
 "nbformat_minor": 5
}
