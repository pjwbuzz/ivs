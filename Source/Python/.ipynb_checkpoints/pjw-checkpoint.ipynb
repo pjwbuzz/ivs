{
 "cells": [
  {
   "cell_type": "code",
   "execution_count": null,
   "id": "b700b9d9-c022-4c23-ba08-d596d17ac233",
   "metadata": {},
   "outputs": [],
   "source": [
    "def solution(survey, choices):\n",
    "    test = {\"R\":0, \"T\":0,\n",
    "               \"C\":0,\"F\":0,\n",
    "               \"J\":0,\"M\":0,\n",
    "               \"A\":0,\"N\":0}\n",
    "    answer = []\n",
    "    for i in range(len(survey)):        \n",
    "        test[survey[i][0]] += (4-choices[i])\n",
    "    print(test)\n",
    "    if(test[\"R\"]>=test[\"T\"]):\n",
    "        answer+=(\"R\")\n",
    "    else:\n",
    "        answer.extend(\"T\")\n",
    "\n",
    "\n",
    "    if(test[\"C\"]>=test[\"F\"]):\n",
    "        answer.extend(\"C\")\n",
    "    else:\n",
    "        answer.extend(\"F\")\n",
    "\n",
    "\n",
    "    if(test[\"J\"]>=test[\"M\"]):\n",
    "        answer.extend(\"J\")\n",
    "    else:\n",
    "        answer.extend(\"M\")\n",
    "\n",
    "    if(test[\"A\"]>=test[\"N\"]):\n",
    "        answer.extend(\"A\")\n",
    "    else:\n",
    "        answer.extend(\"N\")\n",
    "\n",
    "            \n",
    "    return answer[0]+answer[1]+answer[2]+answer[3]\n",
    "\n",
    "\n",
    "#지표번호, 성격유형 2개씩 R/T , C/F, J/M, A/N\n",
    "#매우=3 일반=2 약간=1 모르겠음 =0\n",
    "#가장 높은 점수를 받은 성격유형 판단\n",
    "#점수가 같으면 사전순으로 빠른 성격유형\n",
    "#판단지표 survey 문자열[\"TR\", \"RT\", \"TR\"]\n",
    "#선택지 choises 매개변수 정수배열[7, 1, 3]\n",
    "#1 = -3 부터 7=3 까지 +1 ,TR중 앞에꺼 기준\n",
    "        # if('R' in survey[i]): #R/T  RT인지 TR인지. \n",
    "        #     test[survey[i][0]] += (choises-4)\n",
    "        # if('C' in survey[i]): #C/F\n",
    "        # if('J' in survey[i]): #J/M\n",
    "        # if('A' in survey[i]): #A/N\n"
   ]
  }
 ],
 "metadata": {
  "kernelspec": {
   "display_name": "Python 3 (ipykernel)",
   "language": "python",
   "name": "python3"
  },
  "language_info": {
   "codemirror_mode": {
    "name": "ipython",
    "version": 3
   },
   "file_extension": ".py",
   "mimetype": "text/x-python",
   "name": "python",
   "nbconvert_exporter": "python",
   "pygments_lexer": "ipython3",
   "version": "3.12.3"
  }
 },
 "nbformat": 4,
 "nbformat_minor": 5
}
